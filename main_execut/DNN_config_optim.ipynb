{
 "cells": [
  {
   "cell_type": "code",
   "execution_count": 1,
   "metadata": {},
   "outputs": [
    {
     "name": "stdout",
     "output_type": "stream",
     "text": [
      "Number of components retained: 1\n",
      "Explained variance ratio: [0.1512764]\n",
      "Total explained variance: 0.15127640050410007\n",
      "\n",
      "Number of components retained: 2\n",
      "Explained variance ratio: [0.1512764  0.11456862]\n",
      "Total explained variance: 0.26584502204292565\n",
      "\n",
      "Number of components retained: 3\n",
      "Explained variance ratio: [0.1512764  0.11456862 0.11279784]\n",
      "Total explained variance: 0.3786428581986182\n",
      "\n",
      "Number of components retained: 4\n",
      "Explained variance ratio: [0.1512764  0.11456862 0.11279784 0.07583122]\n",
      "Total explained variance: 0.45447408233761805\n",
      "\n",
      "Number of components retained: 5\n",
      "Explained variance ratio: [0.1512764  0.11456862 0.11279784 0.07583122 0.06793412]\n",
      "Total explained variance: 0.5224082050209912\n",
      "\n",
      "Number of components retained: 6\n",
      "Explained variance ratio: [0.1512764  0.11456862 0.11279784 0.07583122 0.06793412 0.06538964]\n",
      "Total explained variance: 0.5877978457756571\n",
      "\n",
      "Number of components retained: 7\n",
      "Explained variance ratio: [0.1512764  0.11456862 0.11279784 0.07583122 0.06793412 0.06538964\n",
      " 0.06459429]\n",
      "Total explained variance: 0.6523921328391138\n",
      "\n",
      "Number of components retained: 8\n",
      "Explained variance ratio: [0.1512764  0.11456862 0.11279784 0.07583122 0.06793412 0.06538964\n",
      " 0.06459429 0.0597988 ]\n",
      "Total explained variance: 0.7121909336555177\n",
      "\n",
      "Number of components retained: 9\n",
      "Explained variance ratio: [0.1512764  0.11456862 0.11279784 0.07583122 0.06793412 0.06538964\n",
      " 0.06459429 0.0597988  0.05349828]\n",
      "Total explained variance: 0.7656892106646437\n",
      "\n",
      "Number of components retained: 10\n",
      "Explained variance ratio: [0.1512764  0.11456862 0.11279784 0.07583122 0.06793412 0.06538964\n",
      " 0.06459429 0.0597988  0.05349828 0.05127824]\n",
      "Total explained variance: 0.8169674496928658\n",
      "\n",
      "Number of components retained: 11\n",
      "Explained variance ratio: [0.1512764  0.11456862 0.11279784 0.07583122 0.06793412 0.06538964\n",
      " 0.06459429 0.0597988  0.05349828 0.05127824 0.04819522]\n",
      "Total explained variance: 0.8651626693912882\n",
      "\n",
      "Number of components retained: 12\n",
      "Explained variance ratio: [0.1512764  0.11456862 0.11279784 0.07583122 0.06793412 0.06538964\n",
      " 0.06459429 0.0597988  0.05349828 0.05127824 0.04819522 0.04711427]\n",
      "Total explained variance: 0.91227693969483\n",
      "\n",
      "Number of components retained: 13\n",
      "Explained variance ratio: [0.1512764  0.11456862 0.11279784 0.07583122 0.06793412 0.06538964\n",
      " 0.06459429 0.0597988  0.05349828 0.05127824 0.04819522 0.04711427\n",
      " 0.04250873]\n",
      "Total explained variance: 0.9547856672233722\n",
      "\n",
      "Number of components retained: 14\n",
      "Explained variance ratio: [0.1512764  0.11456862 0.11279784 0.07583122 0.06793412 0.06538964\n",
      " 0.06459429 0.0597988  0.05349828 0.05127824 0.04819522 0.04711427\n",
      " 0.04250873 0.03732175]\n",
      "Total explained variance: 0.992107421747392\n",
      "\n",
      "Number of components retained: 15\n",
      "Explained variance ratio: [0.1512764  0.11456862 0.11279784 0.07583122 0.06793412 0.06538964\n",
      " 0.06459429 0.0597988  0.05349828 0.05127824 0.04819522 0.04711427\n",
      " 0.04250873 0.03732175 0.00789258]\n",
      "Total explained variance: 0.9999999999999999\n",
      "\n",
      "Number of components retained: 16\n",
      "Explained variance ratio: [0.1512764  0.11456862 0.11279784 0.07583122 0.06793412 0.06538964\n",
      " 0.06459429 0.0597988  0.05349828 0.05127824 0.04819522 0.04711427\n",
      " 0.04250873 0.03732175 0.00789258 0.        ]\n",
      "Total explained variance: 0.9999999999999999\n",
      "\n",
      "Training set shape: (140, 14)\n",
      "Test set shape: (47, 14)\n",
      "Training labels shape: (140, 36)\n",
      "Test labels shape: (47, 36)\n"
     ]
    }
   ],
   "source": [
    "import pandas as pd\n",
    "import numpy as np\n",
    "from sklearn.preprocessing import MinMaxScaler\n",
    "from sklearn.decomposition import PCA\n",
    "from sklearn.model_selection import train_test_split\n",
    "import sys\n",
    "import torch\n",
    "from torch_DNN_class_v2 import  ANNModel\n",
    "\n",
    "\n",
    "all_columns = [\"Fy_steel\", \"E_steel\", \"Gama_steel\", \"Nu_steel\", \"tT_Top_tower\", \"tT_Bot_tower\", \n",
    "               \"thickness_monopile\", \"M_nacelle\", \"M_hub\", \"M_blade\", \"GammaSoil\", \"Phi_soil\", \n",
    "               \"G_soil\", \"VAve_Wind\", \"Hs_Wave\", \"Damping\", \n",
    "               \"TowerTopDisp_IM1_a\", \"TowerTopDisp_IM1_b\", \"TowerTopDisp_IM1_Beta\", \n",
    "               \"TowerTopAcc_IM2_a\", \"TowerTopDisp_IM2_b\", \"TowerTopDisp_IM2_Beta\", \n",
    "               \"TowerTopDisp_IM3_a\", \"TowerTopDisp_IM3_b\", \"TowerTopDisp_IM3_Beta\"]\n",
    "\n",
    "# Separate features and labels\n",
    "features = all_columns[:16]\n",
    "labels = all_columns[16:]\n",
    "\n",
    "sheets = pd.read_excel(file_path, sheet_name=None)\n",
    "\n",
    "\n",
    "dfs = []\n",
    "\n",
    "for sheet_name, df in sheets.items():\n",
    "    assert set(all_columns).issubset(df.columns), f\"Missing columns in sheet {sheet_name}\"\n",
    "\n",
    "    df = df[all_columns]\n",
    "    label_rename = {label: f\"{label}_{sheet_name}\" for label in labels}\n",
    "    df = df.rename(columns=label_rename)\n",
    "\n",
    "    dfs.append(df)\n",
    "\n",
    "combined_df = pd.concat(dfs, axis=1)\n",
    "\n",
    "final_df = combined_df.loc[:, ~combined_df.columns.duplicated()]\n",
    "\n",
    "expected_columns = len(features) + len(labels) * len(sheets)\n",
    "assert final_df.shape[1] == expected_columns, f\"Expected {expected_columns} columns, got {final_df.shape[1]}\"\n",
    "\n",
    "X = final_df[features].values\n",
    "y = final_df.iloc[:, 16:].values\n",
    "scaler = MinMaxScaler()\n",
    "X_scaled = scaler.fit_transform(X)\n",
    "\n",
    "for n_components in range(1, len(features) + 1):\n",
    "    pca = PCA(n_components=n_components)\n",
    "    X_pca = pca.fit_transform(X_scaled)  # Apply PCA to scaled features\n",
    "    print(f\"Number of components retained: {n_components}\")\n",
    "    print(f\"Explained variance ratio: {pca.explained_variance_ratio_}\")\n",
    "    print(f\"Total explained variance: {sum(pca.explained_variance_ratio_)}\")\n",
    "    print()\n",
    "\n",
    "optimal_n_components = 0.99 \n",
    "\n",
    "pca = PCA(n_components=optimal_n_components)\n",
    "X_pca = pca.fit_transform(X_scaled)\n",
    "\n",
    "scaler = MinMaxScaler()\n",
    "X_pca_scaled = scaler.fit_transform(X_pca)\n",
    "\n",
    "X_train, X_test, y_train, y_test = train_test_split(X_pca_scaled, y, test_size=0.25, random_state=99, shuffle=True)\n",
    "    \n",
    "print(f\"Training set shape: {X_train.shape}\")\n",
    "print(f\"Test set shape: {X_test.shape}\")\n",
    "print(f\"Training labels shape: {y_train.shape}\")\n",
    "print(f\"Test labels shape: {y_test.shape}\")"
   ]
  },
  {
   "cell_type": "code",
   "execution_count": 2,
   "metadata": {},
   "outputs": [
    {
     "name": "stderr",
     "output_type": "stream",
     "text": [
      "[I 2024-08-24 02:35:12,672] A new study created in RDB with name: dnn_optimization_study_v1\n",
      "[I 2024-08-24 02:35:18,367] Trial 0 finished with value: 0.05781478062272072 and parameters: {'num_hidden_layers': 6, 'neurons_layer_0': 128, 'neurons_layer_1': 128, 'neurons_layer_2': 128, 'neurons_layer_3': 256, 'neurons_layer_4': 128, 'neurons_layer_5': 256, 'use_dropout_1': False, 'use_dropout_2': False, 'use_dropout_3': False, 'use_dropout_4': True, 'dropout_prob_4': 0.28140549728612524, 'use_dropout_5': True, 'dropout_prob_5': 0.32339518335564726, 'num_res_connections': 1, 'res_layer_index_0': 1, 'num_sources_0': 1, 'source_0_0': 0, 'hidden_activation': 'ReLU', 'learning_rate': 0.00023233503515390126, 'optimizer_name': 'AdamW', 'use_weight_decay': True, 'weight_decay': 4.467752817973903e-05, 'model_seed': 3117, 'batch_size': 32}. Best is trial 0 with value: 0.05781478062272072.\n"
     ]
    },
    {
     "name": "stdout",
     "output_type": "stream",
     "text": [
      "Early stopping triggered after 270 epochs\n",
      "Trial 0 finished with value: 0.0578\n",
      "Best trial so far: 0 with value: 0.0578\n"
     ]
    },
    {
     "name": "stderr",
     "output_type": "stream",
     "text": [
      "[I 2024-08-24 02:35:26,703] Trial 1 finished with value: 0.05466629937291145 and parameters: {'num_hidden_layers': 10, 'neurons_layer_0': 512, 'neurons_layer_1': 256, 'neurons_layer_2': 256, 'neurons_layer_3': 128, 'neurons_layer_4': 512, 'neurons_layer_5': 256, 'neurons_layer_6': 512, 'neurons_layer_7': 512, 'neurons_layer_8': 256, 'neurons_layer_9': 128, 'use_dropout_1': False, 'use_dropout_2': False, 'use_dropout_3': False, 'use_dropout_4': True, 'dropout_prob_4': 0.37096015425034773, 'use_dropout_5': True, 'dropout_prob_5': 0.39693523097955247, 'use_dropout_6': False, 'use_dropout_7': True, 'dropout_prob_7': 0.09855114214698701, 'use_dropout_8': False, 'use_dropout_9': False, 'num_res_connections': 9, 'res_layer_index_0': 3, 'num_sources_0': 1, 'source_0_0': 2, 'res_layer_index_1': 3, 'num_sources_1': 0, 'res_layer_index_2': 3, 'num_sources_2': 0, 'res_layer_index_3': 9, 'num_sources_3': 8, 'source_3_0': 5, 'source_3_1': 7, 'source_3_2': 7, 'source_3_3': 0, 'source_3_4': 7, 'source_3_5': 4, 'source_3_6': 7, 'source_3_7': 7, 'res_layer_index_4': 3, 'num_sources_4': 0, 'res_layer_index_5': 3, 'num_sources_5': 1, 'source_5_0': 2, 'res_layer_index_6': 8, 'num_sources_6': 0, 'res_layer_index_7': 5, 'num_sources_7': 2, 'source_7_0': 0, 'source_7_1': -1, 'res_layer_index_8': 4, 'num_sources_8': 4, 'source_8_0': 0, 'source_8_1': 1, 'source_8_2': 2, 'source_8_3': 0, 'hidden_activation': 'ReLU', 'learning_rate': 0.000715354779469316, 'optimizer_name': 'Adam', 'use_weight_decay': True, 'weight_decay': 1.3019246714361568e-06, 'model_seed': 9082, 'batch_size': 32}. Best is trial 1 with value: 0.05466629937291145.\n"
     ]
    },
    {
     "name": "stdout",
     "output_type": "stream",
     "text": [
      "Early stopping triggered after 187 epochs\n",
      "Trial 1 finished with value: 0.0547\n",
      "Best trial so far: 1 with value: 0.0547\n"
     ]
    },
    {
     "name": "stderr",
     "output_type": "stream",
     "text": [
      "[I 2024-08-24 02:35:52,720] Trial 2 finished with value: 0.07237636297941208 and parameters: {'num_hidden_layers': 8, 'neurons_layer_0': 128, 'neurons_layer_1': 512, 'neurons_layer_2': 512, 'neurons_layer_3': 128, 'neurons_layer_4': 256, 'neurons_layer_5': 512, 'neurons_layer_6': 256, 'neurons_layer_7': 128, 'use_dropout_1': False, 'use_dropout_2': True, 'dropout_prob_2': 0.34699282071538057, 'use_dropout_3': True, 'dropout_prob_3': 0.28834276026020295, 'use_dropout_4': True, 'dropout_prob_4': 0.453747091078997, 'use_dropout_5': True, 'dropout_prob_5': 0.2025634059719153, 'use_dropout_6': False, 'use_dropout_7': True, 'dropout_prob_7': 0.40094399563593075, 'num_res_connections': 5, 'res_layer_index_0': 1, 'num_sources_0': 0, 'res_layer_index_1': 7, 'num_sources_1': 4, 'source_1_0': -1, 'source_1_1': -1, 'source_1_2': 4, 'source_1_3': -1, 'res_layer_index_2': 2, 'num_sources_2': 1, 'source_2_0': 1, 'res_layer_index_3': 5, 'num_sources_3': 1, 'source_3_0': 3, 'res_layer_index_4': 2, 'num_sources_4': 0, 'hidden_activation': 'GELU', 'learning_rate': 0.000190996013855054, 'optimizer_name': 'AdamW', 'use_weight_decay': False, 'model_seed': 3931, 'batch_size': 4}. Best is trial 1 with value: 0.05466629937291145.\n"
     ]
    },
    {
     "name": "stdout",
     "output_type": "stream",
     "text": [
      "Early stopping triggered after 179 epochs\n",
      "Trial 2 finished with value: 0.0724\n",
      "Best trial so far: 1 with value: 0.0547\n"
     ]
    },
    {
     "name": "stderr",
     "output_type": "stream",
     "text": [
      "[I 2024-08-24 02:35:59,763] Trial 3 finished with value: 0.06151112914085388 and parameters: {'num_hidden_layers': 7, 'neurons_layer_0': 256, 'neurons_layer_1': 256, 'neurons_layer_2': 256, 'neurons_layer_3': 512, 'neurons_layer_4': 256, 'neurons_layer_5': 128, 'neurons_layer_6': 128, 'use_dropout_1': False, 'use_dropout_2': True, 'dropout_prob_2': 0.09372942219684585, 'use_dropout_3': False, 'use_dropout_4': False, 'use_dropout_5': True, 'dropout_prob_5': 0.36365708344787057, 'use_dropout_6': True, 'dropout_prob_6': 0.18211632991902205, 'num_res_connections': 5, 'res_layer_index_0': 5, 'num_sources_0': 5, 'source_0_0': 4, 'source_0_1': 2, 'source_0_2': 2, 'source_0_3': 3, 'source_0_4': 2, 'res_layer_index_1': 5, 'num_sources_1': 4, 'source_1_0': 4, 'source_1_1': 1, 'source_1_2': 1, 'source_1_3': -1, 'res_layer_index_2': 4, 'num_sources_2': 0, 'res_layer_index_3': 3, 'num_sources_3': 2, 'source_3_0': 0, 'source_3_1': 1, 'res_layer_index_4': 1, 'num_sources_4': 0, 'hidden_activation': 'ReLU', 'learning_rate': 0.0004440819102643446, 'optimizer_name': 'AdamW', 'use_weight_decay': False, 'model_seed': 5406, 'batch_size': 16}. Best is trial 1 with value: 0.05466629937291145.\n"
     ]
    },
    {
     "name": "stdout",
     "output_type": "stream",
     "text": [
      "Early stopping triggered after 155 epochs\n",
      "Trial 3 finished with value: 0.0615\n",
      "Best trial so far: 1 with value: 0.0547\n"
     ]
    },
    {
     "name": "stderr",
     "output_type": "stream",
     "text": [
      "[I 2024-08-24 02:36:05,539] Trial 4 finished with value: 0.0532466284930706 and parameters: {'num_hidden_layers': 9, 'neurons_layer_0': 256, 'neurons_layer_1': 256, 'neurons_layer_2': 128, 'neurons_layer_3': 512, 'neurons_layer_4': 128, 'neurons_layer_5': 128, 'neurons_layer_6': 128, 'neurons_layer_7': 256, 'neurons_layer_8': 128, 'use_dropout_1': True, 'dropout_prob_1': 0.26337822308929637, 'use_dropout_2': False, 'use_dropout_3': True, 'dropout_prob_3': 0.24523324215708786, 'use_dropout_4': False, 'use_dropout_5': True, 'dropout_prob_5': 0.21857567658191207, 'use_dropout_6': True, 'dropout_prob_6': 0.435420428534745, 'use_dropout_7': True, 'dropout_prob_7': 0.08175593633019343, 'use_dropout_8': True, 'dropout_prob_8': 0.3135990115730585, 'num_res_connections': 8, 'res_layer_index_0': 5, 'num_sources_0': 2, 'source_0_0': 2, 'source_0_1': 1, 'res_layer_index_1': 5, 'num_sources_1': 5, 'source_1_0': 1, 'source_1_1': 4, 'source_1_2': 4, 'source_1_3': 0, 'source_1_4': -1, 'res_layer_index_2': 1, 'num_sources_2': 0, 'res_layer_index_3': 1, 'num_sources_3': 1, 'source_3_0': -1, 'res_layer_index_4': 3, 'num_sources_4': 3, 'source_4_0': -1, 'source_4_1': 2, 'source_4_2': 0, 'res_layer_index_5': 1, 'num_sources_5': 1, 'source_5_0': 0, 'res_layer_index_6': 8, 'num_sources_6': 6, 'source_6_0': 6, 'source_6_1': 1, 'source_6_2': 0, 'source_6_3': 5, 'source_6_4': 6, 'source_6_5': 7, 'res_layer_index_7': 4, 'num_sources_7': 1, 'source_7_0': 2, 'hidden_activation': 'ELU', 'learning_rate': 0.0183496853769405, 'optimizer_name': 'Adam', 'use_weight_decay': False, 'model_seed': 3201, 'batch_size': 32}. Best is trial 4 with value: 0.0532466284930706.\n"
     ]
    },
    {
     "name": "stdout",
     "output_type": "stream",
     "text": [
      "Early stopping triggered after 112 epochs\n",
      "Trial 4 finished with value: 0.0532\n",
      "Best trial so far: 4 with value: 0.0532\n"
     ]
    },
    {
     "name": "stderr",
     "output_type": "stream",
     "text": [
      "[I 2024-08-24 02:36:14,284] Trial 5 finished with value: 0.05849674716591835 and parameters: {'num_hidden_layers': 6, 'neurons_layer_0': 256, 'neurons_layer_1': 128, 'neurons_layer_2': 512, 'neurons_layer_3': 128, 'neurons_layer_4': 512, 'neurons_layer_5': 256, 'use_dropout_1': False, 'use_dropout_2': True, 'dropout_prob_2': 0.0955052042552556, 'use_dropout_3': False, 'use_dropout_4': False, 'use_dropout_5': True, 'dropout_prob_5': 0.08817697133833637, 'num_res_connections': 5, 'res_layer_index_0': 2, 'num_sources_0': 1, 'source_0_0': 1, 'res_layer_index_1': 5, 'num_sources_1': 5, 'source_1_0': 3, 'source_1_1': 1, 'source_1_2': -1, 'source_1_3': 3, 'source_1_4': 2, 'res_layer_index_2': 3, 'num_sources_2': 3, 'source_2_0': -1, 'source_2_1': 0, 'source_2_2': -1, 'res_layer_index_3': 3, 'num_sources_3': 0, 'res_layer_index_4': 1, 'num_sources_4': 0, 'hidden_activation': 'SiLU', 'learning_rate': 0.0007196747387983497, 'optimizer_name': 'AdamW', 'use_weight_decay': True, 'weight_decay': 0.0007577314388518506, 'model_seed': 432, 'batch_size': 16}. Best is trial 4 with value: 0.0532466284930706.\n"
     ]
    },
    {
     "name": "stdout",
     "output_type": "stream",
     "text": [
      "Early stopping triggered after 221 epochs\n",
      "Trial 5 finished with value: 0.0585\n",
      "Best trial so far: 4 with value: 0.0532\n"
     ]
    },
    {
     "name": "stderr",
     "output_type": "stream",
     "text": [
      "[I 2024-08-24 02:37:02,932] Trial 6 finished with value: 0.08870401233434677 and parameters: {'num_hidden_layers': 10, 'neurons_layer_0': 512, 'neurons_layer_1': 256, 'neurons_layer_2': 128, 'neurons_layer_3': 128, 'neurons_layer_4': 128, 'neurons_layer_5': 512, 'neurons_layer_6': 512, 'neurons_layer_7': 128, 'neurons_layer_8': 128, 'neurons_layer_9': 512, 'use_dropout_1': True, 'dropout_prob_1': 0.2382093663307785, 'use_dropout_2': True, 'dropout_prob_2': 0.07034840154778524, 'use_dropout_3': False, 'use_dropout_4': False, 'use_dropout_5': False, 'use_dropout_6': False, 'use_dropout_7': True, 'dropout_prob_7': 0.26091192190773665, 'use_dropout_8': True, 'dropout_prob_8': 0.07536897349291721, 'use_dropout_9': True, 'dropout_prob_9': 0.4998729529787588, 'num_res_connections': 9, 'res_layer_index_0': 5, 'num_sources_0': 4, 'source_0_0': 4, 'source_0_1': 4, 'source_0_2': 0, 'source_0_3': 1, 'res_layer_index_1': 2, 'num_sources_1': 2, 'source_1_0': 0, 'source_1_1': -1, 'res_layer_index_2': 7, 'num_sources_2': 4, 'source_2_0': 1, 'source_2_1': -1, 'source_2_2': 4, 'source_2_3': 3, 'res_layer_index_3': 7, 'num_sources_3': 4, 'source_3_0': 5, 'source_3_1': 3, 'source_3_2': 3, 'source_3_3': 6, 'res_layer_index_4': 4, 'num_sources_4': 0, 'res_layer_index_5': 1, 'num_sources_5': 1, 'source_5_0': 0, 'res_layer_index_6': 7, 'num_sources_6': 1, 'source_6_0': 0, 'res_layer_index_7': 1, 'num_sources_7': 0, 'res_layer_index_8': 6, 'num_sources_8': 2, 'source_8_0': 2, 'source_8_1': 5, 'hidden_activation': 'GELU', 'learning_rate': 0.03864480553672628, 'optimizer_name': 'AdamW', 'use_weight_decay': True, 'weight_decay': 1.0788909575795388e-06, 'model_seed': 4591, 'batch_size': 4}. Best is trial 4 with value: 0.0532466284930706.\n"
     ]
    },
    {
     "name": "stdout",
     "output_type": "stream",
     "text": [
      "Early stopping triggered after 147 epochs\n",
      "Trial 6 finished with value: 0.0887\n",
      "Best trial so far: 4 with value: 0.0532\n"
     ]
    },
    {
     "name": "stderr",
     "output_type": "stream",
     "text": [
      "[I 2024-08-24 02:37:20,505] Trial 7 finished with value: 0.05287186801433563 and parameters: {'num_hidden_layers': 4, 'neurons_layer_0': 512, 'neurons_layer_1': 256, 'neurons_layer_2': 256, 'neurons_layer_3': 128, 'use_dropout_1': False, 'use_dropout_2': True, 'dropout_prob_2': 0.08991614019067504, 'use_dropout_3': False, 'num_res_connections': 0, 'hidden_activation': 'LeakyReLU', 'learning_rate': 0.007650699925531632, 'optimizer_name': 'Adam', 'use_weight_decay': True, 'weight_decay': 1.2808863354047974e-06, 'model_seed': 8062, 'batch_size': 4}. Best is trial 7 with value: 0.05287186801433563.\n"
     ]
    },
    {
     "name": "stdout",
     "output_type": "stream",
     "text": [
      "Early stopping triggered after 174 epochs\n",
      "Trial 7 finished with value: 0.0529\n",
      "Best trial so far: 7 with value: 0.0529\n"
     ]
    },
    {
     "name": "stderr",
     "output_type": "stream",
     "text": [
      "[I 2024-08-24 02:37:22,662] Trial 8 finished with value: 76.90850067138672 and parameters: {'num_hidden_layers': 8, 'neurons_layer_0': 512, 'neurons_layer_1': 512, 'neurons_layer_2': 128, 'neurons_layer_3': 512, 'neurons_layer_4': 512, 'neurons_layer_5': 256, 'neurons_layer_6': 512, 'neurons_layer_7': 512, 'use_dropout_1': True, 'dropout_prob_1': 0.2916979438183465, 'use_dropout_2': False, 'use_dropout_3': True, 'dropout_prob_3': 0.177699157609426, 'use_dropout_4': False, 'use_dropout_5': True, 'dropout_prob_5': 0.49393186195684086, 'use_dropout_6': True, 'dropout_prob_6': 0.09580211267918168, 'use_dropout_7': False, 'num_res_connections': 1, 'res_layer_index_0': 2, 'num_sources_0': 0, 'hidden_activation': 'ELU', 'learning_rate': 0.08853925242554327, 'optimizer_name': 'Adam', 'use_weight_decay': True, 'weight_decay': 0.00018547624023999116, 'model_seed': 2579, 'batch_size': 16}. Best is trial 7 with value: 0.05287186801433563.\n"
     ]
    },
    {
     "name": "stdout",
     "output_type": "stream",
     "text": [
      "Early stopping triggered after 63 epochs\n",
      "Trial 8 finished with value: 76.9085\n",
      "Best trial so far: 7 with value: 0.0529\n"
     ]
    },
    {
     "name": "stderr",
     "output_type": "stream",
     "text": [
      "[I 2024-08-24 02:37:26,310] Trial 9 finished with value: 0.11199656873941422 and parameters: {'num_hidden_layers': 5, 'neurons_layer_0': 128, 'neurons_layer_1': 256, 'neurons_layer_2': 256, 'neurons_layer_3': 128, 'neurons_layer_4': 128, 'use_dropout_1': True, 'dropout_prob_1': 0.49548210457547537, 'use_dropout_2': False, 'use_dropout_3': False, 'use_dropout_4': True, 'dropout_prob_4': 0.2622092848475713, 'num_res_connections': 2, 'res_layer_index_0': 2, 'num_sources_0': 2, 'source_0_0': 1, 'source_0_1': 1, 'res_layer_index_1': 1, 'num_sources_1': 1, 'source_1_0': 0, 'hidden_activation': 'LeakyReLU', 'learning_rate': 0.0002626135496207919, 'optimizer_name': 'AdamW', 'use_weight_decay': False, 'model_seed': 8145, 'batch_size': 32}. Best is trial 7 with value: 0.05287186801433563.\n"
     ]
    },
    {
     "name": "stdout",
     "output_type": "stream",
     "text": [
      "Early stopping triggered after 195 epochs\n",
      "Trial 9 finished with value: 0.1120\n",
      "Best trial so far: 7 with value: 0.0529\n"
     ]
    },
    {
     "name": "stderr",
     "output_type": "stream",
     "text": [
      "[I 2024-08-24 02:37:47,596] Trial 10 finished with value: 0.07566288858652115 and parameters: {'num_hidden_layers': 9, 'neurons_layer_0': 512, 'neurons_layer_1': 256, 'neurons_layer_2': 256, 'neurons_layer_3': 256, 'neurons_layer_4': 256, 'neurons_layer_5': 512, 'neurons_layer_6': 512, 'neurons_layer_7': 128, 'neurons_layer_8': 256, 'use_dropout_1': False, 'use_dropout_2': True, 'dropout_prob_2': 0.4195657871024058, 'use_dropout_3': False, 'use_dropout_4': False, 'use_dropout_5': True, 'dropout_prob_5': 0.15316312785468866, 'use_dropout_6': True, 'dropout_prob_6': 0.3385164347983838, 'use_dropout_7': True, 'dropout_prob_7': 0.16330957650812875, 'use_dropout_8': True, 'dropout_prob_8': 0.45880275260013276, 'num_res_connections': 5, 'res_layer_index_0': 4, 'num_sources_0': 2, 'source_0_0': 3, 'source_0_1': -1, 'res_layer_index_1': 5, 'num_sources_1': 3, 'source_1_0': 2, 'source_1_1': -1, 'source_1_2': 4, 'res_layer_index_2': 8, 'num_sources_2': 5, 'source_2_0': 5, 'source_2_1': 7, 'source_2_2': 5, 'source_2_3': 0, 'source_2_4': 4, 'res_layer_index_3': 5, 'num_sources_3': 2, 'source_3_0': 3, 'source_3_1': 4, 'res_layer_index_4': 8, 'num_sources_4': 4, 'source_4_0': 0, 'source_4_1': 7, 'source_4_2': 6, 'source_4_3': 0, 'hidden_activation': 'ReLU', 'learning_rate': 0.00014597716212138046, 'optimizer_name': 'Adam', 'use_weight_decay': False, 'model_seed': 3982, 'batch_size': 8}. Best is trial 7 with value: 0.05287186801433563.\n"
     ]
    },
    {
     "name": "stdout",
     "output_type": "stream",
     "text": [
      "Early stopping triggered after 209 epochs\n",
      "Trial 10 finished with value: 0.0757\n",
      "Best trial so far: 7 with value: 0.0529\n"
     ]
    },
    {
     "name": "stderr",
     "output_type": "stream",
     "text": [
      "[I 2024-08-24 02:37:52,326] Trial 11 finished with value: 0.08879444003105164 and parameters: {'num_hidden_layers': 7, 'neurons_layer_0': 256, 'neurons_layer_1': 256, 'neurons_layer_2': 128, 'neurons_layer_3': 512, 'neurons_layer_4': 256, 'neurons_layer_5': 512, 'neurons_layer_6': 256, 'use_dropout_1': True, 'dropout_prob_1': 0.45412443024832116, 'use_dropout_2': True, 'dropout_prob_2': 0.0664473505316427, 'use_dropout_3': False, 'use_dropout_4': False, 'use_dropout_5': False, 'use_dropout_6': True, 'dropout_prob_6': 0.30183814908869805, 'num_res_connections': 1, 'res_layer_index_0': 2, 'num_sources_0': 2, 'source_0_0': 1, 'source_0_1': 0, 'hidden_activation': 'ELU', 'learning_rate': 0.014057778190091613, 'optimizer_name': 'AdamW', 'use_weight_decay': False, 'model_seed': 6719, 'batch_size': 16}. Best is trial 7 with value: 0.05287186801433563.\n"
     ]
    },
    {
     "name": "stdout",
     "output_type": "stream",
     "text": [
      "Early stopping triggered after 157 epochs\n",
      "Trial 11 finished with value: 0.0888\n",
      "Best trial so far: 7 with value: 0.0529\n"
     ]
    },
    {
     "name": "stderr",
     "output_type": "stream",
     "text": [
      "[I 2024-08-24 02:37:55,196] Trial 12 finished with value: 0.0558609738945961 and parameters: {'num_hidden_layers': 5, 'neurons_layer_0': 512, 'neurons_layer_1': 128, 'neurons_layer_2': 128, 'neurons_layer_3': 128, 'neurons_layer_4': 128, 'use_dropout_1': True, 'dropout_prob_1': 0.4517022699846387, 'use_dropout_2': True, 'dropout_prob_2': 0.16674054504408162, 'use_dropout_3': False, 'use_dropout_4': False, 'num_res_connections': 2, 'res_layer_index_0': 3, 'num_sources_0': 1, 'source_0_0': 0, 'res_layer_index_1': 4, 'num_sources_1': 3, 'source_1_0': -1, 'source_1_1': 3, 'source_1_2': 1, 'hidden_activation': 'ReLU', 'learning_rate': 0.004216019821013413, 'optimizer_name': 'AdamW', 'use_weight_decay': False, 'model_seed': 9844, 'batch_size': 64}. Best is trial 7 with value: 0.05287186801433563.\n"
     ]
    },
    {
     "name": "stdout",
     "output_type": "stream",
     "text": [
      "Early stopping triggered after 190 epochs\n",
      "Trial 12 finished with value: 0.0559\n",
      "Best trial so far: 7 with value: 0.0529\n"
     ]
    },
    {
     "name": "stderr",
     "output_type": "stream",
     "text": [
      "[I 2024-08-24 02:37:57,566] Trial 13 finished with value: 0.05539139732718468 and parameters: {'num_hidden_layers': 4, 'neurons_layer_0': 128, 'neurons_layer_1': 256, 'neurons_layer_2': 512, 'neurons_layer_3': 128, 'use_dropout_1': True, 'dropout_prob_1': 0.4614853756662319, 'use_dropout_2': True, 'dropout_prob_2': 0.2835129673772769, 'use_dropout_3': False, 'num_res_connections': 2, 'res_layer_index_0': 1, 'num_sources_0': 1, 'source_0_0': -1, 'res_layer_index_1': 2, 'num_sources_1': 0, 'hidden_activation': 'ELU', 'learning_rate': 0.009795204244055949, 'optimizer_name': 'AdamW', 'use_weight_decay': True, 'weight_decay': 1.1195826952369906e-06, 'model_seed': 5951, 'batch_size': 64}. Best is trial 7 with value: 0.05287186801433563.\n"
     ]
    },
    {
     "name": "stdout",
     "output_type": "stream",
     "text": [
      "Early stopping triggered after 204 epochs\n",
      "Trial 13 finished with value: 0.0554\n",
      "Best trial so far: 7 with value: 0.0529\n"
     ]
    },
    {
     "name": "stderr",
     "output_type": "stream",
     "text": [
      "[I 2024-08-24 02:38:17,161] Trial 14 finished with value: 0.07534921169281006 and parameters: {'num_hidden_layers': 4, 'neurons_layer_0': 256, 'neurons_layer_1': 128, 'neurons_layer_2': 128, 'neurons_layer_3': 256, 'use_dropout_1': False, 'use_dropout_2': False, 'use_dropout_3': True, 'dropout_prob_3': 0.2938554263202612, 'num_res_connections': 3, 'res_layer_index_0': 3, 'num_sources_0': 3, 'source_0_0': 1, 'source_0_1': 1, 'source_0_2': 2, 'res_layer_index_1': 1, 'num_sources_1': 0, 'res_layer_index_2': 1, 'num_sources_2': 1, 'source_2_0': 0, 'hidden_activation': 'GELU', 'learning_rate': 0.055778251063188684, 'optimizer_name': 'Adam', 'use_weight_decay': False, 'model_seed': 9710, 'batch_size': 4}. Best is trial 7 with value: 0.05287186801433563.\n"
     ]
    },
    {
     "name": "stdout",
     "output_type": "stream",
     "text": [
      "Early stopping triggered after 200 epochs\n",
      "Trial 14 finished with value: 0.0753\n",
      "Best trial so far: 7 with value: 0.0529\n"
     ]
    },
    {
     "name": "stderr",
     "output_type": "stream",
     "text": [
      "[I 2024-08-24 02:39:11,968] Trial 15 finished with value: 0.05180954933166504 and parameters: {'num_hidden_layers': 9, 'neurons_layer_0': 256, 'neurons_layer_1': 512, 'neurons_layer_2': 256, 'neurons_layer_3': 512, 'neurons_layer_4': 512, 'neurons_layer_5': 128, 'neurons_layer_6': 512, 'neurons_layer_7': 256, 'neurons_layer_8': 128, 'use_dropout_1': False, 'use_dropout_2': False, 'use_dropout_3': True, 'dropout_prob_3': 0.2379950519753002, 'use_dropout_4': False, 'use_dropout_5': True, 'dropout_prob_5': 0.20957997093834946, 'use_dropout_6': False, 'use_dropout_7': True, 'dropout_prob_7': 0.05804327063003622, 'use_dropout_8': True, 'dropout_prob_8': 0.22294699122185674, 'num_res_connections': 6, 'res_layer_index_0': 2, 'num_sources_0': 2, 'source_0_0': 1, 'source_0_1': -1, 'res_layer_index_1': 4, 'num_sources_1': 4, 'source_1_0': 3, 'source_1_1': 1, 'source_1_2': 2, 'source_1_3': -1, 'res_layer_index_2': 8, 'num_sources_2': 2, 'source_2_0': 7, 'source_2_1': 4, 'res_layer_index_3': 5, 'num_sources_3': 3, 'source_3_0': 0, 'source_3_1': 0, 'source_3_2': 0, 'res_layer_index_4': 2, 'num_sources_4': 2, 'source_4_0': 0, 'source_4_1': -1, 'res_layer_index_5': 8, 'num_sources_5': 7, 'source_5_0': 7, 'source_5_1': 7, 'source_5_2': 0, 'source_5_3': 2, 'source_5_4': 5, 'source_5_5': 5, 'source_5_6': 0, 'hidden_activation': 'ReLU', 'learning_rate': 0.005498682243618653, 'optimizer_name': 'Adam', 'use_weight_decay': True, 'weight_decay': 0.0003589155871450836, 'model_seed': 9556, 'batch_size': 4}. Best is trial 15 with value: 0.05180954933166504.\n"
     ]
    },
    {
     "name": "stdout",
     "output_type": "stream",
     "text": [
      "Early stopping triggered after 164 epochs\n",
      "Trial 15 finished with value: 0.0518\n",
      "Best trial so far: 15 with value: 0.0518\n"
     ]
    },
    {
     "name": "stderr",
     "output_type": "stream",
     "text": [
      "[I 2024-08-24 02:39:19,576] Trial 16 finished with value: 0.05431094393134117 and parameters: {'num_hidden_layers': 6, 'neurons_layer_0': 512, 'neurons_layer_1': 128, 'neurons_layer_2': 512, 'neurons_layer_3': 512, 'neurons_layer_4': 128, 'neurons_layer_5': 512, 'use_dropout_1': True, 'dropout_prob_1': 0.43276177809240884, 'use_dropout_2': True, 'dropout_prob_2': 0.42665599776365243, 'use_dropout_3': True, 'dropout_prob_3': 0.32837512019683296, 'use_dropout_4': True, 'dropout_prob_4': 0.4463918416395178, 'use_dropout_5': True, 'dropout_prob_5': 0.4216175377541432, 'num_res_connections': 0, 'hidden_activation': 'LeakyReLU', 'learning_rate': 0.003329685395839855, 'optimizer_name': 'Adam', 'use_weight_decay': False, 'model_seed': 6318, 'batch_size': 32}. Best is trial 15 with value: 0.05180954933166504.\n"
     ]
    },
    {
     "name": "stdout",
     "output_type": "stream",
     "text": [
      "Early stopping triggered after 163 epochs\n",
      "Trial 16 finished with value: 0.0543\n",
      "Best trial so far: 15 with value: 0.0518\n"
     ]
    },
    {
     "name": "stderr",
     "output_type": "stream",
     "text": [
      "[I 2024-08-24 02:39:42,115] Trial 17 finished with value: 0.09959936141967773 and parameters: {'num_hidden_layers': 9, 'neurons_layer_0': 256, 'neurons_layer_1': 256, 'neurons_layer_2': 128, 'neurons_layer_3': 256, 'neurons_layer_4': 512, 'neurons_layer_5': 512, 'neurons_layer_6': 128, 'neurons_layer_7': 128, 'neurons_layer_8': 512, 'use_dropout_1': True, 'dropout_prob_1': 0.17313199982674965, 'use_dropout_2': True, 'dropout_prob_2': 0.253124160948354, 'use_dropout_3': False, 'use_dropout_4': True, 'dropout_prob_4': 0.08707147052712921, 'use_dropout_5': True, 'dropout_prob_5': 0.1729667871491942, 'use_dropout_6': True, 'dropout_prob_6': 0.24455066046917084, 'use_dropout_7': True, 'dropout_prob_7': 0.33733667644883847, 'use_dropout_8': True, 'dropout_prob_8': 0.4927899415819227, 'num_res_connections': 3, 'res_layer_index_0': 8, 'num_sources_0': 2, 'source_0_0': 0, 'source_0_1': -1, 'res_layer_index_1': 6, 'num_sources_1': 2, 'source_1_0': 5, 'source_1_1': 2, 'res_layer_index_2': 8, 'num_sources_2': 1, 'source_2_0': 6, 'hidden_activation': 'GELU', 'learning_rate': 0.00024759087408467953, 'optimizer_name': 'Adam', 'use_weight_decay': False, 'model_seed': 4815, 'batch_size': 16}. Best is trial 15 with value: 0.05180954933166504.\n"
     ]
    },
    {
     "name": "stdout",
     "output_type": "stream",
     "text": [
      "Early stopping triggered after 177 epochs\n",
      "Trial 17 finished with value: 0.0996\n",
      "Best trial so far: 15 with value: 0.0518\n"
     ]
    },
    {
     "name": "stderr",
     "output_type": "stream",
     "text": [
      "[I 2024-08-24 02:39:45,385] Trial 18 finished with value: 0.056658580899238586 and parameters: {'num_hidden_layers': 7, 'neurons_layer_0': 256, 'neurons_layer_1': 128, 'neurons_layer_2': 512, 'neurons_layer_3': 256, 'neurons_layer_4': 256, 'neurons_layer_5': 256, 'neurons_layer_6': 256, 'use_dropout_1': False, 'use_dropout_2': True, 'dropout_prob_2': 0.05439688133863265, 'use_dropout_3': False, 'use_dropout_4': False, 'use_dropout_5': False, 'use_dropout_6': True, 'dropout_prob_6': 0.30539338171770114, 'num_res_connections': 4, 'res_layer_index_0': 5, 'num_sources_0': 1, 'source_0_0': 0, 'res_layer_index_1': 1, 'num_sources_1': 1, 'source_1_0': 0, 'res_layer_index_2': 1, 'num_sources_2': 1, 'source_2_0': -1, 'res_layer_index_3': 4, 'num_sources_3': 3, 'source_3_0': 3, 'source_3_1': 2, 'source_3_2': 3, 'hidden_activation': 'SiLU', 'learning_rate': 0.02830696512800854, 'optimizer_name': 'Adam', 'use_weight_decay': False, 'model_seed': 817, 'batch_size': 32}. Best is trial 15 with value: 0.05180954933166504.\n"
     ]
    },
    {
     "name": "stdout",
     "output_type": "stream",
     "text": [
      "Early stopping triggered after 128 epochs\n",
      "Trial 18 finished with value: 0.0567\n",
      "Best trial so far: 15 with value: 0.0518\n"
     ]
    },
    {
     "name": "stderr",
     "output_type": "stream",
     "text": [
      "[I 2024-08-24 02:39:50,199] Trial 19 finished with value: 0.057894110679626465 and parameters: {'num_hidden_layers': 10, 'neurons_layer_0': 512, 'neurons_layer_1': 128, 'neurons_layer_2': 512, 'neurons_layer_3': 128, 'neurons_layer_4': 128, 'neurons_layer_5': 512, 'neurons_layer_6': 256, 'neurons_layer_7': 512, 'neurons_layer_8': 256, 'neurons_layer_9': 256, 'use_dropout_1': False, 'use_dropout_2': True, 'dropout_prob_2': 0.316557647867013, 'use_dropout_3': True, 'dropout_prob_3': 0.33033496260356726, 'use_dropout_4': False, 'use_dropout_5': False, 'use_dropout_6': True, 'dropout_prob_6': 0.15689449621574494, 'use_dropout_7': True, 'dropout_prob_7': 0.43447329201631063, 'use_dropout_8': True, 'dropout_prob_8': 0.4418374555726301, 'use_dropout_9': False, 'num_res_connections': 3, 'res_layer_index_0': 6, 'num_sources_0': 1, 'source_0_0': 1, 'res_layer_index_1': 9, 'num_sources_1': 2, 'source_1_0': 5, 'source_1_1': 2, 'res_layer_index_2': 7, 'num_sources_2': 1, 'source_2_0': 6, 'hidden_activation': 'LeakyReLU', 'learning_rate': 0.00102567443136312, 'optimizer_name': 'AdamW', 'use_weight_decay': False, 'model_seed': 7068, 'batch_size': 32}. Best is trial 15 with value: 0.05180954933166504.\n"
     ]
    },
    {
     "name": "stdout",
     "output_type": "stream",
     "text": [
      "Early stopping triggered after 151 epochs\n",
      "Trial 19 finished with value: 0.0579\n",
      "Best trial so far: 15 with value: 0.0518\n"
     ]
    },
    {
     "name": "stderr",
     "output_type": "stream",
     "text": [
      "[I 2024-08-24 02:39:58,513] Trial 20 finished with value: 0.04766559973359108 and parameters: {'num_hidden_layers': 7, 'neurons_layer_0': 128, 'neurons_layer_1': 128, 'neurons_layer_2': 512, 'neurons_layer_3': 128, 'neurons_layer_4': 256, 'neurons_layer_5': 128, 'neurons_layer_6': 128, 'use_dropout_1': True, 'dropout_prob_1': 0.44056323253401, 'use_dropout_2': False, 'use_dropout_3': False, 'use_dropout_4': True, 'dropout_prob_4': 0.1885684737160359, 'use_dropout_5': True, 'dropout_prob_5': 0.35304459499621277, 'use_dropout_6': True, 'dropout_prob_6': 0.3526709532013068, 'num_res_connections': 3, 'res_layer_index_0': 6, 'num_sources_0': 1, 'source_0_0': 3, 'res_layer_index_1': 6, 'num_sources_1': 6, 'source_1_0': 3, 'source_1_1': 2, 'source_1_2': 3, 'source_1_3': 5, 'source_1_4': 2, 'source_1_5': -1, 'res_layer_index_2': 6, 'num_sources_2': 4, 'source_2_0': 3, 'source_2_1': 0, 'source_2_2': 3, 'source_2_3': 1, 'hidden_activation': 'SiLU', 'learning_rate': 0.08541272006037325, 'optimizer_name': 'Adam', 'use_weight_decay': True, 'weight_decay': 8.990768948930032e-05, 'model_seed': 8785, 'batch_size': 32}. Best is trial 20 with value: 0.04766559973359108.\n"
     ]
    },
    {
     "name": "stdout",
     "output_type": "stream",
     "text": [
      "Early stopping triggered after 345 epochs\n",
      "Trial 20 finished with value: 0.0477\n",
      "Best trial so far: 20 with value: 0.0477\n"
     ]
    },
    {
     "name": "stderr",
     "output_type": "stream",
     "text": [
      "[I 2024-08-24 02:40:13,395] Trial 21 finished with value: 0.08886471390724182 and parameters: {'num_hidden_layers': 9, 'neurons_layer_0': 256, 'neurons_layer_1': 128, 'neurons_layer_2': 512, 'neurons_layer_3': 256, 'neurons_layer_4': 128, 'neurons_layer_5': 256, 'neurons_layer_6': 512, 'neurons_layer_7': 128, 'neurons_layer_8': 512, 'use_dropout_1': True, 'dropout_prob_1': 0.32355729175705006, 'use_dropout_2': False, 'use_dropout_3': False, 'use_dropout_4': False, 'use_dropout_5': False, 'use_dropout_6': True, 'dropout_prob_6': 0.46716554515833797, 'use_dropout_7': False, 'use_dropout_8': True, 'dropout_prob_8': 0.26864229163384656, 'num_res_connections': 2, 'res_layer_index_0': 3, 'num_sources_0': 1, 'source_0_0': 2, 'res_layer_index_1': 5, 'num_sources_1': 1, 'source_1_0': 2, 'hidden_activation': 'ReLU', 'learning_rate': 0.011049778232899949, 'optimizer_name': 'Adam', 'use_weight_decay': True, 'weight_decay': 1.8588694009815876e-05, 'model_seed': 2566, 'batch_size': 4}. Best is trial 20 with value: 0.04766559973359108.\n"
     ]
    },
    {
     "name": "stdout",
     "output_type": "stream",
     "text": [
      "Early stopping triggered after 106 epochs\n",
      "Trial 21 finished with value: 0.0889\n",
      "Best trial so far: 20 with value: 0.0477\n"
     ]
    },
    {
     "name": "stderr",
     "output_type": "stream",
     "text": [
      "[I 2024-08-24 02:40:16,606] Trial 22 finished with value: 0.054487403482198715 and parameters: {'num_hidden_layers': 8, 'neurons_layer_0': 128, 'neurons_layer_1': 128, 'neurons_layer_2': 512, 'neurons_layer_3': 128, 'neurons_layer_4': 512, 'neurons_layer_5': 256, 'neurons_layer_6': 128, 'neurons_layer_7': 512, 'use_dropout_1': True, 'dropout_prob_1': 0.06063736372085138, 'use_dropout_2': True, 'dropout_prob_2': 0.2960138357213315, 'use_dropout_3': False, 'use_dropout_4': True, 'dropout_prob_4': 0.4945034840966993, 'use_dropout_5': False, 'use_dropout_6': False, 'use_dropout_7': True, 'dropout_prob_7': 0.49606519716598474, 'num_res_connections': 1, 'res_layer_index_0': 1, 'num_sources_0': 1, 'source_0_0': 0, 'hidden_activation': 'SiLU', 'learning_rate': 0.0009335007825370447, 'optimizer_name': 'Adam', 'use_weight_decay': False, 'model_seed': 677, 'batch_size': 32}. Best is trial 20 with value: 0.04766559973359108.\n"
     ]
    },
    {
     "name": "stdout",
     "output_type": "stream",
     "text": [
      "Early stopping triggered after 167 epochs\n",
      "Trial 22 finished with value: 0.0545\n",
      "Best trial so far: 20 with value: 0.0477\n"
     ]
    },
    {
     "name": "stderr",
     "output_type": "stream",
     "text": [
      "[I 2024-08-24 02:40:21,330] Trial 23 finished with value: 0.04840758815407753 and parameters: {'num_hidden_layers': 7, 'neurons_layer_0': 512, 'neurons_layer_1': 128, 'neurons_layer_2': 128, 'neurons_layer_3': 256, 'neurons_layer_4': 128, 'neurons_layer_5': 512, 'neurons_layer_6': 512, 'use_dropout_1': True, 'dropout_prob_1': 0.2296921621141887, 'use_dropout_2': False, 'use_dropout_3': True, 'dropout_prob_3': 0.4289149824693896, 'use_dropout_4': False, 'use_dropout_5': False, 'use_dropout_6': False, 'num_res_connections': 5, 'res_layer_index_0': 5, 'num_sources_0': 0, 'res_layer_index_1': 2, 'num_sources_1': 0, 'res_layer_index_2': 3, 'num_sources_2': 0, 'res_layer_index_3': 6, 'num_sources_3': 3, 'source_3_0': 1, 'source_3_1': 1, 'source_3_2': 2, 'res_layer_index_4': 4, 'num_sources_4': 2, 'source_4_0': 3, 'source_4_1': 1, 'hidden_activation': 'ReLU', 'learning_rate': 0.028336690417825546, 'optimizer_name': 'Adam', 'use_weight_decay': True, 'weight_decay': 0.00014458450258664134, 'model_seed': 3047, 'batch_size': 32}. Best is trial 20 with value: 0.04766559973359108.\n"
     ]
    },
    {
     "name": "stdout",
     "output_type": "stream",
     "text": [
      "Early stopping triggered after 205 epochs\n",
      "Trial 23 finished with value: 0.0484\n",
      "Best trial so far: 20 with value: 0.0477\n"
     ]
    },
    {
     "name": "stderr",
     "output_type": "stream",
     "text": [
      "[I 2024-08-24 02:40:32,794] Trial 24 finished with value: 0.04838303104043007 and parameters: {'num_hidden_layers': 10, 'neurons_layer_0': 256, 'neurons_layer_1': 256, 'neurons_layer_2': 256, 'neurons_layer_3': 128, 'neurons_layer_4': 128, 'neurons_layer_5': 256, 'neurons_layer_6': 128, 'neurons_layer_7': 128, 'neurons_layer_8': 128, 'neurons_layer_9': 128, 'use_dropout_1': True, 'dropout_prob_1': 0.07617370797746412, 'use_dropout_2': True, 'dropout_prob_2': 0.36276585298634895, 'use_dropout_3': True, 'dropout_prob_3': 0.11401221590923828, 'use_dropout_4': False, 'use_dropout_5': False, 'use_dropout_6': False, 'use_dropout_7': True, 'dropout_prob_7': 0.3268487472039549, 'use_dropout_8': False, 'use_dropout_9': True, 'dropout_prob_9': 0.10881966953308977, 'num_res_connections': 8, 'res_layer_index_0': 5, 'num_sources_0': 1, 'source_0_0': 1, 'res_layer_index_1': 4, 'num_sources_1': 4, 'source_1_0': 2, 'source_1_1': 2, 'source_1_2': -1, 'source_1_3': 1, 'res_layer_index_2': 5, 'num_sources_2': 0, 'res_layer_index_3': 3, 'num_sources_3': 3, 'source_3_0': -1, 'source_3_1': 1, 'source_3_2': -1, 'res_layer_index_4': 1, 'num_sources_4': 0, 'res_layer_index_5': 9, 'num_sources_5': 8, 'source_5_0': 8, 'source_5_1': 3, 'source_5_2': 0, 'source_5_3': 4, 'source_5_4': 3, 'source_5_5': 7, 'source_5_6': -1, 'source_5_7': 3, 'res_layer_index_6': 2, 'num_sources_6': 0, 'res_layer_index_7': 7, 'num_sources_7': 3, 'source_7_0': 2, 'source_7_1': 2, 'source_7_2': 2, 'hidden_activation': 'GELU', 'learning_rate': 0.011598561196397952, 'optimizer_name': 'AdamW', 'use_weight_decay': True, 'weight_decay': 0.0004046205802397577, 'model_seed': 4615, 'batch_size': 16}. Best is trial 20 with value: 0.04766559973359108.\n"
     ]
    },
    {
     "name": "stdout",
     "output_type": "stream",
     "text": [
      "Early stopping triggered after 204 epochs\n",
      "Trial 24 finished with value: 0.0484\n",
      "Best trial so far: 20 with value: 0.0477\n"
     ]
    },
    {
     "name": "stderr",
     "output_type": "stream",
     "text": [
      "[I 2024-08-24 02:40:37,721] Trial 25 finished with value: 0.4637269079685211 and parameters: {'num_hidden_layers': 4, 'neurons_layer_0': 512, 'neurons_layer_1': 256, 'neurons_layer_2': 256, 'neurons_layer_3': 512, 'use_dropout_1': True, 'dropout_prob_1': 0.18344101157944487, 'use_dropout_2': False, 'use_dropout_3': True, 'dropout_prob_3': 0.12834920090033797, 'num_res_connections': 0, 'hidden_activation': 'ELU', 'learning_rate': 0.08009033395092477, 'optimizer_name': 'Adam', 'use_weight_decay': True, 'weight_decay': 6.64888848111899e-07, 'model_seed': 1214, 'batch_size': 8}. Best is trial 20 with value: 0.04766559973359108.\n"
     ]
    },
    {
     "name": "stdout",
     "output_type": "stream",
     "text": [
      "Early stopping triggered after 103 epochs\n",
      "Trial 25 finished with value: 0.4637\n",
      "Best trial so far: 20 with value: 0.0477\n"
     ]
    },
    {
     "name": "stderr",
     "output_type": "stream",
     "text": [
      "[I 2024-08-24 02:40:53,449] Trial 26 finished with value: 0.08878768980503082 and parameters: {'num_hidden_layers': 10, 'neurons_layer_0': 512, 'neurons_layer_1': 512, 'neurons_layer_2': 128, 'neurons_layer_3': 256, 'neurons_layer_4': 512, 'neurons_layer_5': 256, 'neurons_layer_6': 512, 'neurons_layer_7': 512, 'neurons_layer_8': 512, 'neurons_layer_9': 256, 'use_dropout_1': True, 'dropout_prob_1': 0.3994013509248761, 'use_dropout_2': True, 'dropout_prob_2': 0.29526211350362225, 'use_dropout_3': True, 'dropout_prob_3': 0.06942818110865526, 'use_dropout_4': True, 'dropout_prob_4': 0.376690959493383, 'use_dropout_5': True, 'dropout_prob_5': 0.2776337118283231, 'use_dropout_6': True, 'dropout_prob_6': 0.29400674247133174, 'use_dropout_7': True, 'dropout_prob_7': 0.18389680309346929, 'use_dropout_8': False, 'use_dropout_9': True, 'dropout_prob_9': 0.3925046916694211, 'num_res_connections': 1, 'res_layer_index_0': 5, 'num_sources_0': 0, 'hidden_activation': 'GELU', 'learning_rate': 0.025131181465528087, 'optimizer_name': 'Adam', 'use_weight_decay': True, 'weight_decay': 5.650656901535324e-07, 'model_seed': 3554, 'batch_size': 4}. Best is trial 20 with value: 0.04766559973359108.\n"
     ]
    },
    {
     "name": "stdout",
     "output_type": "stream",
     "text": [
      "Early stopping triggered after 120 epochs\n",
      "Trial 26 finished with value: 0.0888\n",
      "Best trial so far: 20 with value: 0.0477\n"
     ]
    },
    {
     "name": "stderr",
     "output_type": "stream",
     "text": [
      "[I 2024-08-24 02:41:01,383] Trial 27 finished with value: 0.047387875616550446 and parameters: {'num_hidden_layers': 9, 'neurons_layer_0': 256, 'neurons_layer_1': 128, 'neurons_layer_2': 256, 'neurons_layer_3': 512, 'neurons_layer_4': 128, 'neurons_layer_5': 128, 'neurons_layer_6': 256, 'neurons_layer_7': 512, 'neurons_layer_8': 256, 'use_dropout_1': False, 'use_dropout_2': False, 'use_dropout_3': False, 'use_dropout_4': True, 'dropout_prob_4': 0.07634791815979064, 'use_dropout_5': False, 'use_dropout_6': False, 'use_dropout_7': True, 'dropout_prob_7': 0.11635363701782778, 'use_dropout_8': False, 'num_res_connections': 0, 'hidden_activation': 'SiLU', 'learning_rate': 0.008466337919401426, 'optimizer_name': 'Adam', 'use_weight_decay': True, 'weight_decay': 4.3613361256259715e-06, 'model_seed': 8398, 'batch_size': 16}. Best is trial 27 with value: 0.047387875616550446.\n"
     ]
    },
    {
     "name": "stdout",
     "output_type": "stream",
     "text": [
      "Early stopping triggered after 240 epochs\n",
      "Trial 27 finished with value: 0.0474\n",
      "Best trial so far: 27 with value: 0.0474\n",
      "Early stopping triggered after 247 epochs\n"
     ]
    },
    {
     "name": "stderr",
     "output_type": "stream",
     "text": [
      "[I 2024-08-24 02:41:04,469] Trial 28 finished with value: 0.07494664192199707 and parameters: {'num_hidden_layers': 6, 'neurons_layer_0': 512, 'neurons_layer_1': 256, 'neurons_layer_2': 128, 'neurons_layer_3': 128, 'neurons_layer_4': 128, 'neurons_layer_5': 512, 'use_dropout_1': True, 'dropout_prob_1': 0.3782787028935785, 'use_dropout_2': True, 'dropout_prob_2': 0.32460131726493857, 'use_dropout_3': False, 'use_dropout_4': False, 'use_dropout_5': True, 'dropout_prob_5': 0.17698418361194007, 'num_res_connections': 1, 'res_layer_index_0': 2, 'num_sources_0': 2, 'source_0_0': -1, 'source_0_1': -1, 'hidden_activation': 'GELU', 'learning_rate': 0.00012613650708849844, 'optimizer_name': 'Adam', 'use_weight_decay': False, 'model_seed': 4111, 'batch_size': 64}. Best is trial 27 with value: 0.047387875616550446.\n"
     ]
    },
    {
     "name": "stdout",
     "output_type": "stream",
     "text": [
      "Trial 28 finished with value: 0.0749\n",
      "Best trial so far: 27 with value: 0.0474\n"
     ]
    },
    {
     "name": "stderr",
     "output_type": "stream",
     "text": [
      "[I 2024-08-24 02:41:05,914] Trial 29 finished with value: 0.08902071416378021 and parameters: {'num_hidden_layers': 7, 'neurons_layer_0': 128, 'neurons_layer_1': 512, 'neurons_layer_2': 256, 'neurons_layer_3': 512, 'neurons_layer_4': 128, 'neurons_layer_5': 512, 'neurons_layer_6': 128, 'use_dropout_1': False, 'use_dropout_2': True, 'dropout_prob_2': 0.3685257937533959, 'use_dropout_3': True, 'dropout_prob_3': 0.2562352886878954, 'use_dropout_4': True, 'dropout_prob_4': 0.47556416615012703, 'use_dropout_5': True, 'dropout_prob_5': 0.2580330024502733, 'use_dropout_6': False, 'num_res_connections': 3, 'res_layer_index_0': 1, 'num_sources_0': 1, 'source_0_0': 0, 'res_layer_index_1': 3, 'num_sources_1': 0, 'res_layer_index_2': 5, 'num_sources_2': 1, 'source_2_0': 0, 'hidden_activation': 'GELU', 'learning_rate': 0.04300215640587651, 'optimizer_name': 'AdamW', 'use_weight_decay': False, 'model_seed': 9849, 'batch_size': 64}. Best is trial 27 with value: 0.047387875616550446.\n"
     ]
    },
    {
     "name": "stdout",
     "output_type": "stream",
     "text": [
      "Early stopping triggered after 89 epochs\n",
      "Trial 29 finished with value: 0.0890\n",
      "Best trial so far: 27 with value: 0.0474\n"
     ]
    },
    {
     "name": "stderr",
     "output_type": "stream",
     "text": [
      "[I 2024-08-24 02:41:08,811] Trial 30 finished with value: 0.05689519643783569 and parameters: {'num_hidden_layers': 7, 'neurons_layer_0': 512, 'neurons_layer_1': 128, 'neurons_layer_2': 128, 'neurons_layer_3': 256, 'neurons_layer_4': 256, 'neurons_layer_5': 128, 'neurons_layer_6': 256, 'use_dropout_1': False, 'use_dropout_2': False, 'use_dropout_3': False, 'use_dropout_4': False, 'use_dropout_5': True, 'dropout_prob_5': 0.24814553826575703, 'use_dropout_6': True, 'dropout_prob_6': 0.44708736578330244, 'num_res_connections': 5, 'res_layer_index_0': 4, 'num_sources_0': 4, 'source_0_0': 1, 'source_0_1': 3, 'source_0_2': 2, 'source_0_3': 2, 'res_layer_index_1': 1, 'num_sources_1': 1, 'source_1_0': -1, 'res_layer_index_2': 1, 'num_sources_2': 0, 'res_layer_index_3': 4, 'num_sources_3': 2, 'source_3_0': 2, 'source_3_1': 3, 'res_layer_index_4': 1, 'num_sources_4': 1, 'source_4_0': -1, 'hidden_activation': 'ReLU', 'learning_rate': 0.002591216478195528, 'optimizer_name': 'AdamW', 'use_weight_decay': False, 'model_seed': 8282, 'batch_size': 32}. Best is trial 27 with value: 0.047387875616550446.\n"
     ]
    },
    {
     "name": "stdout",
     "output_type": "stream",
     "text": [
      "Early stopping triggered after 112 epochs\n",
      "Trial 30 finished with value: 0.0569\n",
      "Best trial so far: 27 with value: 0.0474\n"
     ]
    },
    {
     "name": "stderr",
     "output_type": "stream",
     "text": [
      "[I 2024-08-24 02:41:10,672] Trial 31 finished with value: 0.051129162311553955 and parameters: {'num_hidden_layers': 5, 'neurons_layer_0': 512, 'neurons_layer_1': 128, 'neurons_layer_2': 256, 'neurons_layer_3': 128, 'neurons_layer_4': 512, 'use_dropout_1': False, 'use_dropout_2': True, 'dropout_prob_2': 0.426668506359323, 'use_dropout_3': False, 'use_dropout_4': True, 'dropout_prob_4': 0.1873898045135291, 'num_res_connections': 1, 'res_layer_index_0': 1, 'num_sources_0': 0, 'hidden_activation': 'ELU', 'learning_rate': 0.009884500106573027, 'optimizer_name': 'Adam', 'use_weight_decay': True, 'weight_decay': 2.779443670528211e-07, 'model_seed': 4471, 'batch_size': 64}. Best is trial 27 with value: 0.047387875616550446.\n"
     ]
    },
    {
     "name": "stdout",
     "output_type": "stream",
     "text": [
      "Early stopping triggered after 195 epochs\n",
      "Trial 31 finished with value: 0.0511\n",
      "Best trial so far: 27 with value: 0.0474\n"
     ]
    },
    {
     "name": "stderr",
     "output_type": "stream",
     "text": [
      "[I 2024-08-24 02:41:12,107] Trial 32 finished with value: 0.08991896361112595 and parameters: {'num_hidden_layers': 4, 'neurons_layer_0': 512, 'neurons_layer_1': 128, 'neurons_layer_2': 256, 'neurons_layer_3': 512, 'use_dropout_1': True, 'dropout_prob_1': 0.4232275991864811, 'use_dropout_2': False, 'use_dropout_3': False, 'num_res_connections': 2, 'res_layer_index_0': 1, 'num_sources_0': 0, 'res_layer_index_1': 1, 'num_sources_1': 0, 'hidden_activation': 'LeakyReLU', 'learning_rate': 0.0001394532075666729, 'optimizer_name': 'AdamW', 'use_weight_decay': True, 'weight_decay': 0.0003708599987900909, 'model_seed': 1854, 'batch_size': 16}. Best is trial 27 with value: 0.047387875616550446.\n"
     ]
    },
    {
     "name": "stdout",
     "output_type": "stream",
     "text": [
      "Early stopping triggered after 70 epochs\n",
      "Trial 32 finished with value: 0.0899\n",
      "Best trial so far: 27 with value: 0.0474\n"
     ]
    },
    {
     "name": "stderr",
     "output_type": "stream",
     "text": [
      "[I 2024-08-24 02:41:15,024] Trial 33 finished with value: 0.3364345133304596 and parameters: {'num_hidden_layers': 10, 'neurons_layer_0': 128, 'neurons_layer_1': 128, 'neurons_layer_2': 256, 'neurons_layer_3': 256, 'neurons_layer_4': 128, 'neurons_layer_5': 256, 'neurons_layer_6': 128, 'neurons_layer_7': 512, 'neurons_layer_8': 256, 'neurons_layer_9': 512, 'use_dropout_1': True, 'dropout_prob_1': 0.3846172622794519, 'use_dropout_2': False, 'use_dropout_3': False, 'use_dropout_4': False, 'use_dropout_5': False, 'use_dropout_6': False, 'use_dropout_7': False, 'use_dropout_8': False, 'use_dropout_9': True, 'dropout_prob_9': 0.2824576828006906, 'num_res_connections': 0, 'hidden_activation': 'LeakyReLU', 'learning_rate': 0.025571549145433435, 'optimizer_name': 'AdamW', 'use_weight_decay': False, 'model_seed': 3970, 'batch_size': 8}. Best is trial 27 with value: 0.047387875616550446.\n"
     ]
    },
    {
     "name": "stdout",
     "output_type": "stream",
     "text": [
      "Early stopping triggered after 51 epochs\n",
      "Trial 33 finished with value: 0.3364\n",
      "Best trial so far: 27 with value: 0.0474\n",
      "Early stopping triggered after 162 epochs\n"
     ]
    },
    {
     "name": "stderr",
     "output_type": "stream",
     "text": [
      "[I 2024-08-24 02:41:25,102] Trial 34 finished with value: 0.04986124858260155 and parameters: {'num_hidden_layers': 10, 'neurons_layer_0': 512, 'neurons_layer_1': 512, 'neurons_layer_2': 512, 'neurons_layer_3': 128, 'neurons_layer_4': 256, 'neurons_layer_5': 256, 'neurons_layer_6': 512, 'neurons_layer_7': 128, 'neurons_layer_8': 128, 'neurons_layer_9': 256, 'use_dropout_1': False, 'use_dropout_2': True, 'dropout_prob_2': 0.35540148050265413, 'use_dropout_3': False, 'use_dropout_4': False, 'use_dropout_5': True, 'dropout_prob_5': 0.4431643670598553, 'use_dropout_6': True, 'dropout_prob_6': 0.45610398827862875, 'use_dropout_7': False, 'use_dropout_8': True, 'dropout_prob_8': 0.23991541705743757, 'use_dropout_9': False, 'num_res_connections': 5, 'res_layer_index_0': 1, 'num_sources_0': 0, 'res_layer_index_1': 6, 'num_sources_1': 2, 'source_1_0': 4, 'source_1_1': 3, 'res_layer_index_2': 8, 'num_sources_2': 6, 'source_2_0': 2, 'source_2_1': 5, 'source_2_2': 1, 'source_2_3': 1, 'source_2_4': 6, 'source_2_5': 3, 'res_layer_index_3': 8, 'num_sources_3': 7, 'source_3_0': 6, 'source_3_1': 7, 'source_3_2': 2, 'source_3_3': 1, 'source_3_4': 4, 'source_3_5': 2, 'source_3_6': 4, 'res_layer_index_4': 7, 'num_sources_4': 5, 'source_4_0': 1, 'source_4_1': 0, 'source_4_2': 2, 'source_4_3': 0, 'source_4_4': 6, 'hidden_activation': 'SiLU', 'learning_rate': 0.0010515078027799314, 'optimizer_name': 'Adam', 'use_weight_decay': False, 'model_seed': 6058, 'batch_size': 16}. Best is trial 27 with value: 0.047387875616550446.\n"
     ]
    },
    {
     "name": "stdout",
     "output_type": "stream",
     "text": [
      "Trial 34 finished with value: 0.0499\n",
      "Best trial so far: 27 with value: 0.0474\n"
     ]
    },
    {
     "name": "stderr",
     "output_type": "stream",
     "text": [
      "[I 2024-08-24 02:41:39,222] Trial 35 finished with value: 0.05862146243453026 and parameters: {'num_hidden_layers': 4, 'neurons_layer_0': 512, 'neurons_layer_1': 128, 'neurons_layer_2': 256, 'neurons_layer_3': 256, 'use_dropout_1': False, 'use_dropout_2': False, 'use_dropout_3': False, 'num_res_connections': 2, 'res_layer_index_0': 3, 'num_sources_0': 3, 'source_0_0': 0, 'source_0_1': 2, 'source_0_2': 0, 'res_layer_index_1': 2, 'num_sources_1': 1, 'source_1_0': 0, 'hidden_activation': 'LeakyReLU', 'learning_rate': 0.002095675571122553, 'optimizer_name': 'AdamW', 'use_weight_decay': True, 'weight_decay': 2.3431058878186916e-06, 'model_seed': 2703, 'batch_size': 4}. Best is trial 27 with value: 0.047387875616550446.\n"
     ]
    },
    {
     "name": "stdout",
     "output_type": "stream",
     "text": [
      "Early stopping triggered after 157 epochs\n",
      "Trial 35 finished with value: 0.0586\n",
      "Best trial so far: 27 with value: 0.0474\n"
     ]
    },
    {
     "name": "stderr",
     "output_type": "stream",
     "text": [
      "[I 2024-08-24 02:41:43,796] Trial 36 finished with value: 0.05131962150335312 and parameters: {'num_hidden_layers': 7, 'neurons_layer_0': 128, 'neurons_layer_1': 128, 'neurons_layer_2': 256, 'neurons_layer_3': 512, 'neurons_layer_4': 512, 'neurons_layer_5': 128, 'neurons_layer_6': 128, 'use_dropout_1': False, 'use_dropout_2': False, 'use_dropout_3': True, 'dropout_prob_3': 0.25820402227942707, 'use_dropout_4': True, 'dropout_prob_4': 0.4385963851315453, 'use_dropout_5': True, 'dropout_prob_5': 0.17860259998664157, 'use_dropout_6': False, 'num_res_connections': 2, 'res_layer_index_0': 4, 'num_sources_0': 2, 'source_0_0': 1, 'source_0_1': 3, 'res_layer_index_1': 6, 'num_sources_1': 2, 'source_1_0': 4, 'source_1_1': 4, 'hidden_activation': 'ELU', 'learning_rate': 0.0020770619499989864, 'optimizer_name': 'Adam', 'use_weight_decay': False, 'model_seed': 4483, 'batch_size': 16}. Best is trial 27 with value: 0.047387875616550446.\n"
     ]
    },
    {
     "name": "stdout",
     "output_type": "stream",
     "text": [
      "Early stopping triggered after 134 epochs\n",
      "Trial 36 finished with value: 0.0513\n",
      "Best trial so far: 27 with value: 0.0474\n"
     ]
    },
    {
     "name": "stderr",
     "output_type": "stream",
     "text": [
      "[I 2024-08-24 02:42:03,906] Trial 37 finished with value: 0.048819418996572495 and parameters: {'num_hidden_layers': 8, 'neurons_layer_0': 128, 'neurons_layer_1': 512, 'neurons_layer_2': 512, 'neurons_layer_3': 256, 'neurons_layer_4': 128, 'neurons_layer_5': 256, 'neurons_layer_6': 512, 'neurons_layer_7': 512, 'use_dropout_1': True, 'dropout_prob_1': 0.2694325143502449, 'use_dropout_2': False, 'use_dropout_3': True, 'dropout_prob_3': 0.20696924028626568, 'use_dropout_4': False, 'use_dropout_5': True, 'dropout_prob_5': 0.4798018432812656, 'use_dropout_6': True, 'dropout_prob_6': 0.08458793387427357, 'use_dropout_7': False, 'num_res_connections': 5, 'res_layer_index_0': 1, 'num_sources_0': 0, 'res_layer_index_1': 3, 'num_sources_1': 1, 'source_1_0': -1, 'res_layer_index_2': 2, 'num_sources_2': 2, 'source_2_0': 1, 'source_2_1': 0, 'res_layer_index_3': 7, 'num_sources_3': 2, 'source_3_0': 2, 'source_3_1': 0, 'res_layer_index_4': 5, 'num_sources_4': 5, 'source_4_0': 2, 'source_4_1': 1, 'source_4_2': 2, 'source_4_3': -1, 'source_4_4': 4, 'hidden_activation': 'SiLU', 'learning_rate': 0.011164818404358564, 'optimizer_name': 'Adam', 'use_weight_decay': True, 'weight_decay': 1.6218245480041764e-05, 'model_seed': 5202, 'batch_size': 8}. Best is trial 27 with value: 0.047387875616550446.\n"
     ]
    },
    {
     "name": "stdout",
     "output_type": "stream",
     "text": [
      "Early stopping triggered after 191 epochs\n",
      "Trial 37 finished with value: 0.0488\n",
      "Best trial so far: 27 with value: 0.0474\n"
     ]
    },
    {
     "name": "stderr",
     "output_type": "stream",
     "text": [
      "[I 2024-08-24 02:42:13,358] Trial 38 finished with value: 0.0593540295958519 and parameters: {'num_hidden_layers': 4, 'neurons_layer_0': 512, 'neurons_layer_1': 512, 'neurons_layer_2': 512, 'neurons_layer_3': 256, 'use_dropout_1': False, 'use_dropout_2': True, 'dropout_prob_2': 0.21210526346019254, 'use_dropout_3': False, 'num_res_connections': 1, 'res_layer_index_0': 3, 'num_sources_0': 3, 'source_0_0': 0, 'source_0_1': 2, 'source_0_2': 0, 'hidden_activation': 'ReLU', 'learning_rate': 0.00790925606568421, 'optimizer_name': 'AdamW', 'use_weight_decay': False, 'model_seed': 6664, 'batch_size': 4}. Best is trial 27 with value: 0.047387875616550446.\n"
     ]
    },
    {
     "name": "stdout",
     "output_type": "stream",
     "text": [
      "Early stopping triggered after 97 epochs\n",
      "Trial 38 finished with value: 0.0594\n",
      "Best trial so far: 27 with value: 0.0474\n"
     ]
    },
    {
     "name": "stderr",
     "output_type": "stream",
     "text": [
      "[I 2024-08-24 02:42:20,774] Trial 39 finished with value: 0.08895831555128098 and parameters: {'num_hidden_layers': 4, 'neurons_layer_0': 128, 'neurons_layer_1': 256, 'neurons_layer_2': 256, 'neurons_layer_3': 256, 'use_dropout_1': True, 'dropout_prob_1': 0.4199809490673905, 'use_dropout_2': True, 'dropout_prob_2': 0.34580906697655783, 'use_dropout_3': False, 'num_res_connections': 0, 'hidden_activation': 'ReLU', 'learning_rate': 0.01643585777072274, 'optimizer_name': 'Adam', 'use_weight_decay': False, 'model_seed': 1992, 'batch_size': 4}. Best is trial 27 with value: 0.047387875616550446.\n"
     ]
    },
    {
     "name": "stdout",
     "output_type": "stream",
     "text": [
      "Early stopping triggered after 97 epochs\n",
      "Trial 39 finished with value: 0.0890\n",
      "Best trial so far: 27 with value: 0.0474\n"
     ]
    },
    {
     "name": "stderr",
     "output_type": "stream",
     "text": [
      "[I 2024-08-24 02:42:29,334] Trial 40 finished with value: 0.04883453622460365 and parameters: {'num_hidden_layers': 8, 'neurons_layer_0': 256, 'neurons_layer_1': 128, 'neurons_layer_2': 256, 'neurons_layer_3': 128, 'neurons_layer_4': 128, 'neurons_layer_5': 128, 'neurons_layer_6': 128, 'neurons_layer_7': 256, 'use_dropout_1': True, 'dropout_prob_1': 0.05579730199450289, 'use_dropout_2': False, 'use_dropout_3': True, 'dropout_prob_3': 0.45074301344107237, 'use_dropout_4': True, 'dropout_prob_4': 0.05572672122677243, 'use_dropout_5': False, 'use_dropout_6': False, 'use_dropout_7': True, 'dropout_prob_7': 0.2831716245489433, 'num_res_connections': 6, 'res_layer_index_0': 6, 'num_sources_0': 6, 'source_0_0': 5, 'source_0_1': 5, 'source_0_2': 5, 'source_0_3': -1, 'source_0_4': 5, 'source_0_5': 0, 'res_layer_index_1': 7, 'num_sources_1': 7, 'source_1_0': 6, 'source_1_1': 5, 'source_1_2': 6, 'source_1_3': 6, 'source_1_4': 6, 'source_1_5': -1, 'source_1_6': 6, 'res_layer_index_2': 5, 'num_sources_2': 3, 'source_2_0': 3, 'source_2_1': 1, 'source_2_2': 2, 'res_layer_index_3': 2, 'num_sources_3': 0, 'res_layer_index_4': 5, 'num_sources_4': 2, 'source_4_0': 4, 'source_4_1': 3, 'res_layer_index_5': 7, 'num_sources_5': 7, 'source_5_0': 6, 'source_5_1': 1, 'source_5_2': 3, 'source_5_3': 6, 'source_5_4': 0, 'source_5_5': -1, 'source_5_6': 6, 'hidden_activation': 'SiLU', 'learning_rate': 0.051106014042306934, 'optimizer_name': 'Adam', 'use_weight_decay': True, 'weight_decay': 8.425931250856695e-05, 'model_seed': 8800, 'batch_size': 32}. Best is trial 27 with value: 0.047387875616550446.\n"
     ]
    },
    {
     "name": "stdout",
     "output_type": "stream",
     "text": [
      "Early stopping triggered after 238 epochs\n",
      "Trial 40 finished with value: 0.0488\n",
      "Best trial so far: 27 with value: 0.0474\n"
     ]
    },
    {
     "name": "stderr",
     "output_type": "stream",
     "text": [
      "[I 2024-08-24 02:43:02,467] Trial 41 finished with value: 0.04594885930418968 and parameters: {'num_hidden_layers': 8, 'neurons_layer_0': 128, 'neurons_layer_1': 512, 'neurons_layer_2': 512, 'neurons_layer_3': 256, 'neurons_layer_4': 128, 'neurons_layer_5': 128, 'neurons_layer_6': 256, 'neurons_layer_7': 512, 'use_dropout_1': True, 'dropout_prob_1': 0.12547590010576132, 'use_dropout_2': False, 'use_dropout_3': True, 'dropout_prob_3': 0.4717949191034361, 'use_dropout_4': True, 'dropout_prob_4': 0.1370006814304564, 'use_dropout_5': False, 'use_dropout_6': False, 'use_dropout_7': False, 'num_res_connections': 6, 'res_layer_index_0': 6, 'num_sources_0': 0, 'res_layer_index_1': 3, 'num_sources_1': 1, 'source_1_0': 1, 'res_layer_index_2': 5, 'num_sources_2': 2, 'source_2_0': 3, 'source_2_1': 0, 'res_layer_index_3': 6, 'num_sources_3': 4, 'source_3_0': 1, 'source_3_1': -1, 'source_3_2': -1, 'source_3_3': 4, 'res_layer_index_4': 5, 'num_sources_4': 5, 'source_4_0': 3, 'source_4_1': 1, 'source_4_2': 2, 'source_4_3': 4, 'source_4_4': 3, 'res_layer_index_5': 5, 'num_sources_5': 4, 'source_5_0': 3, 'source_5_1': 4, 'source_5_2': -1, 'source_5_3': 4, 'hidden_activation': 'SiLU', 'learning_rate': 0.005822509634168107, 'optimizer_name': 'Adam', 'use_weight_decay': True, 'weight_decay': 1.9038025426783844e-05, 'model_seed': 7471, 'batch_size': 8}. Best is trial 41 with value: 0.04594885930418968.\n"
     ]
    },
    {
     "name": "stdout",
     "output_type": "stream",
     "text": [
      "Early stopping triggered after 213 epochs\n",
      "Trial 41 finished with value: 0.0459\n",
      "Best trial so far: 41 with value: 0.0459\n"
     ]
    },
    {
     "name": "stderr",
     "output_type": "stream",
     "text": [
      "[I 2024-08-24 02:43:33,542] Trial 42 finished with value: 0.04945327714085579 and parameters: {'num_hidden_layers': 8, 'neurons_layer_0': 128, 'neurons_layer_1': 512, 'neurons_layer_2': 512, 'neurons_layer_3': 128, 'neurons_layer_4': 128, 'neurons_layer_5': 128, 'neurons_layer_6': 256, 'neurons_layer_7': 512, 'use_dropout_1': True, 'dropout_prob_1': 0.11669401157582433, 'use_dropout_2': False, 'use_dropout_3': True, 'dropout_prob_3': 0.49136222548562836, 'use_dropout_4': True, 'dropout_prob_4': 0.13766246342276664, 'use_dropout_5': False, 'use_dropout_6': False, 'use_dropout_7': False, 'num_res_connections': 6, 'res_layer_index_0': 6, 'num_sources_0': 0, 'res_layer_index_1': 3, 'num_sources_1': 0, 'res_layer_index_2': 5, 'num_sources_2': 4, 'source_2_0': 3, 'source_2_1': -1, 'source_2_2': 2, 'source_2_3': -1, 'res_layer_index_3': 6, 'num_sources_3': 4, 'source_3_0': 1, 'source_3_1': -1, 'source_3_2': -1, 'source_3_3': 4, 'res_layer_index_4': 5, 'num_sources_4': 3, 'source_4_0': 3, 'source_4_1': 1, 'source_4_2': 4, 'res_layer_index_5': 5, 'num_sources_5': 4, 'source_5_0': 3, 'source_5_1': 4, 'source_5_2': -1, 'source_5_3': 4, 'hidden_activation': 'SiLU', 'learning_rate': 0.0050152547038312826, 'optimizer_name': 'Adam', 'use_weight_decay': True, 'weight_decay': 6.598558789147723e-06, 'model_seed': 7436, 'batch_size': 8}. Best is trial 41 with value: 0.04594885930418968.\n"
     ]
    },
    {
     "name": "stdout",
     "output_type": "stream",
     "text": [
      "Early stopping triggered after 267 epochs\n",
      "Trial 42 finished with value: 0.0495\n",
      "Best trial so far: 41 with value: 0.0459\n"
     ]
    },
    {
     "name": "stderr",
     "output_type": "stream",
     "text": [
      "[I 2024-08-24 02:43:46,417] Trial 43 finished with value: 0.05078767612576485 and parameters: {'num_hidden_layers': 9, 'neurons_layer_0': 256, 'neurons_layer_1': 128, 'neurons_layer_2': 512, 'neurons_layer_3': 128, 'neurons_layer_4': 128, 'neurons_layer_5': 128, 'neurons_layer_6': 256, 'neurons_layer_7': 512, 'neurons_layer_8': 128, 'use_dropout_1': True, 'dropout_prob_1': 0.10837430016747222, 'use_dropout_2': False, 'use_dropout_3': True, 'dropout_prob_3': 0.4303599565078292, 'use_dropout_4': True, 'dropout_prob_4': 0.17277384015274494, 'use_dropout_5': False, 'use_dropout_6': False, 'use_dropout_7': False, 'use_dropout_8': False, 'num_res_connections': 7, 'res_layer_index_0': 7, 'num_sources_0': 7, 'source_0_0': 6, 'source_0_1': 6, 'source_0_2': 6, 'source_0_3': 6, 'source_0_4': -1, 'source_0_5': 6, 'source_0_6': 3, 'res_layer_index_1': 4, 'num_sources_1': 3, 'source_1_0': 1, 'source_1_1': 0, 'source_1_2': -1, 'res_layer_index_2': 6, 'num_sources_2': 4, 'source_2_0': 3, 'source_2_1': 2, 'source_2_2': 4, 'source_2_3': 5, 'res_layer_index_3': 6, 'num_sources_3': 4, 'source_3_0': -1, 'source_3_1': -1, 'source_3_2': -1, 'source_3_3': 3, 'res_layer_index_4': 6, 'num_sources_4': 6, 'source_4_0': 5, 'source_4_1': 3, 'source_4_2': -1, 'source_4_3': 5, 'source_4_4': 0, 'source_4_5': 3, 'res_layer_index_5': 6, 'num_sources_5': 4, 'source_5_0': 4, 'source_5_1': 3, 'source_5_2': 0, 'source_5_3': -1, 'res_layer_index_6': 1, 'num_sources_6': 0, 'hidden_activation': 'SiLU', 'learning_rate': 0.018819639745094673, 'optimizer_name': 'Adam', 'use_weight_decay': True, 'weight_decay': 8.570861681791952e-05, 'model_seed': 9222, 'batch_size': 16}. Best is trial 41 with value: 0.04594885930418968.\n"
     ]
    },
    {
     "name": "stdout",
     "output_type": "stream",
     "text": [
      "Early stopping triggered after 221 epochs\n",
      "Trial 43 finished with value: 0.0508\n",
      "Best trial so far: 41 with value: 0.0459\n"
     ]
    },
    {
     "name": "stderr",
     "output_type": "stream",
     "text": [
      "[I 2024-08-24 02:43:51,344] Trial 44 finished with value: 0.0486924834549427 and parameters: {'num_hidden_layers': 8, 'neurons_layer_0': 256, 'neurons_layer_1': 128, 'neurons_layer_2': 512, 'neurons_layer_3': 256, 'neurons_layer_4': 128, 'neurons_layer_5': 128, 'neurons_layer_6': 256, 'neurons_layer_7': 512, 'use_dropout_1': True, 'dropout_prob_1': 0.1844747500130976, 'use_dropout_2': False, 'use_dropout_3': True, 'dropout_prob_3': 0.3978719041401359, 'use_dropout_4': True, 'dropout_prob_4': 0.11663562192206314, 'use_dropout_5': False, 'use_dropout_6': False, 'use_dropout_7': False, 'num_res_connections': 4, 'res_layer_index_0': 6, 'num_sources_0': 0, 'res_layer_index_1': 3, 'num_sources_1': 0, 'res_layer_index_2': 4, 'num_sources_2': 3, 'source_2_0': 2, 'source_2_1': 0, 'source_2_2': 0, 'res_layer_index_3': 3, 'num_sources_3': 3, 'source_3_0': 1, 'source_3_1': 1, 'source_3_2': 0, 'hidden_activation': 'SiLU', 'learning_rate': 0.0068672871980510935, 'optimizer_name': 'Adam', 'use_weight_decay': True, 'weight_decay': 5.135436062013425e-06, 'model_seed': 7612, 'batch_size': 16}. Best is trial 41 with value: 0.04594885930418968.\n"
     ]
    },
    {
     "name": "stdout",
     "output_type": "stream",
     "text": [
      "Early stopping triggered after 112 epochs\n",
      "Trial 44 finished with value: 0.0487\n",
      "Best trial so far: 41 with value: 0.0459\n"
     ]
    },
    {
     "name": "stderr",
     "output_type": "stream",
     "text": [
      "[I 2024-08-24 02:43:53,954] Trial 45 finished with value: 0.08891170471906662 and parameters: {'num_hidden_layers': 7, 'neurons_layer_0': 128, 'neurons_layer_1': 512, 'neurons_layer_2': 128, 'neurons_layer_3': 512, 'neurons_layer_4': 128, 'neurons_layer_5': 128, 'neurons_layer_6': 256, 'use_dropout_1': True, 'dropout_prob_1': 0.1298267721671464, 'use_dropout_2': False, 'use_dropout_3': True, 'dropout_prob_3': 0.49622246058840846, 'use_dropout_4': True, 'dropout_prob_4': 0.21153290354715606, 'use_dropout_5': False, 'use_dropout_6': False, 'num_res_connections': 4, 'res_layer_index_0': 5, 'num_sources_0': 1, 'source_0_0': 3, 'res_layer_index_1': 2, 'num_sources_1': 1, 'source_1_0': 1, 'res_layer_index_2': 4, 'num_sources_2': 0, 'res_layer_index_3': 2, 'num_sources_3': 1, 'source_3_0': -1, 'hidden_activation': 'SiLU', 'learning_rate': 0.07097553666864366, 'optimizer_name': 'Adam', 'use_weight_decay': True, 'weight_decay': 3.592879587233979e-05, 'model_seed': 8740, 'batch_size': 32}. Best is trial 41 with value: 0.04594885930418968.\n"
     ]
    },
    {
     "name": "stdout",
     "output_type": "stream",
     "text": [
      "Early stopping triggered after 102 epochs\n",
      "Trial 45 finished with value: 0.0889\n",
      "Best trial so far: 41 with value: 0.0459\n"
     ]
    },
    {
     "name": "stderr",
     "output_type": "stream",
     "text": [
      "[I 2024-08-24 02:44:35,639] Trial 46 finished with value: 0.056510329246520996 and parameters: {'num_hidden_layers': 9, 'neurons_layer_0': 256, 'neurons_layer_1': 128, 'neurons_layer_2': 256, 'neurons_layer_3': 128, 'neurons_layer_4': 256, 'neurons_layer_5': 128, 'neurons_layer_6': 128, 'neurons_layer_7': 128, 'neurons_layer_8': 256, 'use_dropout_1': True, 'dropout_prob_1': 0.1422326459325195, 'use_dropout_2': False, 'use_dropout_3': True, 'dropout_prob_3': 0.3879609571860018, 'use_dropout_4': True, 'dropout_prob_4': 0.23822964424128407, 'use_dropout_5': False, 'use_dropout_6': False, 'use_dropout_7': True, 'dropout_prob_7': 0.2295064879393082, 'use_dropout_8': False, 'num_res_connections': 7, 'res_layer_index_0': 7, 'num_sources_0': 5, 'source_0_0': 4, 'source_0_1': 6, 'source_0_2': 4, 'source_0_3': 6, 'source_0_4': 6, 'res_layer_index_1': 4, 'num_sources_1': 4, 'source_1_0': 2, 'source_1_1': 2, 'source_1_2': 0, 'source_1_3': 2, 'res_layer_index_2': 6, 'num_sources_2': 2, 'source_2_0': 4, 'source_2_1': 2, 'res_layer_index_3': 6, 'num_sources_3': 4, 'source_3_0': 1, 'source_3_1': 1, 'source_3_2': 1, 'source_3_3': 5, 'res_layer_index_4': 4, 'num_sources_4': 1, 'source_4_0': 2, 'res_layer_index_5': 4, 'num_sources_5': 3, 'source_5_0': -1, 'source_5_1': 3, 'source_5_2': -1, 'res_layer_index_6': 2, 'num_sources_6': 1, 'source_6_0': -1, 'hidden_activation': 'SiLU', 'learning_rate': 0.031490185500233074, 'optimizer_name': 'Adam', 'use_weight_decay': True, 'weight_decay': 0.00016023524207883105, 'model_seed': 5657, 'batch_size': 8}. Best is trial 41 with value: 0.04594885930418968.\n"
     ]
    },
    {
     "name": "stdout",
     "output_type": "stream",
     "text": [
      "Early stopping triggered after 393 epochs\n",
      "Trial 46 finished with value: 0.0565\n",
      "Best trial so far: 41 with value: 0.0459\n"
     ]
    },
    {
     "name": "stderr",
     "output_type": "stream",
     "text": [
      "[I 2024-08-24 02:44:39,469] Trial 47 finished with value: 0.05086526274681091 and parameters: {'num_hidden_layers': 6, 'neurons_layer_0': 128, 'neurons_layer_1': 256, 'neurons_layer_2': 512, 'neurons_layer_3': 256, 'neurons_layer_4': 128, 'neurons_layer_5': 128, 'use_dropout_1': True, 'dropout_prob_1': 0.0815152478875414, 'use_dropout_2': False, 'use_dropout_3': True, 'dropout_prob_3': 0.07959284300578015, 'use_dropout_4': True, 'dropout_prob_4': 0.1391308850515429, 'use_dropout_5': False, 'num_res_connections': 4, 'res_layer_index_0': 4, 'num_sources_0': 0, 'res_layer_index_1': 2, 'num_sources_1': 0, 'res_layer_index_2': 4, 'num_sources_2': 2, 'source_2_0': 2, 'source_2_1': 1, 'res_layer_index_3': 4, 'num_sources_3': 3, 'source_3_0': 0, 'source_3_1': 0, 'source_3_2': -1, 'hidden_activation': 'SiLU', 'learning_rate': 0.02037192566163123, 'optimizer_name': 'Adam', 'use_weight_decay': True, 'weight_decay': 0.0004855543079049415, 'model_seed': 7750, 'batch_size': 16}. Best is trial 41 with value: 0.04594885930418968.\n"
     ]
    },
    {
     "name": "stdout",
     "output_type": "stream",
     "text": [
      "Early stopping triggered after 108 epochs\n",
      "Trial 47 finished with value: 0.0509\n",
      "Best trial so far: 41 with value: 0.0459\n"
     ]
    },
    {
     "name": "stderr",
     "output_type": "stream",
     "text": [
      "[I 2024-08-24 02:44:42,547] Trial 48 finished with value: 0.10901530086994171 and parameters: {'num_hidden_layers': 8, 'neurons_layer_0': 256, 'neurons_layer_1': 512, 'neurons_layer_2': 128, 'neurons_layer_3': 128, 'neurons_layer_4': 128, 'neurons_layer_5': 128, 'neurons_layer_6': 256, 'neurons_layer_7': 256, 'use_dropout_1': True, 'dropout_prob_1': 0.21446557475181152, 'use_dropout_2': False, 'use_dropout_3': True, 'dropout_prob_3': 0.37062152432619, 'use_dropout_4': True, 'dropout_prob_4': 0.06026891885996817, 'use_dropout_5': False, 'use_dropout_6': False, 'use_dropout_7': False, 'num_res_connections': 7, 'res_layer_index_0': 6, 'num_sources_0': 1, 'source_0_0': 3, 'res_layer_index_1': 3, 'num_sources_1': 2, 'source_1_0': 1, 'source_1_1': 0, 'res_layer_index_2': 6, 'num_sources_2': 5, 'source_2_0': 4, 'source_2_1': 1, 'source_2_2': 3, 'source_2_3': 3, 'source_2_4': -1, 'res_layer_index_3': 5, 'num_sources_3': 4, 'source_3_0': 0, 'source_3_1': 2, 'source_3_2': 2, 'source_3_3': 2, 'res_layer_index_4': 6, 'num_sources_4': 3, 'source_4_0': 3, 'source_4_1': 1, 'source_4_2': 1, 'res_layer_index_5': 3, 'num_sources_5': 0, 'res_layer_index_6': 4, 'num_sources_6': 3, 'source_6_0': 3, 'source_6_1': 3, 'source_6_2': 3, 'hidden_activation': 'GELU', 'learning_rate': 0.06363323813757377, 'optimizer_name': 'Adam', 'use_weight_decay': True, 'weight_decay': 0.00014249543890105097, 'model_seed': 8671, 'batch_size': 32}. Best is trial 41 with value: 0.04594885930418968.\n"
     ]
    },
    {
     "name": "stdout",
     "output_type": "stream",
     "text": [
      "Early stopping triggered after 77 epochs\n",
      "Trial 48 finished with value: 0.1090\n",
      "Best trial so far: 41 with value: 0.0459\n",
      "Early stopping triggered after 178 epochs\n"
     ]
    },
    {
     "name": "stderr",
     "output_type": "stream",
     "text": [
      "[I 2024-08-24 02:44:58,076] Trial 49 finished with value: 0.04660598561167717 and parameters: {'num_hidden_layers': 9, 'neurons_layer_0': 128, 'neurons_layer_1': 128, 'neurons_layer_2': 256, 'neurons_layer_3': 512, 'neurons_layer_4': 256, 'neurons_layer_5': 128, 'neurons_layer_6': 128, 'neurons_layer_7': 512, 'neurons_layer_8': 256, 'use_dropout_1': True, 'dropout_prob_1': 0.3054442523791671, 'use_dropout_2': False, 'use_dropout_3': True, 'dropout_prob_3': 0.4420584671953475, 'use_dropout_4': True, 'dropout_prob_4': 0.10587332888109537, 'use_dropout_5': False, 'use_dropout_6': False, 'use_dropout_7': True, 'dropout_prob_7': 0.3535400448884419, 'use_dropout_8': False, 'num_res_connections': 8, 'res_layer_index_0': 7, 'num_sources_0': 0, 'res_layer_index_1': 7, 'num_sources_1': 7, 'source_1_0': 3, 'source_1_1': 6, 'source_1_2': 3, 'source_1_3': 6, 'source_1_4': 2, 'source_1_5': 2, 'source_1_6': -1, 'res_layer_index_2': 6, 'num_sources_2': 5, 'source_2_0': 4, 'source_2_1': -1, 'source_2_2': 5, 'source_2_3': 2, 'source_2_4': -1, 'res_layer_index_3': 7, 'num_sources_3': 5, 'source_3_0': 1, 'source_3_1': -1, 'source_3_2': 4, 'source_3_3': -1, 'source_3_4': -1, 'res_layer_index_4': 3, 'num_sources_4': 1, 'source_4_0': 1, 'res_layer_index_5': 8, 'num_sources_5': 8, 'source_5_0': 5, 'source_5_1': 5, 'source_5_2': 3, 'source_5_3': 4, 'source_5_4': 2, 'source_5_5': 7, 'source_5_6': -1, 'source_5_7': 3, 'res_layer_index_6': 4, 'num_sources_6': 3, 'source_6_0': 2, 'source_6_1': -1, 'source_6_2': -1, 'res_layer_index_7': 8, 'num_sources_7': 7, 'source_7_0': 7, 'source_7_1': 4, 'source_7_2': 2, 'source_7_3': -1, 'source_7_4': 3, 'source_7_5': 5, 'source_7_6': 2, 'hidden_activation': 'SiLU', 'learning_rate': 0.014071244433354013, 'optimizer_name': 'Adam', 'use_weight_decay': True, 'weight_decay': 4.190388945472532e-05, 'model_seed': 3338, 'batch_size': 16}. Best is trial 41 with value: 0.04594885930418968.\n"
     ]
    },
    {
     "name": "stdout",
     "output_type": "stream",
     "text": [
      "Trial 49 finished with value: 0.0466\n",
      "Best trial so far: 41 with value: 0.0459\n"
     ]
    },
    {
     "name": "stderr",
     "output_type": "stream",
     "text": [
      "[I 2024-08-24 02:45:09,725] Trial 50 finished with value: 0.050654299557209015 and parameters: {'num_hidden_layers': 9, 'neurons_layer_0': 128, 'neurons_layer_1': 256, 'neurons_layer_2': 256, 'neurons_layer_3': 512, 'neurons_layer_4': 256, 'neurons_layer_5': 128, 'neurons_layer_6': 128, 'neurons_layer_7': 512, 'neurons_layer_8': 256, 'use_dropout_1': True, 'dropout_prob_1': 0.3340090853374043, 'use_dropout_2': False, 'use_dropout_3': True, 'dropout_prob_3': 0.13686209441382027, 'use_dropout_4': True, 'dropout_prob_4': 0.10637380918519912, 'use_dropout_5': False, 'use_dropout_6': False, 'use_dropout_7': True, 'dropout_prob_7': 0.34634332431506715, 'use_dropout_8': False, 'num_res_connections': 8, 'res_layer_index_0': 7, 'num_sources_0': 4, 'source_0_0': 5, 'source_0_1': 4, 'source_0_2': -1, 'source_0_3': 4, 'res_layer_index_1': 8, 'num_sources_1': 7, 'source_1_0': 3, 'source_1_1': 6, 'source_1_2': 6, 'source_1_3': 6, 'source_1_4': 2, 'source_1_5': 2, 'source_1_6': -1, 'res_layer_index_2': 6, 'num_sources_2': 5, 'source_2_0': 4, 'source_2_1': -1, 'source_2_2': 5, 'source_2_3': 2, 'source_2_4': -1, 'res_layer_index_3': 7, 'num_sources_3': 5, 'source_3_0': 2, 'source_3_1': -1, 'source_3_2': 5, 'source_3_3': -1, 'source_3_4': -1, 'res_layer_index_4': 3, 'num_sources_4': 1, 'source_4_0': 1, 'res_layer_index_5': 8, 'num_sources_5': 8, 'source_5_0': 5, 'source_5_1': 6, 'source_5_2': 4, 'source_5_3': 4, 'source_5_4': 2, 'source_5_5': 7, 'source_5_6': -1, 'source_5_7': 3, 'res_layer_index_6': 4, 'num_sources_6': 3, 'source_6_0': 2, 'source_6_1': -1, 'source_6_2': -1, 'res_layer_index_7': 8, 'num_sources_7': 8, 'source_7_0': 7, 'source_7_1': 4, 'source_7_2': 2, 'source_7_3': -1, 'source_7_4': 3, 'source_7_5': 5, 'source_7_6': 2, 'source_7_7': 5, 'hidden_activation': 'SiLU', 'learning_rate': 0.0033306718163286972, 'optimizer_name': 'AdamW', 'use_weight_decay': True, 'weight_decay': 2.8033574622285648e-05, 'model_seed': 9212, 'batch_size': 16}. Best is trial 41 with value: 0.04594885930418968.\n"
     ]
    },
    {
     "name": "stdout",
     "output_type": "stream",
     "text": [
      "Early stopping triggered after 174 epochs\n",
      "Trial 50 finished with value: 0.0507\n",
      "Best trial so far: 41 with value: 0.0459\n"
     ]
    },
    {
     "name": "stderr",
     "output_type": "stream",
     "text": [
      "[I 2024-08-24 02:45:25,390] Trial 51 finished with value: 0.047173675149679184 and parameters: {'num_hidden_layers': 10, 'neurons_layer_0': 128, 'neurons_layer_1': 128, 'neurons_layer_2': 256, 'neurons_layer_3': 512, 'neurons_layer_4': 256, 'neurons_layer_5': 128, 'neurons_layer_6': 128, 'neurons_layer_7': 512, 'neurons_layer_8': 256, 'neurons_layer_9': 128, 'use_dropout_1': True, 'dropout_prob_1': 0.3437568956487159, 'use_dropout_2': False, 'use_dropout_3': True, 'dropout_prob_3': 0.4489407793672714, 'use_dropout_4': True, 'dropout_prob_4': 0.1637164311283293, 'use_dropout_5': False, 'use_dropout_6': False, 'use_dropout_7': True, 'dropout_prob_7': 0.3424017137448511, 'use_dropout_8': False, 'use_dropout_9': True, 'dropout_prob_9': 0.0581980209709735, 'num_res_connections': 9, 'res_layer_index_0': 9, 'num_sources_0': 0, 'res_layer_index_1': 7, 'num_sources_1': 6, 'source_1_0': 2, 'source_1_1': 4, 'source_1_2': 3, 'source_1_3': 4, 'source_1_4': 3, 'source_1_5': 2, 'res_layer_index_2': 7, 'num_sources_2': 6, 'source_2_0': 4, 'source_2_1': 0, 'source_2_2': 6, 'source_2_3': 1, 'source_2_4': 1, 'source_2_5': -1, 'res_layer_index_3': 8, 'num_sources_3': 6, 'source_3_0': 1, 'source_3_1': -1, 'source_3_2': 5, 'source_3_3': 4, 'source_3_4': -1, 'source_3_5': 7, 'res_layer_index_4': 4, 'num_sources_4': 1, 'source_4_0': 2, 'res_layer_index_5': 8, 'num_sources_5': 6, 'source_5_0': 7, 'source_5_1': 5, 'source_5_2': 7, 'source_5_3': 4, 'source_5_4': 3, 'source_5_5': 7, 'res_layer_index_6': 3, 'num_sources_6': 3, 'source_6_0': 2, 'source_6_1': -1, 'source_6_2': -1, 'res_layer_index_7': 9, 'num_sources_7': 6, 'source_7_0': 6, 'source_7_1': 3, 'source_7_2': 2, 'source_7_3': 3, 'source_7_4': 2, 'source_7_5': 2, 'res_layer_index_8': 1, 'num_sources_8': 0, 'hidden_activation': 'SiLU', 'learning_rate': 0.013150575423126198, 'optimizer_name': 'Adam', 'use_weight_decay': True, 'weight_decay': 6.182781756662497e-05, 'model_seed': 3492, 'batch_size': 16}. Best is trial 41 with value: 0.04594885930418968.\n"
     ]
    },
    {
     "name": "stdout",
     "output_type": "stream",
     "text": [
      "Early stopping triggered after 226 epochs\n",
      "Trial 51 finished with value: 0.0472\n",
      "Best trial so far: 41 with value: 0.0459\n"
     ]
    },
    {
     "name": "stderr",
     "output_type": "stream",
     "text": [
      "[I 2024-08-24 02:45:40,455] Trial 52 finished with value: 0.05077690631151199 and parameters: {'num_hidden_layers': 10, 'neurons_layer_0': 128, 'neurons_layer_1': 128, 'neurons_layer_2': 256, 'neurons_layer_3': 512, 'neurons_layer_4': 256, 'neurons_layer_5': 128, 'neurons_layer_6': 128, 'neurons_layer_7': 512, 'neurons_layer_8': 256, 'neurons_layer_9': 128, 'use_dropout_1': True, 'dropout_prob_1': 0.34735143911679406, 'use_dropout_2': False, 'use_dropout_3': True, 'dropout_prob_3': 0.45783228592152114, 'use_dropout_4': True, 'dropout_prob_4': 0.15685994052833477, 'use_dropout_5': False, 'use_dropout_6': False, 'use_dropout_7': True, 'dropout_prob_7': 0.34245751533037594, 'use_dropout_8': False, 'use_dropout_9': True, 'dropout_prob_9': 0.07650605951170758, 'num_res_connections': 9, 'res_layer_index_0': 9, 'num_sources_0': 3, 'source_0_0': 8, 'source_0_1': 8, 'source_0_2': 8, 'res_layer_index_1': 7, 'num_sources_1': 6, 'source_1_0': 2, 'source_1_1': 6, 'source_1_2': 3, 'source_1_3': 5, 'source_1_4': 3, 'source_1_5': 2, 'res_layer_index_2': 6, 'num_sources_2': 6, 'source_2_0': 3, 'source_2_1': 0, 'source_2_2': 5, 'source_2_3': 1, 'source_2_4': 1, 'source_2_5': -1, 'res_layer_index_3': 9, 'num_sources_3': 6, 'source_3_0': 8, 'source_3_1': -1, 'source_3_2': 5, 'source_3_3': 8, 'source_3_4': -1, 'source_3_5': 8, 'res_layer_index_4': 2, 'num_sources_4': 1, 'source_4_0': 1, 'res_layer_index_5': 9, 'num_sources_5': 9, 'source_5_0': 8, 'source_5_1': 5, 'source_5_2': 8, 'source_5_3': 4, 'source_5_4': 3, 'source_5_5': 8, 'source_5_6': 1, 'source_5_7': 3, 'source_5_8': -1, 'res_layer_index_6': 3, 'num_sources_6': 3, 'source_6_0': 2, 'source_6_1': -1, 'source_6_2': -1, 'res_layer_index_7': 9, 'num_sources_7': 6, 'source_7_0': 7, 'source_7_1': 3, 'source_7_2': 2, 'source_7_3': 4, 'source_7_4': 2, 'source_7_5': 2, 'res_layer_index_8': 1, 'num_sources_8': 0, 'hidden_activation': 'SiLU', 'learning_rate': 0.013833714085130294, 'optimizer_name': 'Adam', 'use_weight_decay': True, 'weight_decay': 5.905830759299911e-05, 'model_seed': 3602, 'batch_size': 16}. Best is trial 41 with value: 0.04594885930418968.\n"
     ]
    },
    {
     "name": "stdout",
     "output_type": "stream",
     "text": [
      "Early stopping triggered after 201 epochs\n",
      "Trial 52 finished with value: 0.0508\n",
      "Best trial so far: 41 with value: 0.0459\n"
     ]
    },
    {
     "name": "stderr",
     "output_type": "stream",
     "text": [
      "[I 2024-08-24 02:45:55,461] Trial 53 finished with value: 0.050544850528240204 and parameters: {'num_hidden_layers': 10, 'neurons_layer_0': 128, 'neurons_layer_1': 128, 'neurons_layer_2': 256, 'neurons_layer_3': 512, 'neurons_layer_4': 256, 'neurons_layer_5': 128, 'neurons_layer_6': 128, 'neurons_layer_7': 512, 'neurons_layer_8': 256, 'neurons_layer_9': 128, 'use_dropout_1': True, 'dropout_prob_1': 0.3076302811492318, 'use_dropout_2': False, 'use_dropout_3': True, 'dropout_prob_3': 0.4714151770960466, 'use_dropout_4': True, 'dropout_prob_4': 0.10063840257919388, 'use_dropout_5': False, 'use_dropout_6': False, 'use_dropout_7': True, 'dropout_prob_7': 0.2978457478398404, 'use_dropout_8': False, 'use_dropout_9': True, 'dropout_prob_9': 0.06673306547117475, 'num_res_connections': 8, 'res_layer_index_0': 9, 'num_sources_0': 1, 'source_0_0': 8, 'res_layer_index_1': 7, 'num_sources_1': 6, 'source_1_0': 3, 'source_1_1': 4, 'source_1_2': 3, 'source_1_3': 4, 'source_1_4': 3, 'source_1_5': 5, 'res_layer_index_2': 7, 'num_sources_2': 6, 'source_2_0': 4, 'source_2_1': -1, 'source_2_2': 6, 'source_2_3': 2, 'source_2_4': 1, 'source_2_5': -1, 'res_layer_index_3': 8, 'num_sources_3': 6, 'source_3_0': 2, 'source_3_1': 0, 'source_3_2': 5, 'source_3_3': 4, 'source_3_4': 1, 'source_3_5': 7, 'res_layer_index_4': 4, 'num_sources_4': 1, 'source_4_0': 2, 'res_layer_index_5': 9, 'num_sources_5': 6, 'source_5_0': 8, 'source_5_1': 4, 'source_5_2': 3, 'source_5_3': 3, 'source_5_4': 3, 'source_5_5': 6, 'res_layer_index_6': 5, 'num_sources_6': 4, 'source_6_0': 3, 'source_6_1': 0, 'source_6_2': 1, 'source_6_3': -1, 'res_layer_index_7': 8, 'num_sources_7': 5, 'source_7_0': 5, 'source_7_1': 3, 'source_7_2': 2, 'source_7_3': -1, 'source_7_4': 3, 'hidden_activation': 'SiLU', 'learning_rate': 0.006696646032627615, 'optimizer_name': 'Adam', 'use_weight_decay': True, 'weight_decay': 1.187602947917362e-05, 'model_seed': 8358, 'batch_size': 16}. Best is trial 41 with value: 0.04594885930418968.\n"
     ]
    },
    {
     "name": "stdout",
     "output_type": "stream",
     "text": [
      "Early stopping triggered after 200 epochs\n",
      "Trial 53 finished with value: 0.0505\n",
      "Best trial so far: 41 with value: 0.0459\n"
     ]
    },
    {
     "name": "stderr",
     "output_type": "stream",
     "text": [
      "[I 2024-08-24 02:46:06,499] Trial 54 finished with value: 0.05398610234260559 and parameters: {'num_hidden_layers': 9, 'neurons_layer_0': 128, 'neurons_layer_1': 128, 'neurons_layer_2': 256, 'neurons_layer_3': 512, 'neurons_layer_4': 256, 'neurons_layer_5': 128, 'neurons_layer_6': 128, 'neurons_layer_7': 512, 'neurons_layer_8': 256, 'use_dropout_1': True, 'dropout_prob_1': 0.35983745735687905, 'use_dropout_2': False, 'use_dropout_3': True, 'dropout_prob_3': 0.4182036560110371, 'use_dropout_4': True, 'dropout_prob_4': 0.195330514282761, 'use_dropout_5': False, 'use_dropout_6': False, 'use_dropout_7': True, 'dropout_prob_7': 0.4244396287904111, 'use_dropout_8': False, 'num_res_connections': 8, 'res_layer_index_0': 7, 'num_sources_0': 0, 'res_layer_index_1': 6, 'num_sources_1': 5, 'source_1_0': 3, 'source_1_1': 3, 'source_1_2': 3, 'source_1_3': 1, 'source_1_4': 1, 'res_layer_index_2': 5, 'num_sources_2': 4, 'source_2_0': 3, 'source_2_1': 0, 'source_2_2': 3, 'source_2_3': 1, 'res_layer_index_3': 7, 'num_sources_3': 5, 'source_3_0': 1, 'source_3_1': -1, 'source_3_2': 4, 'source_3_3': 3, 'source_3_4': 1, 'res_layer_index_4': 6, 'num_sources_4': 4, 'source_4_0': 4, 'source_4_1': 5, 'source_4_2': 3, 'source_4_3': 4, 'res_layer_index_5': 7, 'num_sources_5': 5, 'source_5_0': 5, 'source_5_1': 5, 'source_5_2': 6, 'source_5_3': 5, 'source_5_4': 2, 'res_layer_index_6': 2, 'num_sources_6': 2, 'source_6_0': 1, 'source_6_1': -1, 'res_layer_index_7': 7, 'num_sources_7': 4, 'source_7_0': 3, 'source_7_1': 2, 'source_7_2': 5, 'source_7_3': 2, 'hidden_activation': 'SiLU', 'learning_rate': 0.004468932892416986, 'optimizer_name': 'Adam', 'use_weight_decay': True, 'weight_decay': 4.142306551850776e-05, 'model_seed': 3196, 'batch_size': 16}. Best is trial 41 with value: 0.04594885930418968.\n"
     ]
    },
    {
     "name": "stdout",
     "output_type": "stream",
     "text": [
      "Early stopping triggered after 186 epochs\n",
      "Trial 54 finished with value: 0.0540\n",
      "Best trial so far: 41 with value: 0.0459\n"
     ]
    },
    {
     "name": "stderr",
     "output_type": "stream",
     "text": [
      "[I 2024-08-24 02:46:21,852] Trial 55 finished with value: 0.04766933619976044 and parameters: {'num_hidden_layers': 10, 'neurons_layer_0': 128, 'neurons_layer_1': 128, 'neurons_layer_2': 256, 'neurons_layer_3': 512, 'neurons_layer_4': 256, 'neurons_layer_5': 128, 'neurons_layer_6': 128, 'neurons_layer_7': 512, 'neurons_layer_8': 256, 'neurons_layer_9': 128, 'use_dropout_1': True, 'dropout_prob_1': 0.29545587401126105, 'use_dropout_2': False, 'use_dropout_3': True, 'dropout_prob_3': 0.3716083767037383, 'use_dropout_4': True, 'dropout_prob_4': 0.08224144897525258, 'use_dropout_5': False, 'use_dropout_6': False, 'use_dropout_7': True, 'dropout_prob_7': 0.3759822532878783, 'use_dropout_8': False, 'use_dropout_9': True, 'dropout_prob_9': 0.15766742433175945, 'num_res_connections': 9, 'res_layer_index_0': 9, 'num_sources_0': 9, 'source_0_0': 7, 'source_0_1': 8, 'source_0_2': 8, 'source_0_3': 8, 'source_0_4': 1, 'source_0_5': 8, 'source_0_6': 8, 'source_0_7': 5, 'source_0_8': 3, 'res_layer_index_1': 8, 'num_sources_1': 8, 'source_1_0': 2, 'source_1_1': 7, 'source_1_2': 2, 'source_1_3': 7, 'source_1_4': 5, 'source_1_5': -1, 'source_1_6': -1, 'source_1_7': 3, 'res_layer_index_2': 9, 'num_sources_2': 8, 'source_2_0': 5, 'source_2_1': 3, 'source_2_2': 8, 'source_2_3': 8, 'source_2_4': 2, 'source_2_5': 7, 'source_2_6': 0, 'source_2_7': 4, 'res_layer_index_3': 8, 'num_sources_3': 5, 'source_3_0': 0, 'source_3_1': 0, 'source_3_2': 6, 'source_3_3': 6, 'source_3_4': 1, 'res_layer_index_4': 3, 'num_sources_4': 1, 'source_4_0': 1, 'res_layer_index_5': 8, 'num_sources_5': 7, 'source_5_0': 6, 'source_5_1': 2, 'source_5_2': 1, 'source_5_3': 2, 'source_5_4': 5, 'source_5_5': 5, 'source_5_6': 3, 'res_layer_index_6': 3, 'num_sources_6': 2, 'source_6_0': 1, 'source_6_1': 0, 'res_layer_index_7': 7, 'num_sources_7': 7, 'source_7_0': 2, 'source_7_1': 6, 'source_7_2': -1, 'source_7_3': 2, 'source_7_4': -1, 'source_7_5': 2, 'source_7_6': 6, 'res_layer_index_8': 1, 'num_sources_8': 0, 'hidden_activation': 'SiLU', 'learning_rate': 0.013012558030755515, 'optimizer_name': 'Adam', 'use_weight_decay': True, 'weight_decay': 4.159717507491683e-06, 'model_seed': 5023, 'batch_size': 16}. Best is trial 41 with value: 0.04594885930418968.\n"
     ]
    },
    {
     "name": "stdout",
     "output_type": "stream",
     "text": [
      "Early stopping triggered after 231 epochs\n",
      "Trial 55 finished with value: 0.0477\n",
      "Best trial so far: 41 with value: 0.0459\n"
     ]
    },
    {
     "name": "stderr",
     "output_type": "stream",
     "text": [
      "[I 2024-08-24 02:46:35,287] Trial 56 finished with value: 0.048241328448057175 and parameters: {'num_hidden_layers': 9, 'neurons_layer_0': 128, 'neurons_layer_1': 128, 'neurons_layer_2': 256, 'neurons_layer_3': 512, 'neurons_layer_4': 256, 'neurons_layer_5': 128, 'neurons_layer_6': 128, 'neurons_layer_7': 512, 'neurons_layer_8': 256, 'use_dropout_1': True, 'dropout_prob_1': 0.2696048487586243, 'use_dropout_2': False, 'use_dropout_3': True, 'dropout_prob_3': 0.338530733519714, 'use_dropout_4': True, 'dropout_prob_4': 0.07587501979764928, 'use_dropout_5': False, 'use_dropout_6': False, 'use_dropout_7': True, 'dropout_prob_7': 0.39406047456119675, 'use_dropout_8': False, 'num_res_connections': 7, 'res_layer_index_0': 8, 'num_sources_0': 7, 'source_0_0': 6, 'source_0_1': 7, 'source_0_2': 7, 'source_0_3': 7, 'source_0_4': 1, 'source_0_5': 7, 'source_0_6': 7, 'res_layer_index_1': 8, 'num_sources_1': 8, 'source_1_0': 2, 'source_1_1': 7, 'source_1_2': 2, 'source_1_3': 7, 'source_1_4': 5, 'source_1_5': -1, 'source_1_6': -1, 'source_1_7': 3, 'res_layer_index_2': 7, 'num_sources_2': 7, 'source_2_0': 5, 'source_2_1': 3, 'source_2_2': 6, 'source_2_3': 5, 'source_2_4': 2, 'source_2_5': 6, 'source_2_6': 0, 'res_layer_index_3': 8, 'num_sources_3': 8, 'source_3_0': 0, 'source_3_1': 0, 'source_3_2': 7, 'source_3_3': 6, 'source_3_4': 0, 'source_3_5': -1, 'source_3_6': -1, 'source_3_7': -1, 'res_layer_index_4': 3, 'num_sources_4': 1, 'source_4_0': 1, 'res_layer_index_5': 7, 'num_sources_5': 6, 'source_5_0': 5, 'source_5_1': 1, 'source_5_2': 1, 'source_5_3': 2, 'source_5_4': 6, 'source_5_5': 4, 'res_layer_index_6': 5, 'num_sources_6': 4, 'source_6_0': 1, 'source_6_1': 0, 'source_6_2': -1, 'source_6_3': 3, 'hidden_activation': 'SiLU', 'learning_rate': 0.00825650400507397, 'optimizer_name': 'Adam', 'use_weight_decay': True, 'weight_decay': 2.2708946650095288e-05, 'model_seed': 7800, 'batch_size': 16}. Best is trial 41 with value: 0.04594885930418968.\n"
     ]
    },
    {
     "name": "stdout",
     "output_type": "stream",
     "text": [
      "Early stopping triggered after 220 epochs\n",
      "Trial 56 finished with value: 0.0482\n",
      "Best trial so far: 41 with value: 0.0459\n"
     ]
    },
    {
     "name": "stderr",
     "output_type": "stream",
     "text": [
      "[I 2024-08-24 02:46:48,198] Trial 57 finished with value: 0.04802042990922928 and parameters: {'num_hidden_layers': 9, 'neurons_layer_0': 128, 'neurons_layer_1': 128, 'neurons_layer_2': 256, 'neurons_layer_3': 512, 'neurons_layer_4': 256, 'neurons_layer_5': 128, 'neurons_layer_6': 128, 'neurons_layer_7': 512, 'neurons_layer_8': 256, 'use_dropout_1': True, 'dropout_prob_1': 0.2936441251885537, 'use_dropout_2': False, 'use_dropout_3': True, 'dropout_prob_3': 0.36433199854524106, 'use_dropout_4': True, 'dropout_prob_4': 0.12509680560498154, 'use_dropout_5': False, 'use_dropout_6': False, 'use_dropout_7': True, 'dropout_prob_7': 0.3578283887012778, 'use_dropout_8': False, 'num_res_connections': 8, 'res_layer_index_0': 8, 'num_sources_0': 8, 'source_0_0': 6, 'source_0_1': 5, 'source_0_2': 4, 'source_0_3': 5, 'source_0_4': -1, 'source_0_5': 3, 'source_0_6': -1, 'source_0_7': 5, 'res_layer_index_1': 8, 'num_sources_1': 8, 'source_1_0': 4, 'source_1_1': 7, 'source_1_2': 2, 'source_1_3': 7, 'source_1_4': 5, 'source_1_5': 0, 'source_1_6': 1, 'source_1_7': 6, 'res_layer_index_2': 7, 'num_sources_2': 7, 'source_2_0': 5, 'source_2_1': 3, 'source_2_2': 6, 'source_2_3': 6, 'source_2_4': 1, 'source_2_5': 6, 'source_2_6': 0, 'res_layer_index_3': 8, 'num_sources_3': 6, 'source_3_0': 4, 'source_3_1': -1, 'source_3_2': 6, 'source_3_3': 5, 'source_3_4': 2, 'source_3_5': 5, 'res_layer_index_4': 3, 'num_sources_4': 1, 'source_4_0': 1, 'res_layer_index_5': 6, 'num_sources_5': 5, 'source_5_0': 2, 'source_5_1': 2, 'source_5_2': 2, 'source_5_3': 2, 'source_5_4': 1, 'res_layer_index_6': 3, 'num_sources_6': 2, 'source_6_0': 2, 'source_6_1': 0, 'res_layer_index_7': 6, 'num_sources_7': 6, 'source_7_0': 4, 'source_7_1': 5, 'source_7_2': -1, 'source_7_3': 3, 'source_7_4': -1, 'source_7_5': 2, 'hidden_activation': 'SiLU', 'learning_rate': 0.005966924531517004, 'optimizer_name': 'Adam', 'use_weight_decay': True, 'weight_decay': 4.326569365778047e-06, 'model_seed': 2119, 'batch_size': 16}. Best is trial 41 with value: 0.04594885930418968.\n"
     ]
    },
    {
     "name": "stdout",
     "output_type": "stream",
     "text": [
      "Early stopping triggered after 193 epochs\n",
      "Trial 57 finished with value: 0.0480\n",
      "Best trial so far: 41 with value: 0.0459\n"
     ]
    },
    {
     "name": "stderr",
     "output_type": "stream",
     "text": [
      "[I 2024-08-24 02:47:23,077] Trial 58 finished with value: 0.055005282163619995 and parameters: {'num_hidden_layers': 10, 'neurons_layer_0': 128, 'neurons_layer_1': 128, 'neurons_layer_2': 256, 'neurons_layer_3': 512, 'neurons_layer_4': 256, 'neurons_layer_5': 128, 'neurons_layer_6': 128, 'neurons_layer_7': 512, 'neurons_layer_8': 256, 'neurons_layer_9': 128, 'use_dropout_1': True, 'dropout_prob_1': 0.4861345099178164, 'use_dropout_2': False, 'use_dropout_3': True, 'dropout_prob_3': 0.4102967933774321, 'use_dropout_4': True, 'dropout_prob_4': 0.15531067486505473, 'use_dropout_5': False, 'use_dropout_6': False, 'use_dropout_7': True, 'dropout_prob_7': 0.47308468400615766, 'use_dropout_8': False, 'use_dropout_9': True, 'dropout_prob_9': 0.18850874211255667, 'num_res_connections': 9, 'res_layer_index_0': 9, 'num_sources_0': 9, 'source_0_0': 7, 'source_0_1': 8, 'source_0_2': 8, 'source_0_3': 7, 'source_0_4': 8, 'source_0_5': 8, 'source_0_6': 8, 'source_0_7': -1, 'source_0_8': 3, 'res_layer_index_1': 9, 'num_sources_1': 9, 'source_1_0': 1, 'source_1_1': 8, 'source_1_2': 5, 'source_1_3': 8, 'source_1_4': 1, 'source_1_5': 2, 'source_1_6': 3, 'source_1_7': -1, 'source_1_8': 7, 'res_layer_index_2': 9, 'num_sources_2': 8, 'source_2_0': 5, 'source_2_1': 6, 'source_2_2': 8, 'source_2_3': 7, 'source_2_4': 3, 'source_2_5': 8, 'source_2_6': 8, 'source_2_7': 4, 'res_layer_index_3': 9, 'num_sources_3': 7, 'source_3_0': 2, 'source_3_1': 5, 'source_3_2': 8, 'source_3_3': 7, 'source_3_4': -1, 'source_3_5': 6, 'source_3_6': -1, 'res_layer_index_4': 5, 'num_sources_4': 2, 'source_4_0': 2, 'source_4_1': -1, 'res_layer_index_5': 8, 'num_sources_5': 7, 'source_5_0': 6, 'source_5_1': 5, 'source_5_2': 5, 'source_5_3': 6, 'source_5_4': 5, 'source_5_5': 2, 'source_5_6': 4, 'res_layer_index_6': 5, 'num_sources_6': 4, 'source_6_0': 3, 'source_6_1': -1, 'source_6_2': 1, 'source_6_3': -1, 'res_layer_index_7': 9, 'num_sources_7': 8, 'source_7_0': 8, 'source_7_1': 8, 'source_7_2': -1, 'source_7_3': 1, 'source_7_4': 8, 'source_7_5': 4, 'source_7_6': 7, 'source_7_7': -1, 'res_layer_index_8': 1, 'num_sources_8': 0, 'hidden_activation': 'SiLU', 'learning_rate': 0.013885521778452078, 'optimizer_name': 'Adam', 'use_weight_decay': True, 'weight_decay': 3.1478362107394543e-06, 'model_seed': 7103, 'batch_size': 8}. Best is trial 41 with value: 0.04594885930418968.\n"
     ]
    },
    {
     "name": "stdout",
     "output_type": "stream",
     "text": [
      "Early stopping triggered after 282 epochs\n",
      "Trial 58 finished with value: 0.0550\n",
      "Best trial so far: 41 with value: 0.0459\n"
     ]
    },
    {
     "name": "stderr",
     "output_type": "stream",
     "text": [
      "[I 2024-08-24 02:47:28,699] Trial 59 finished with value: 0.0537959448993206 and parameters: {'num_hidden_layers': 8, 'neurons_layer_0': 128, 'neurons_layer_1': 128, 'neurons_layer_2': 512, 'neurons_layer_3': 512, 'neurons_layer_4': 256, 'neurons_layer_5': 128, 'neurons_layer_6': 256, 'neurons_layer_7': 512, 'use_dropout_1': True, 'dropout_prob_1': 0.2500452253171435, 'use_dropout_2': False, 'use_dropout_3': False, 'use_dropout_4': True, 'dropout_prob_4': 0.091354283051254, 'use_dropout_5': False, 'use_dropout_6': False, 'use_dropout_7': True, 'dropout_prob_7': 0.38830700622713865, 'num_res_connections': 6, 'res_layer_index_0': 6, 'num_sources_0': 0, 'res_layer_index_1': 6, 'num_sources_1': 6, 'source_1_0': 3, 'source_1_1': 5, 'source_1_2': 3, 'source_1_3': 4, 'source_1_4': 3, 'source_1_5': 4, 'res_layer_index_2': 6, 'num_sources_2': 5, 'source_2_0': 4, 'source_2_1': 3, 'source_2_2': 4, 'source_2_3': 0, 'source_2_4': 0, 'res_layer_index_3': 6, 'num_sources_3': 5, 'source_3_0': 1, 'source_3_1': -1, 'source_3_2': 4, 'source_3_3': 2, 'source_3_4': 0, 'res_layer_index_4': 4, 'num_sources_4': 2, 'source_4_0': 0, 'source_4_1': 0, 'res_layer_index_5': 6, 'num_sources_5': 5, 'source_5_0': 3, 'source_5_1': -1, 'source_5_2': 1, 'source_5_3': 1, 'source_5_4': 4, 'hidden_activation': 'SiLU', 'learning_rate': 0.0015418260420233722, 'optimizer_name': 'Adam', 'use_weight_decay': True, 'weight_decay': 8.231524258503396e-06, 'model_seed': 9463, 'batch_size': 16}. Best is trial 41 with value: 0.04594885930418968.\n"
     ]
    },
    {
     "name": "stdout",
     "output_type": "stream",
     "text": [
      "Early stopping triggered after 108 epochs\n",
      "Trial 59 finished with value: 0.0538\n",
      "Best trial so far: 41 with value: 0.0459\n"
     ]
    },
    {
     "name": "stderr",
     "output_type": "stream",
     "text": [
      "[I 2024-08-24 02:47:36,479] Trial 60 finished with value: 0.054603949189186096 and parameters: {'num_hidden_layers': 9, 'neurons_layer_0': 128, 'neurons_layer_1': 128, 'neurons_layer_2': 256, 'neurons_layer_3': 512, 'neurons_layer_4': 256, 'neurons_layer_5': 128, 'neurons_layer_6': 128, 'neurons_layer_7': 512, 'neurons_layer_8': 256, 'use_dropout_1': False, 'use_dropout_2': False, 'use_dropout_3': True, 'dropout_prob_3': 0.453732958045992, 'use_dropout_4': True, 'dropout_prob_4': 0.05210058929719596, 'use_dropout_5': False, 'use_dropout_6': False, 'use_dropout_7': True, 'dropout_prob_7': 0.24184207809315184, 'use_dropout_8': False, 'num_res_connections': 8, 'res_layer_index_0': 7, 'num_sources_0': 5, 'source_0_0': 5, 'source_0_1': 4, 'source_0_2': 4, 'source_0_3': -1, 'source_0_4': 1, 'res_layer_index_1': 7, 'num_sources_1': 7, 'source_1_0': 2, 'source_1_1': 5, 'source_1_2': 1, 'source_1_3': 5, 'source_1_4': 4, 'source_1_5': 0, 'source_1_6': 1, 'res_layer_index_2': 6, 'num_sources_2': 4, 'source_2_0': 4, 'source_2_1': -1, 'source_2_2': 3, 'source_2_3': 2, 'res_layer_index_3': 7, 'num_sources_3': 5, 'source_3_0': 0, 'source_3_1': 0, 'source_3_2': 4, 'source_3_3': 4, 'source_3_4': 1, 'res_layer_index_4': 2, 'num_sources_4': 1, 'source_4_0': 0, 'res_layer_index_5': 7, 'num_sources_5': 6, 'source_5_0': 4, 'source_5_1': 4, 'source_5_2': 2, 'source_5_3': 3, 'source_5_4': 1, 'source_5_5': 4, 'res_layer_index_6': 3, 'num_sources_6': 2, 'source_6_0': 1, 'source_6_1': 1, 'res_layer_index_7': 7, 'num_sources_7': 6, 'source_7_0': 0, 'source_7_1': 6, 'source_7_2': 4, 'source_7_3': 6, 'source_7_4': 0, 'source_7_5': 0, 'hidden_activation': 'SiLU', 'learning_rate': 0.0004147800683884907, 'optimizer_name': 'Adam', 'use_weight_decay': True, 'weight_decay': 1.1473650613824668e-05, 'model_seed': 5424, 'batch_size': 16}. Best is trial 41 with value: 0.04594885930418968.\n"
     ]
    },
    {
     "name": "stdout",
     "output_type": "stream",
     "text": [
      "Early stopping triggered after 102 epochs\n",
      "Trial 60 finished with value: 0.0546\n",
      "Best trial so far: 41 with value: 0.0459\n"
     ]
    },
    {
     "name": "stderr",
     "output_type": "stream",
     "text": [
      "[I 2024-08-24 02:47:53,499] Trial 61 finished with value: 0.0513155497610569 and parameters: {'num_hidden_layers': 9, 'neurons_layer_0': 128, 'neurons_layer_1': 128, 'neurons_layer_2': 256, 'neurons_layer_3': 512, 'neurons_layer_4': 256, 'neurons_layer_5': 128, 'neurons_layer_6': 128, 'neurons_layer_7': 512, 'neurons_layer_8': 256, 'use_dropout_1': True, 'dropout_prob_1': 0.2823192594204894, 'use_dropout_2': False, 'use_dropout_3': True, 'dropout_prob_3': 0.36403312457100895, 'use_dropout_4': True, 'dropout_prob_4': 0.12540717153416364, 'use_dropout_5': False, 'use_dropout_6': False, 'use_dropout_7': True, 'dropout_prob_7': 0.36543755922937665, 'use_dropout_8': False, 'num_res_connections': 8, 'res_layer_index_0': 8, 'num_sources_0': 8, 'source_0_0': 6, 'source_0_1': 6, 'source_0_2': 5, 'source_0_3': 5, 'source_0_4': -1, 'source_0_5': 2, 'source_0_6': -1, 'source_0_7': 6, 'res_layer_index_1': 8, 'num_sources_1': 8, 'source_1_0': 4, 'source_1_1': 7, 'source_1_2': 2, 'source_1_3': 6, 'source_1_4': 7, 'source_1_5': 0, 'source_1_6': 0, 'source_1_7': 7, 'res_layer_index_2': 7, 'num_sources_2': 7, 'source_2_0': 5, 'source_2_1': 4, 'source_2_2': 6, 'source_2_3': 6, 'source_2_4': 1, 'source_2_5': 6, 'source_2_6': -1, 'res_layer_index_3': 8, 'num_sources_3': 6, 'source_3_0': 4, 'source_3_1': -1, 'source_3_2': 6, 'source_3_3': 5, 'source_3_4': 3, 'source_3_5': 5, 'res_layer_index_4': 3, 'num_sources_4': 1, 'source_4_0': 1, 'res_layer_index_5': 5, 'num_sources_5': 4, 'source_5_0': 2, 'source_5_1': 2, 'source_5_2': 2, 'source_5_3': 1, 'res_layer_index_6': 3, 'num_sources_6': 2, 'source_6_0': 2, 'source_6_1': 0, 'res_layer_index_7': 6, 'num_sources_7': 6, 'source_7_0': 4, 'source_7_1': 5, 'source_7_2': -1, 'source_7_3': 3, 'source_7_4': -1, 'source_7_5': 2, 'hidden_activation': 'SiLU', 'learning_rate': 0.00594138695303986, 'optimizer_name': 'Adam', 'use_weight_decay': True, 'weight_decay': 4.195802692787516e-06, 'model_seed': 1719, 'batch_size': 16}. Best is trial 41 with value: 0.04594885930418968.\n"
     ]
    },
    {
     "name": "stdout",
     "output_type": "stream",
     "text": [
      "Early stopping triggered after 204 epochs\n",
      "Trial 61 finished with value: 0.0513\n",
      "Best trial so far: 41 with value: 0.0459\n"
     ]
    },
    {
     "name": "stderr",
     "output_type": "stream",
     "text": [
      "[I 2024-08-24 02:48:06,668] Trial 62 finished with value: 0.04622200131416321 and parameters: {'num_hidden_layers': 9, 'neurons_layer_0': 128, 'neurons_layer_1': 128, 'neurons_layer_2': 256, 'neurons_layer_3': 512, 'neurons_layer_4': 256, 'neurons_layer_5': 128, 'neurons_layer_6': 128, 'neurons_layer_7': 512, 'neurons_layer_8': 256, 'use_dropout_1': True, 'dropout_prob_1': 0.3024103490788017, 'use_dropout_2': False, 'use_dropout_3': True, 'dropout_prob_3': 0.2997887754991726, 'use_dropout_4': True, 'dropout_prob_4': 0.11251674330620404, 'use_dropout_5': False, 'use_dropout_6': False, 'use_dropout_7': True, 'dropout_prob_7': 0.30940915566020977, 'use_dropout_8': False, 'num_res_connections': 7, 'res_layer_index_0': 8, 'num_sources_0': 8, 'source_0_0': 4, 'source_0_1': 5, 'source_0_2': 6, 'source_0_3': 5, 'source_0_4': 0, 'source_0_5': 4, 'source_0_6': -1, 'source_0_7': 5, 'res_layer_index_1': 7, 'num_sources_1': 7, 'source_1_0': 4, 'source_1_1': 6, 'source_1_2': 2, 'source_1_3': 5, 'source_1_4': 5, 'source_1_5': 0, 'source_1_6': 2, 'res_layer_index_2': 7, 'num_sources_2': 7, 'source_2_0': 5, 'source_2_1': 3, 'source_2_2': 6, 'source_2_3': 4, 'source_2_4': 2, 'source_2_5': 6, 'source_2_6': 2, 'res_layer_index_3': 7, 'num_sources_3': 6, 'source_3_0': 3, 'source_3_1': -1, 'source_3_2': 5, 'source_3_3': 5, 'source_3_4': 2, 'source_3_5': 3, 'res_layer_index_4': 3, 'num_sources_4': 1, 'source_4_0': 1, 'res_layer_index_5': 6, 'num_sources_5': 5, 'source_5_0': 2, 'source_5_1': 2, 'source_5_2': 2, 'source_5_3': 3, 'source_5_4': 1, 'res_layer_index_6': 4, 'num_sources_6': 2, 'source_6_0': 2, 'source_6_1': 0, 'hidden_activation': 'SiLU', 'learning_rate': 0.008931783271464195, 'optimizer_name': 'Adam', 'use_weight_decay': True, 'weight_decay': 1.9686842009875906e-06, 'model_seed': 2794, 'batch_size': 16}. Best is trial 41 with value: 0.04594885930418968.\n"
     ]
    },
    {
     "name": "stdout",
     "output_type": "stream",
     "text": [
      "Early stopping triggered after 170 epochs\n",
      "Trial 62 finished with value: 0.0462\n",
      "Best trial so far: 41 with value: 0.0459\n"
     ]
    },
    {
     "name": "stderr",
     "output_type": "stream",
     "text": [
      "[I 2024-08-24 02:48:19,155] Trial 63 finished with value: 0.048755113035440445 and parameters: {'num_hidden_layers': 10, 'neurons_layer_0': 128, 'neurons_layer_1': 128, 'neurons_layer_2': 256, 'neurons_layer_3': 512, 'neurons_layer_4': 256, 'neurons_layer_5': 128, 'neurons_layer_6': 128, 'neurons_layer_7': 512, 'neurons_layer_8': 256, 'neurons_layer_9': 128, 'use_dropout_1': True, 'dropout_prob_1': 0.32242819595582395, 'use_dropout_2': False, 'use_dropout_3': True, 'dropout_prob_3': 0.304328186731992, 'use_dropout_4': True, 'dropout_prob_4': 0.10343188751467236, 'use_dropout_5': False, 'use_dropout_6': False, 'use_dropout_7': True, 'dropout_prob_7': 0.30795864686124136, 'use_dropout_8': False, 'use_dropout_9': True, 'dropout_prob_9': 0.19463568792456498, 'num_res_connections': 9, 'res_layer_index_0': 9, 'num_sources_0': 9, 'source_0_0': 7, 'source_0_1': 7, 'source_0_2': 7, 'source_0_3': 8, 'source_0_4': 3, 'source_0_5': 5, 'source_0_6': 4, 'source_0_7': 3, 'source_0_8': -1, 'res_layer_index_1': 7, 'num_sources_1': 6, 'source_1_0': 3, 'source_1_1': 6, 'source_1_2': 3, 'source_1_3': 5, 'source_1_4': 1, 'source_1_5': -1, 'res_layer_index_2': 9, 'num_sources_2': 9, 'source_2_0': 6, 'source_2_1': 2, 'source_2_2': 8, 'source_2_3': 8, 'source_2_4': 3, 'source_2_5': 3, 'source_2_6': 3, 'source_2_7': 6, 'source_2_8': 6, 'res_layer_index_3': 9, 'num_sources_3': 7, 'source_3_0': 3, 'source_3_1': 0, 'source_3_2': 6, 'source_3_3': 6, 'source_3_4': 3, 'source_3_5': 2, 'source_3_6': 8, 'res_layer_index_4': 4, 'num_sources_4': 1, 'source_4_0': 2, 'res_layer_index_5': 8, 'num_sources_5': 6, 'source_5_0': 6, 'source_5_1': 6, 'source_5_2': 4, 'source_5_3': 5, 'source_5_4': 7, 'source_5_5': 6, 'res_layer_index_6': 4, 'num_sources_6': 3, 'source_6_0': 2, 'source_6_1': 0, 'source_6_2': 0, 'res_layer_index_7': 9, 'num_sources_7': 9, 'source_7_0': 6, 'source_7_1': 7, 'source_7_2': 8, 'source_7_3': 1, 'source_7_4': 6, 'source_7_5': 8, 'source_7_6': 5, 'source_7_7': 8, 'source_7_8': 2, 'res_layer_index_8': 3, 'num_sources_8': 0, 'hidden_activation': 'SiLU', 'learning_rate': 0.003878147275424379, 'optimizer_name': 'Adam', 'use_weight_decay': True, 'weight_decay': 2.6880494481733933e-06, 'model_seed': 3528, 'batch_size': 16}. Best is trial 41 with value: 0.04594885930418968.\n"
     ]
    },
    {
     "name": "stdout",
     "output_type": "stream",
     "text": [
      "Early stopping triggered after 168 epochs\n",
      "Trial 63 finished with value: 0.0488\n",
      "Best trial so far: 41 with value: 0.0459\n"
     ]
    },
    {
     "name": "stderr",
     "output_type": "stream",
     "text": [
      "[I 2024-08-24 02:48:37,404] Trial 64 finished with value: 0.04910070076584816 and parameters: {'num_hidden_layers': 9, 'neurons_layer_0': 128, 'neurons_layer_1': 128, 'neurons_layer_2': 256, 'neurons_layer_3': 512, 'neurons_layer_4': 256, 'neurons_layer_5': 128, 'neurons_layer_6': 128, 'neurons_layer_7': 512, 'neurons_layer_8': 256, 'use_dropout_1': True, 'dropout_prob_1': 0.3058769545461164, 'use_dropout_2': False, 'use_dropout_3': True, 'dropout_prob_3': 0.4709912778842352, 'use_dropout_4': True, 'dropout_prob_4': 0.3163691071407996, 'use_dropout_5': False, 'use_dropout_6': False, 'use_dropout_7': True, 'dropout_prob_7': 0.3107622377363687, 'use_dropout_8': False, 'num_res_connections': 7, 'res_layer_index_0': 8, 'num_sources_0': 8, 'source_0_0': 4, 'source_0_1': 5, 'source_0_2': 6, 'source_0_3': 4, 'source_0_4': 1, 'source_0_5': 4, 'source_0_6': 1, 'source_0_7': 4, 'res_layer_index_1': 7, 'num_sources_1': 7, 'source_1_0': 4, 'source_1_1': 5, 'source_1_2': 4, 'source_1_3': 4, 'source_1_4': 4, 'source_1_5': 1, 'source_1_6': 3, 'res_layer_index_2': 7, 'num_sources_2': 6, 'source_2_0': 4, 'source_2_1': 4, 'source_2_2': 5, 'source_2_3': 3, 'source_2_4': 2, 'source_2_5': 1, 'res_layer_index_3': 7, 'num_sources_3': 5, 'source_3_0': 1, 'source_3_1': -1, 'source_3_2': 5, 'source_3_3': 4, 'source_3_4': 0, 'res_layer_index_4': 2, 'num_sources_4': 1, 'source_4_0': 0, 'res_layer_index_5': 4, 'num_sources_5': 3, 'source_5_0': 1, 'source_5_1': 0, 'source_5_2': 1, 'res_layer_index_6': 6, 'num_sources_6': 1, 'source_6_0': 4, 'hidden_activation': 'SiLU', 'learning_rate': 0.03579047040684638, 'optimizer_name': 'Adam', 'use_weight_decay': True, 'weight_decay': 6.266787717945374e-05, 'model_seed': 2797, 'batch_size': 16}. Best is trial 41 with value: 0.04594885930418968.\n"
     ]
    },
    {
     "name": "stdout",
     "output_type": "stream",
     "text": [
      "Early stopping triggered after 270 epochs\n",
      "Trial 64 finished with value: 0.0491\n",
      "Best trial so far: 41 with value: 0.0459\n"
     ]
    },
    {
     "name": "stderr",
     "output_type": "stream",
     "text": [
      "[I 2024-08-24 02:49:00,318] Trial 65 finished with value: 0.050567954778671265 and parameters: {'num_hidden_layers': 10, 'neurons_layer_0': 128, 'neurons_layer_1': 128, 'neurons_layer_2': 256, 'neurons_layer_3': 512, 'neurons_layer_4': 256, 'neurons_layer_5': 128, 'neurons_layer_6': 256, 'neurons_layer_7': 512, 'neurons_layer_8': 256, 'neurons_layer_9': 128, 'use_dropout_1': True, 'dropout_prob_1': 0.24725550057735926, 'use_dropout_2': False, 'use_dropout_3': True, 'dropout_prob_3': 0.4343149532257962, 'use_dropout_4': True, 'dropout_prob_4': 0.08383376868658668, 'use_dropout_5': False, 'use_dropout_6': False, 'use_dropout_7': True, 'dropout_prob_7': 0.19312689490629326, 'use_dropout_8': False, 'use_dropout_9': True, 'dropout_prob_9': 0.1762060434030951, 'num_res_connections': 9, 'res_layer_index_0': 9, 'num_sources_0': 9, 'source_0_0': 2, 'source_0_1': 7, 'source_0_2': 7, 'source_0_3': 8, 'source_0_4': 3, 'source_0_5': -1, 'source_0_6': 5, 'source_0_7': 8, 'source_0_8': 8, 'res_layer_index_1': 8, 'num_sources_1': 5, 'source_1_0': 5, 'source_1_1': 6, 'source_1_2': 2, 'source_1_3': 5, 'source_1_4': 2, 'res_layer_index_2': 8, 'num_sources_2': 8, 'source_2_0': 5, 'source_2_1': 1, 'source_2_2': 7, 'source_2_3': 4, 'source_2_4': 4, 'source_2_5': 7, 'source_2_6': 3, 'source_2_7': -1, 'res_layer_index_3': 8, 'num_sources_3': 6, 'source_3_0': 4, 'source_3_1': 0, 'source_3_2': 4, 'source_3_3': 5, 'source_3_4': 2, 'source_3_5': 0, 'res_layer_index_4': 3, 'num_sources_4': 0, 'res_layer_index_5': 8, 'num_sources_5': 8, 'source_5_0': 4, 'source_5_1': 2, 'source_5_2': 3, 'source_5_3': 3, 'source_5_4': -1, 'source_5_5': 5, 'source_5_6': 2, 'source_5_7': 0, 'res_layer_index_6': 4, 'num_sources_6': 3, 'source_6_0': 0, 'source_6_1': 1, 'source_6_2': 3, 'res_layer_index_7': 8, 'num_sources_7': 7, 'source_7_0': 5, 'source_7_1': 0, 'source_7_2': 1, 'source_7_3': 5, 'source_7_4': 1, 'source_7_5': 6, 'source_7_6': 1, 'res_layer_index_8': 9, 'num_sources_8': 9, 'source_8_0': 8, 'source_8_1': 8, 'source_8_2': 8, 'source_8_3': 8, 'source_8_4': 3, 'source_8_5': 0, 'source_8_6': 1, 'source_8_7': 3, 'source_8_8': 0, 'hidden_activation': 'SiLU', 'learning_rate': 0.0952945890081081, 'optimizer_name': 'Adam', 'use_weight_decay': True, 'weight_decay': 1.609186812668727e-06, 'model_seed': 4201, 'batch_size': 8}. Best is trial 41 with value: 0.04594885930418968.\n"
     ]
    },
    {
     "name": "stdout",
     "output_type": "stream",
     "text": [
      "Early stopping triggered after 209 epochs\n",
      "Trial 65 finished with value: 0.0506\n",
      "Best trial so far: 41 with value: 0.0459\n"
     ]
    },
    {
     "name": "stderr",
     "output_type": "stream",
     "text": [
      "[I 2024-08-24 02:49:07,804] Trial 66 finished with value: 0.0496845617890358 and parameters: {'num_hidden_layers': 8, 'neurons_layer_0': 128, 'neurons_layer_1': 128, 'neurons_layer_2': 512, 'neurons_layer_3': 512, 'neurons_layer_4': 256, 'neurons_layer_5': 128, 'neurons_layer_6': 128, 'neurons_layer_7': 512, 'use_dropout_1': True, 'dropout_prob_1': 0.3653147579244944, 'use_dropout_2': False, 'use_dropout_3': False, 'use_dropout_4': True, 'dropout_prob_4': 0.15822961704511462, 'use_dropout_5': False, 'use_dropout_6': True, 'dropout_prob_6': 0.35950160652522917, 'use_dropout_7': True, 'dropout_prob_7': 0.3731660208156177, 'num_res_connections': 6, 'res_layer_index_0': 7, 'num_sources_0': 6, 'source_0_0': 4, 'source_0_1': 3, 'source_0_2': 3, 'source_0_3': 1, 'source_0_4': 0, 'source_0_5': 1, 'res_layer_index_1': 6, 'num_sources_1': 5, 'source_1_0': 3, 'source_1_1': 4, 'source_1_2': 3, 'source_1_3': 4, 'source_1_4': 4, 'res_layer_index_2': 5, 'num_sources_2': 5, 'source_2_0': 3, 'source_2_1': 0, 'source_2_2': 3, 'source_2_3': 0, 'source_2_4': 0, 'res_layer_index_3': 6, 'num_sources_3': 5, 'source_3_0': 0, 'source_3_1': -1, 'source_3_2': 3, 'source_3_3': 3, 'source_3_4': -1, 'res_layer_index_4': 4, 'num_sources_4': 2, 'source_4_0': 1, 'source_4_1': 0, 'res_layer_index_5': 5, 'num_sources_5': 4, 'source_5_0': 3, 'source_5_1': 1, 'source_5_2': -1, 'source_5_3': 3, 'hidden_activation': 'SiLU', 'learning_rate': 0.008118739864360992, 'optimizer_name': 'Adam', 'use_weight_decay': True, 'weight_decay': 1.7962306521788335e-06, 'model_seed': 2440, 'batch_size': 16}. Best is trial 41 with value: 0.04594885930418968.\n"
     ]
    },
    {
     "name": "stdout",
     "output_type": "stream",
     "text": [
      "Early stopping triggered after 128 epochs\n",
      "Trial 66 finished with value: 0.0497\n",
      "Best trial so far: 41 with value: 0.0459\n"
     ]
    },
    {
     "name": "stderr",
     "output_type": "stream",
     "text": [
      "[I 2024-08-24 02:49:23,809] Trial 67 finished with value: 0.04765231907367706 and parameters: {'num_hidden_layers': 10, 'neurons_layer_0': 128, 'neurons_layer_1': 128, 'neurons_layer_2': 256, 'neurons_layer_3': 512, 'neurons_layer_4': 256, 'neurons_layer_5': 128, 'neurons_layer_6': 128, 'neurons_layer_7': 256, 'neurons_layer_8': 256, 'neurons_layer_9': 512, 'use_dropout_1': True, 'dropout_prob_1': 0.22035722947869452, 'use_dropout_2': False, 'use_dropout_3': True, 'dropout_prob_3': 0.31668394725109394, 'use_dropout_4': True, 'dropout_prob_4': 0.23131375952674021, 'use_dropout_5': False, 'use_dropout_6': False, 'use_dropout_7': True, 'dropout_prob_7': 0.14184998838831148, 'use_dropout_8': False, 'use_dropout_9': False, 'num_res_connections': 9, 'res_layer_index_0': 8, 'num_sources_0': 7, 'source_0_0': 2, 'source_0_1': 6, 'source_0_2': 6, 'source_0_3': 5, 'source_0_4': 3, 'source_0_5': 5, 'source_0_6': 2, 'res_layer_index_1': 5, 'num_sources_1': 5, 'source_1_0': 2, 'source_1_1': 3, 'source_1_2': 2, 'source_1_3': 3, 'source_1_4': 2, 'res_layer_index_2': 9, 'num_sources_2': 8, 'source_2_0': 6, 'source_2_1': 1, 'source_2_2': 7, 'source_2_3': 8, 'source_2_4': 2, 'source_2_5': 4, 'source_2_6': 2, 'source_2_7': 1, 'res_layer_index_3': 7, 'num_sources_3': 6, 'source_3_0': 2, 'source_3_1': 0, 'source_3_2': 5, 'source_3_3': 5, 'source_3_4': 4, 'source_3_5': 3, 'res_layer_index_4': 2, 'num_sources_4': 1, 'source_4_0': 0, 'res_layer_index_5': 6, 'num_sources_5': 5, 'source_5_0': 1, 'source_5_1': 3, 'source_5_2': 1, 'source_5_3': 4, 'source_5_4': 1, 'res_layer_index_6': 1, 'num_sources_6': 1, 'source_6_0': -1, 'res_layer_index_7': 3, 'num_sources_7': 0, 'res_layer_index_8': 1, 'num_sources_8': 0, 'hidden_activation': 'SiLU', 'learning_rate': 0.01618884249421641, 'optimizer_name': 'Adam', 'use_weight_decay': True, 'weight_decay': 1.582421463431974e-05, 'model_seed': 1411, 'batch_size': 16}. Best is trial 41 with value: 0.04594885930418968.\n"
     ]
    },
    {
     "name": "stdout",
     "output_type": "stream",
     "text": [
      "Early stopping triggered after 195 epochs\n",
      "Trial 67 finished with value: 0.0477\n",
      "Best trial so far: 41 with value: 0.0459\n"
     ]
    },
    {
     "name": "stderr",
     "output_type": "stream",
     "text": [
      "[I 2024-08-24 02:49:27,544] Trial 68 finished with value: 0.05316564440727234 and parameters: {'num_hidden_layers': 9, 'neurons_layer_0': 128, 'neurons_layer_1': 128, 'neurons_layer_2': 256, 'neurons_layer_3': 512, 'neurons_layer_4': 256, 'neurons_layer_5': 128, 'neurons_layer_6': 256, 'neurons_layer_7': 256, 'neurons_layer_8': 256, 'use_dropout_1': False, 'use_dropout_2': False, 'use_dropout_3': False, 'use_dropout_4': True, 'dropout_prob_4': 0.2220091608427046, 'use_dropout_5': False, 'use_dropout_6': False, 'use_dropout_7': True, 'dropout_prob_7': 0.1321761637715136, 'use_dropout_8': False, 'num_res_connections': 7, 'res_layer_index_0': 7, 'num_sources_0': 0, 'res_layer_index_1': 5, 'num_sources_1': 3, 'source_1_0': 1, 'source_1_1': 3, 'source_1_2': 3, 'res_layer_index_2': 7, 'num_sources_2': 6, 'source_2_0': 6, 'source_2_1': 0, 'source_2_2': 5, 'source_2_3': 1, 'source_2_4': 0, 'source_2_5': 4, 'res_layer_index_3': 7, 'num_sources_3': 6, 'source_3_0': 3, 'source_3_1': -1, 'source_3_2': 5, 'source_3_3': 4, 'source_3_4': 5, 'source_3_5': 3, 'res_layer_index_4': 2, 'num_sources_4': 1, 'source_4_0': -1, 'res_layer_index_5': 6, 'num_sources_5': 5, 'source_5_0': 1, 'source_5_1': 4, 'source_5_2': 2, 'source_5_3': 4, 'source_5_4': 1, 'res_layer_index_6': 2, 'num_sources_6': 1, 'source_6_0': -1, 'hidden_activation': 'SiLU', 'learning_rate': 0.021316484370264933, 'optimizer_name': 'Adam', 'use_weight_decay': True, 'weight_decay': 1.5109441330110273e-05, 'model_seed': 1347, 'batch_size': 64}. Best is trial 41 with value: 0.04594885930418968.\n"
     ]
    },
    {
     "name": "stdout",
     "output_type": "stream",
     "text": [
      "Early stopping triggered after 148 epochs\n",
      "Trial 68 finished with value: 0.0532\n",
      "Best trial so far: 41 with value: 0.0459\n"
     ]
    },
    {
     "name": "stderr",
     "output_type": "stream",
     "text": [
      "[I 2024-08-24 02:49:36,755] Trial 69 finished with value: 0.05382051691412926 and parameters: {'num_hidden_layers': 8, 'neurons_layer_0': 128, 'neurons_layer_1': 512, 'neurons_layer_2': 512, 'neurons_layer_3': 512, 'neurons_layer_4': 256, 'neurons_layer_5': 128, 'neurons_layer_6': 128, 'neurons_layer_7': 256, 'use_dropout_1': True, 'dropout_prob_1': 0.21510735202723727, 'use_dropout_2': False, 'use_dropout_3': True, 'dropout_prob_3': 0.28306261706227986, 'use_dropout_4': True, 'dropout_prob_4': 0.267210911934391, 'use_dropout_5': False, 'use_dropout_6': True, 'dropout_prob_6': 0.39441288557078624, 'use_dropout_7': False, 'num_res_connections': 6, 'res_layer_index_0': 6, 'num_sources_0': 4, 'source_0_0': 3, 'source_0_1': 4, 'source_0_2': 3, 'source_0_3': 3, 'res_layer_index_1': 5, 'num_sources_1': 5, 'source_1_0': 1, 'source_1_1': 3, 'source_1_2': 3, 'source_1_3': 3, 'source_1_4': 2, 'res_layer_index_2': 6, 'num_sources_2': 5, 'source_2_0': 4, 'source_2_1': 1, 'source_2_2': 4, 'source_2_3': 2, 'source_2_4': 3, 'res_layer_index_3': 6, 'num_sources_3': 5, 'source_3_0': 2, 'source_3_1': -1, 'source_3_2': 4, 'source_3_3': 1, 'source_3_4': 5, 'res_layer_index_4': 5, 'num_sources_4': 0, 'res_layer_index_5': 5, 'num_sources_5': 2, 'source_5_0': 1, 'source_5_1': 3, 'hidden_activation': 'SiLU', 'learning_rate': 0.01656971422355943, 'optimizer_name': 'Adam', 'use_weight_decay': True, 'weight_decay': 2.874144104666846e-05, 'model_seed': 1295, 'batch_size': 16}. Best is trial 41 with value: 0.04594885930418968.\n"
     ]
    },
    {
     "name": "stdout",
     "output_type": "stream",
     "text": [
      "Early stopping triggered after 193 epochs\n",
      "Trial 69 finished with value: 0.0538\n",
      "Best trial so far: 41 with value: 0.0459\n"
     ]
    },
    {
     "name": "stderr",
     "output_type": "stream",
     "text": [
      "[I 2024-08-24 02:50:22,446] Trial 70 finished with value: 0.04898778349161148 and parameters: {'num_hidden_layers': 10, 'neurons_layer_0': 128, 'neurons_layer_1': 128, 'neurons_layer_2': 256, 'neurons_layer_3': 512, 'neurons_layer_4': 256, 'neurons_layer_5': 128, 'neurons_layer_6': 256, 'neurons_layer_7': 256, 'neurons_layer_8': 256, 'neurons_layer_9': 512, 'use_dropout_1': True, 'dropout_prob_1': 0.17049309245625172, 'use_dropout_2': False, 'use_dropout_3': False, 'use_dropout_4': True, 'dropout_prob_4': 0.2937513810490714, 'use_dropout_5': True, 'dropout_prob_5': 0.323551871066664, 'use_dropout_6': False, 'use_dropout_7': True, 'dropout_prob_7': 0.11030804183361279, 'use_dropout_8': False, 'use_dropout_9': False, 'num_res_connections': 9, 'res_layer_index_0': 8, 'num_sources_0': 7, 'source_0_0': 2, 'source_0_1': 5, 'source_0_2': 5, 'source_0_3': 5, 'source_0_4': 4, 'source_0_5': 4, 'source_0_6': 1, 'res_layer_index_1': 7, 'num_sources_1': 6, 'source_1_0': 3, 'source_1_1': 1, 'source_1_2': 1, 'source_1_3': 3, 'source_1_4': 0, 'source_1_5': 3, 'res_layer_index_2': 9, 'num_sources_2': 7, 'source_2_0': 7, 'source_2_1': -1, 'source_2_2': 7, 'source_2_3': -1, 'source_2_4': 5, 'source_2_5': 4, 'source_2_6': 5, 'res_layer_index_3': 7, 'num_sources_3': 7, 'source_3_0': 2, 'source_3_1': 0, 'source_3_2': 5, 'source_3_3': -1, 'source_3_4': 4, 'source_3_5': 1, 'source_3_6': 3, 'res_layer_index_4': 9, 'num_sources_4': 9, 'source_4_0': 7, 'source_4_1': 5, 'source_4_2': 8, 'source_4_3': 8, 'source_4_4': 0, 'source_4_5': 8, 'source_4_6': 4, 'source_4_7': 8, 'source_4_8': 7, 'res_layer_index_5': 4, 'num_sources_5': 3, 'source_5_0': 2, 'source_5_1': 3, 'source_5_2': 0, 'res_layer_index_6': 1, 'num_sources_6': 0, 'res_layer_index_7': 3, 'num_sources_7': 0, 'res_layer_index_8': 3, 'num_sources_8': 1, 'source_8_0': -1, 'hidden_activation': 'SiLU', 'learning_rate': 0.009968708752102663, 'optimizer_name': 'Adam', 'use_weight_decay': True, 'weight_decay': 9.647910903367764e-05, 'model_seed': 2282, 'batch_size': 8}. Best is trial 41 with value: 0.04594885930418968.\n"
     ]
    },
    {
     "name": "stdout",
     "output_type": "stream",
     "text": [
      "Early stopping triggered after 317 epochs\n",
      "Trial 70 finished with value: 0.0490\n",
      "Best trial so far: 41 with value: 0.0459\n"
     ]
    },
    {
     "name": "stderr",
     "output_type": "stream",
     "text": [
      "[I 2024-08-24 02:50:35,674] Trial 71 finished with value: 0.05250020697712898 and parameters: {'num_hidden_layers': 10, 'neurons_layer_0': 128, 'neurons_layer_1': 128, 'neurons_layer_2': 256, 'neurons_layer_3': 512, 'neurons_layer_4': 256, 'neurons_layer_5': 128, 'neurons_layer_6': 128, 'neurons_layer_7': 256, 'neurons_layer_8': 256, 'neurons_layer_9': 512, 'use_dropout_1': True, 'dropout_prob_1': 0.3026538594129298, 'use_dropout_2': False, 'use_dropout_3': True, 'dropout_prob_3': 0.3112535132147388, 'use_dropout_4': True, 'dropout_prob_4': 0.19117533814103674, 'use_dropout_5': False, 'use_dropout_6': False, 'use_dropout_7': True, 'dropout_prob_7': 0.1354571080387649, 'use_dropout_8': False, 'use_dropout_9': False, 'num_res_connections': 9, 'res_layer_index_0': 8, 'num_sources_0': 8, 'source_0_0': 3, 'source_0_1': 6, 'source_0_2': 6, 'source_0_3': 6, 'source_0_4': 2, 'source_0_5': 5, 'source_0_6': 1, 'source_0_7': 2, 'res_layer_index_1': 6, 'num_sources_1': 5, 'source_1_0': 2, 'source_1_1': 4, 'source_1_2': 2, 'source_1_3': 4, 'source_1_4': 3, 'res_layer_index_2': 8, 'num_sources_2': 8, 'source_2_0': 6, 'source_2_1': 0, 'source_2_2': 7, 'source_2_3': 7, 'source_2_4': 2, 'source_2_5': 5, 'source_2_6': 2, 'source_2_7': 1, 'res_layer_index_3': 8, 'num_sources_3': 6, 'source_3_0': 1, 'source_3_1': 1, 'source_3_2': 7, 'source_3_3': 5, 'source_3_4': 2, 'source_3_5': 3, 'res_layer_index_4': 3, 'num_sources_4': 1, 'source_4_0': 1, 'res_layer_index_5': 7, 'num_sources_5': 5, 'source_5_0': 1, 'source_5_1': 5, 'source_5_2': 1, 'source_5_3': 5, 'source_5_4': 1, 'res_layer_index_6': 4, 'num_sources_6': 2, 'source_6_0': 1, 'source_6_1': -1, 'res_layer_index_7': 2, 'num_sources_7': 1, 'source_7_0': -1, 'res_layer_index_8': 1, 'num_sources_8': 0, 'hidden_activation': 'SiLU', 'learning_rate': 0.012866650113705767, 'optimizer_name': 'Adam', 'use_weight_decay': True, 'weight_decay': 7.424457898430977e-06, 'model_seed': 157, 'batch_size': 16}. Best is trial 41 with value: 0.04594885930418968.\n"
     ]
    },
    {
     "name": "stdout",
     "output_type": "stream",
     "text": [
      "Early stopping triggered after 191 epochs\n",
      "Trial 71 finished with value: 0.0525\n",
      "Best trial so far: 41 with value: 0.0459\n"
     ]
    },
    {
     "name": "stderr",
     "output_type": "stream",
     "text": [
      "[I 2024-08-24 02:50:46,763] Trial 72 finished with value: 0.051658518612384796 and parameters: {'num_hidden_layers': 10, 'neurons_layer_0': 128, 'neurons_layer_1': 128, 'neurons_layer_2': 256, 'neurons_layer_3': 512, 'neurons_layer_4': 256, 'neurons_layer_5': 128, 'neurons_layer_6': 128, 'neurons_layer_7': 512, 'neurons_layer_8': 256, 'neurons_layer_9': 512, 'use_dropout_1': True, 'dropout_prob_1': 0.32666227630411215, 'use_dropout_2': False, 'use_dropout_3': True, 'dropout_prob_3': 0.3391339198318859, 'use_dropout_4': True, 'dropout_prob_4': 0.24147249985627875, 'use_dropout_5': False, 'use_dropout_6': False, 'use_dropout_7': True, 'dropout_prob_7': 0.42116862830614177, 'use_dropout_8': False, 'use_dropout_9': False, 'num_res_connections': 8, 'res_layer_index_0': 9, 'num_sources_0': 9, 'source_0_0': 2, 'source_0_1': 8, 'source_0_2': 8, 'source_0_3': 7, 'source_0_4': 2, 'source_0_5': 7, 'source_0_6': 6, 'source_0_7': 7, 'source_0_8': 3, 'res_layer_index_1': 8, 'num_sources_1': 7, 'source_1_0': 2, 'source_1_1': 7, 'source_1_2': 1, 'source_1_3': 6, 'source_1_4': 5, 'source_1_5': 7, 'source_1_6': 6, 'res_layer_index_2': 9, 'num_sources_2': 9, 'source_2_0': 5, 'source_2_1': 1, 'source_2_2': 7, 'source_2_3': 8, 'source_2_4': 2, 'source_2_5': 8, 'source_2_6': 1, 'source_2_7': 2, 'source_2_8': -1, 'res_layer_index_3': 7, 'num_sources_3': 5, 'source_3_0': 1, 'source_3_1': 0, 'source_3_2': 5, 'source_3_3': 5, 'source_3_4': 0, 'res_layer_index_4': 2, 'num_sources_4': 1, 'source_4_0': -1, 'res_layer_index_5': 6, 'num_sources_5': 5, 'source_5_0': 3, 'source_5_1': 2, 'source_5_2': 1, 'source_5_3': 3, 'source_5_4': 2, 'res_layer_index_6': 3, 'num_sources_6': 2, 'source_6_0': 0, 'source_6_1': -1, 'res_layer_index_7': 4, 'num_sources_7': 2, 'source_7_0': 1, 'source_7_1': 1, 'hidden_activation': 'SiLU', 'learning_rate': 0.02225281330642441, 'optimizer_name': 'Adam', 'use_weight_decay': True, 'weight_decay': 4.4348655261534075e-05, 'model_seed': 2892, 'batch_size': 16}. Best is trial 41 with value: 0.04594885930418968.\n"
     ]
    },
    {
     "name": "stdout",
     "output_type": "stream",
     "text": [
      "Early stopping triggered after 121 epochs\n",
      "Trial 72 finished with value: 0.0517\n",
      "Best trial so far: 41 with value: 0.0459\n"
     ]
    },
    {
     "name": "stderr",
     "output_type": "stream",
     "text": [
      "[I 2024-08-24 02:50:56,809] Trial 73 finished with value: 0.05367254093289375 and parameters: {'num_hidden_layers': 10, 'neurons_layer_0': 128, 'neurons_layer_1': 128, 'neurons_layer_2': 256, 'neurons_layer_3': 512, 'neurons_layer_4': 256, 'neurons_layer_5': 128, 'neurons_layer_6': 128, 'neurons_layer_7': 512, 'neurons_layer_8': 256, 'neurons_layer_9': 128, 'use_dropout_1': True, 'dropout_prob_1': 0.28363084690180235, 'use_dropout_2': False, 'use_dropout_3': True, 'dropout_prob_3': 0.38268871349138656, 'use_dropout_4': True, 'dropout_prob_4': 0.07675148651228335, 'use_dropout_5': False, 'use_dropout_6': False, 'use_dropout_7': True, 'dropout_prob_7': 0.263423461384062, 'use_dropout_8': False, 'use_dropout_9': False, 'num_res_connections': 9, 'res_layer_index_0': 8, 'num_sources_0': 7, 'source_0_0': 5, 'source_0_1': 6, 'source_0_2': 6, 'source_0_3': 4, 'source_0_4': 0, 'source_0_5': 3, 'source_0_6': 2, 'res_layer_index_1': 7, 'num_sources_1': 6, 'source_1_0': 2, 'source_1_1': 5, 'source_1_2': 4, 'source_1_3': 5, 'source_1_4': 1, 'source_1_5': 1, 'res_layer_index_2': 8, 'num_sources_2': 7, 'source_2_0': 6, 'source_2_1': 2, 'source_2_2': 6, 'source_2_3': 7, 'source_2_4': 2, 'source_2_5': 1, 'source_2_6': 2, 'res_layer_index_3': 8, 'num_sources_3': 7, 'source_3_0': 3, 'source_3_1': 0, 'source_3_2': 6, 'source_3_3': 6, 'source_3_4': 4, 'source_3_5': 4, 'source_3_6': 1, 'res_layer_index_4': 3, 'num_sources_4': 1, 'source_4_0': 0, 'res_layer_index_5': 9, 'num_sources_5': 7, 'source_5_0': 7, 'source_5_1': 6, 'source_5_2': 2, 'source_5_3': 8, 'source_5_4': 4, 'source_5_5': 8, 'source_5_6': 7, 'res_layer_index_6': 1, 'num_sources_6': 1, 'source_6_0': -1, 'res_layer_index_7': 8, 'num_sources_7': 7, 'source_7_0': 6, 'source_7_1': 4, 'source_7_2': 0, 'source_7_3': 1, 'source_7_4': 4, 'source_7_5': 0, 'source_7_6': -1, 'res_layer_index_8': 2, 'num_sources_8': 1, 'source_8_0': -1, 'hidden_activation': 'SiLU', 'learning_rate': 0.008972906904329794, 'optimizer_name': 'Adam', 'use_weight_decay': True, 'weight_decay': 6.563339457349676e-07, 'model_seed': 8477, 'batch_size': 16}. Best is trial 41 with value: 0.04594885930418968.\n"
     ]
    },
    {
     "name": "stdout",
     "output_type": "stream",
     "text": [
      "Early stopping triggered after 129 epochs\n",
      "Trial 73 finished with value: 0.0537\n",
      "Best trial so far: 41 with value: 0.0459\n"
     ]
    },
    {
     "name": "stderr",
     "output_type": "stream",
     "text": [
      "[I 2024-08-24 02:51:02,524] Trial 74 finished with value: 0.08841516077518463 and parameters: {'num_hidden_layers': 9, 'neurons_layer_0': 128, 'neurons_layer_1': 128, 'neurons_layer_2': 256, 'neurons_layer_3': 512, 'neurons_layer_4': 256, 'neurons_layer_5': 128, 'neurons_layer_6': 128, 'neurons_layer_7': 512, 'neurons_layer_8': 256, 'use_dropout_1': True, 'dropout_prob_1': 0.397340279151913, 'use_dropout_2': False, 'use_dropout_3': True, 'dropout_prob_3': 0.2190820654606516, 'use_dropout_4': True, 'dropout_prob_4': 0.14087866415308883, 'use_dropout_5': False, 'use_dropout_6': False, 'use_dropout_7': True, 'dropout_prob_7': 0.06855083424374456, 'use_dropout_8': False, 'num_res_connections': 7, 'res_layer_index_0': 7, 'num_sources_0': 6, 'source_0_0': 4, 'source_0_1': 5, 'source_0_2': 5, 'source_0_3': 2, 'source_0_4': 0, 'source_0_5': 4, 'res_layer_index_1': 5, 'num_sources_1': 4, 'source_1_0': 2, 'source_1_1': 2, 'source_1_2': 2, 'source_1_3': 3, 'res_layer_index_2': 7, 'num_sources_2': 3, 'source_2_0': 5, 'source_2_1': 3, 'source_2_2': 6, 'res_layer_index_3': 7, 'num_sources_3': 4, 'source_3_0': 0, 'source_3_1': 2, 'source_3_2': 4, 'source_3_3': 0, 'res_layer_index_4': 2, 'num_sources_4': 1, 'source_4_0': 0, 'res_layer_index_5': 7, 'num_sources_5': 6, 'source_5_0': 0, 'source_5_1': 4, 'source_5_2': 6, 'source_5_3': 4, 'source_5_4': 0, 'source_5_5': 2, 'res_layer_index_6': 6, 'num_sources_6': 4, 'source_6_0': 3, 'source_6_1': 2, 'source_6_2': 5, 'source_6_3': 2, 'hidden_activation': 'SiLU', 'learning_rate': 0.0437876588943404, 'optimizer_name': 'Adam', 'use_weight_decay': True, 'weight_decay': 2.0175995807706852e-05, 'model_seed': 3382, 'batch_size': 16}. Best is trial 41 with value: 0.04594885930418968.\n"
     ]
    },
    {
     "name": "stdout",
     "output_type": "stream",
     "text": [
      "Early stopping triggered after 90 epochs\n",
      "Trial 74 finished with value: 0.0884\n",
      "Best trial so far: 41 with value: 0.0459\n"
     ]
    },
    {
     "name": "stderr",
     "output_type": "stream",
     "text": [
      "[I 2024-08-24 02:51:09,744] Trial 75 finished with value: 0.05117145553231239 and parameters: {'num_hidden_layers': 9, 'neurons_layer_0': 128, 'neurons_layer_1': 128, 'neurons_layer_2': 256, 'neurons_layer_3': 512, 'neurons_layer_4': 256, 'neurons_layer_5': 128, 'neurons_layer_6': 128, 'neurons_layer_7': 256, 'neurons_layer_8': 512, 'use_dropout_1': False, 'use_dropout_2': False, 'use_dropout_3': True, 'dropout_prob_3': 0.3182290500356133, 'use_dropout_4': True, 'dropout_prob_4': 0.17044790532479384, 'use_dropout_5': True, 'dropout_prob_5': 0.10555596278630994, 'use_dropout_6': True, 'dropout_prob_6': 0.2327591953737538, 'use_dropout_7': True, 'dropout_prob_7': 0.10221350581375827, 'use_dropout_8': False, 'num_res_connections': 3, 'res_layer_index_0': 7, 'num_sources_0': 1, 'source_0_0': 2, 'res_layer_index_1': 6, 'num_sources_1': 6, 'source_1_0': 3, 'source_1_1': 4, 'source_1_2': 3, 'source_1_3': 4, 'source_1_4': 2, 'source_1_5': -1, 'res_layer_index_2': 5, 'num_sources_2': 4, 'source_2_0': 3, 'source_2_1': 0, 'source_2_2': -1, 'source_2_3': 1, 'hidden_activation': 'ELU', 'learning_rate': 0.01621203697335613, 'optimizer_name': 'Adam', 'use_weight_decay': True, 'weight_decay': 0.00023980612809067678, 'model_seed': 852, 'batch_size': 32}. Best is trial 41 with value: 0.04594885930418968.\n"
     ]
    },
    {
     "name": "stdout",
     "output_type": "stream",
     "text": [
      "Early stopping triggered after 219 epochs\n",
      "Trial 75 finished with value: 0.0512\n",
      "Best trial so far: 41 with value: 0.0459\n"
     ]
    },
    {
     "name": "stderr",
     "output_type": "stream",
     "text": [
      "[I 2024-08-24 02:51:25,529] Trial 76 finished with value: 0.04785395786166191 and parameters: {'num_hidden_layers': 10, 'neurons_layer_0': 128, 'neurons_layer_1': 128, 'neurons_layer_2': 512, 'neurons_layer_3': 512, 'neurons_layer_4': 256, 'neurons_layer_5': 128, 'neurons_layer_6': 128, 'neurons_layer_7': 512, 'neurons_layer_8': 256, 'neurons_layer_9': 512, 'use_dropout_1': True, 'dropout_prob_1': 0.22723179403266075, 'use_dropout_2': False, 'use_dropout_3': True, 'dropout_prob_3': 0.2856096475959445, 'use_dropout_4': True, 'dropout_prob_4': 0.11241030966253712, 'use_dropout_5': False, 'use_dropout_6': False, 'use_dropout_7': True, 'dropout_prob_7': 0.32674177618985945, 'use_dropout_8': False, 'use_dropout_9': True, 'dropout_prob_9': 0.27444332013316525, 'num_res_connections': 8, 'res_layer_index_0': 9, 'num_sources_0': 8, 'source_0_0': 7, 'source_0_1': 7, 'source_0_2': 7, 'source_0_3': 8, 'source_0_4': 4, 'source_0_5': 8, 'source_0_6': 0, 'source_0_7': 1, 'res_layer_index_1': 9, 'num_sources_1': 9, 'source_1_0': 6, 'source_1_1': 8, 'source_1_2': 8, 'source_1_3': 7, 'source_1_4': 6, 'source_1_5': 1, 'source_1_6': 1, 'source_1_7': 2, 'source_1_8': -1, 'res_layer_index_2': 9, 'num_sources_2': 8, 'source_2_0': 8, 'source_2_1': 5, 'source_2_2': 8, 'source_2_3': 8, 'source_2_4': 8, 'source_2_5': 2, 'source_2_6': 5, 'source_2_7': 4, 'res_layer_index_3': 5, 'num_sources_3': 4, 'source_3_0': 1, 'source_3_1': -1, 'source_3_2': 1, 'source_3_3': 3, 'res_layer_index_4': 1, 'num_sources_4': 0, 'res_layer_index_5': 8, 'num_sources_5': 7, 'source_5_0': 6, 'source_5_1': 7, 'source_5_2': 7, 'source_5_3': 5, 'source_5_4': 2, 'source_5_5': 6, 'source_5_6': 4, 'res_layer_index_6': 4, 'num_sources_6': 3, 'source_6_0': 2, 'source_6_1': 0, 'source_6_2': 0, 'res_layer_index_7': 6, 'num_sources_7': 5, 'source_7_0': 3, 'source_7_1': 3, 'source_7_2': 4, 'source_7_3': 0, 'source_7_4': 1, 'hidden_activation': 'SiLU', 'learning_rate': 0.011354159832677586, 'optimizer_name': 'Adam', 'use_weight_decay': True, 'weight_decay': 9.820882153461957e-06, 'model_seed': 1571, 'batch_size': 16}. Best is trial 41 with value: 0.04594885930418968.\n"
     ]
    },
    {
     "name": "stdout",
     "output_type": "stream",
     "text": [
      "Early stopping triggered after 192 epochs\n",
      "Trial 76 finished with value: 0.0479\n",
      "Best trial so far: 41 with value: 0.0459\n"
     ]
    },
    {
     "name": "stderr",
     "output_type": "stream",
     "text": [
      "[I 2024-08-24 02:51:33,960] Trial 77 finished with value: 0.054595328867435455 and parameters: {'num_hidden_layers': 7, 'neurons_layer_0': 128, 'neurons_layer_1': 512, 'neurons_layer_2': 256, 'neurons_layer_3': 512, 'neurons_layer_4': 512, 'neurons_layer_5': 128, 'neurons_layer_6': 256, 'use_dropout_1': True, 'dropout_prob_1': 0.259280956277863, 'use_dropout_2': False, 'use_dropout_3': False, 'use_dropout_4': True, 'dropout_prob_4': 0.21045494398211853, 'use_dropout_5': False, 'use_dropout_6': False, 'num_res_connections': 3, 'res_layer_index_0': 5, 'num_sources_0': 0, 'res_layer_index_1': 5, 'num_sources_1': 4, 'source_1_0': 2, 'source_1_1': 3, 'source_1_2': 2, 'source_1_3': 2, 'res_layer_index_2': 2, 'num_sources_2': 1, 'source_2_0': -1, 'hidden_activation': 'SiLU', 'learning_rate': 0.005224003203570027, 'optimizer_name': 'Adam', 'use_weight_decay': True, 'weight_decay': 8.802092753064913e-07, 'model_seed': 4920, 'batch_size': 16}. Best is trial 41 with value: 0.04594885930418968.\n"
     ]
    },
    {
     "name": "stdout",
     "output_type": "stream",
     "text": [
      "Early stopping triggered after 225 epochs\n",
      "Trial 77 finished with value: 0.0546\n",
      "Best trial so far: 41 with value: 0.0459\n"
     ]
    },
    {
     "name": "stderr",
     "output_type": "stream",
     "text": [
      "[I 2024-08-24 02:51:44,184] Trial 78 finished with value: 0.049432896077632904 and parameters: {'num_hidden_layers': 10, 'neurons_layer_0': 256, 'neurons_layer_1': 128, 'neurons_layer_2': 256, 'neurons_layer_3': 512, 'neurons_layer_4': 256, 'neurons_layer_5': 512, 'neurons_layer_6': 128, 'neurons_layer_7': 512, 'neurons_layer_8': 256, 'neurons_layer_9': 128, 'use_dropout_1': True, 'dropout_prob_1': 0.3456477692555098, 'use_dropout_2': False, 'use_dropout_3': True, 'dropout_prob_3': 0.3509840353669975, 'use_dropout_4': True, 'dropout_prob_4': 0.17315519713284053, 'use_dropout_5': True, 'dropout_prob_5': 0.299801969538752, 'use_dropout_6': True, 'dropout_prob_6': 0.49765309214586395, 'use_dropout_7': False, 'use_dropout_8': False, 'use_dropout_9': True, 'dropout_prob_9': 0.1355702548792939, 'num_res_connections': 9, 'res_layer_index_0': 8, 'num_sources_0': 7, 'source_0_0': 3, 'source_0_1': 6, 'source_0_2': 6, 'source_0_3': 5, 'source_0_4': 3, 'source_0_5': 5, 'source_0_6': 3, 'res_layer_index_1': 6, 'num_sources_1': 5, 'source_1_0': 1, 'source_1_1': 1, 'source_1_2': 1, 'source_1_3': 5, 'source_1_4': 3, 'res_layer_index_2': 8, 'num_sources_2': 7, 'source_2_0': 2, 'source_2_1': -1, 'source_2_2': 2, 'source_2_3': 3, 'source_2_4': 3, 'source_2_5': 5, 'source_2_6': 1, 'res_layer_index_3': 9, 'num_sources_3': 8, 'source_3_0': 5, 'source_3_1': 4, 'source_3_2': 6, 'source_3_3': 7, 'source_3_4': 1, 'source_3_5': 2, 'source_3_6': 5, 'source_3_7': 1, 'res_layer_index_4': 4, 'num_sources_4': 0, 'res_layer_index_5': 2, 'num_sources_5': 1, 'source_5_0': -1, 'res_layer_index_6': 3, 'num_sources_6': 2, 'source_6_0': 1, 'source_6_1': -1, 'res_layer_index_7': 9, 'num_sources_7': 7, 'source_7_0': 8, 'source_7_1': 6, 'source_7_2': 6, 'source_7_3': 8, 'source_7_4': 4, 'source_7_5': 3, 'source_7_6': 5, 'res_layer_index_8': 1, 'num_sources_8': 0, 'hidden_activation': 'SiLU', 'learning_rate': 0.015780107862132887, 'optimizer_name': 'Adam', 'use_weight_decay': True, 'weight_decay': 6.635210224544282e-05, 'model_seed': 3758, 'batch_size': 32}. Best is trial 41 with value: 0.04594885930418968.\n"
     ]
    },
    {
     "name": "stdout",
     "output_type": "stream",
     "text": [
      "Early stopping triggered after 180 epochs\n",
      "Trial 78 finished with value: 0.0494\n",
      "Best trial so far: 41 with value: 0.0459\n"
     ]
    },
    {
     "name": "stderr",
     "output_type": "stream",
     "text": [
      "[I 2024-08-24 02:51:46,866] Trial 79 finished with value: 0.0522935651242733 and parameters: {'num_hidden_layers': 6, 'neurons_layer_0': 128, 'neurons_layer_1': 128, 'neurons_layer_2': 512, 'neurons_layer_3': 512, 'neurons_layer_4': 256, 'neurons_layer_5': 128, 'use_dropout_1': False, 'use_dropout_2': False, 'use_dropout_3': False, 'use_dropout_4': True, 'dropout_prob_4': 0.13566188394545747, 'use_dropout_5': False, 'num_res_connections': 4, 'res_layer_index_0': 4, 'num_sources_0': 0, 'res_layer_index_1': 4, 'num_sources_1': 3, 'source_1_0': 1, 'source_1_1': 2, 'source_1_2': 2, 'res_layer_index_2': 3, 'num_sources_2': 2, 'source_2_0': 1, 'source_2_1': 0, 'res_layer_index_3': 2, 'num_sources_3': 0, 'hidden_activation': 'LeakyReLU', 'learning_rate': 0.007110759590275177, 'optimizer_name': 'Adam', 'use_weight_decay': True, 'weight_decay': 0.00011168650038182999, 'model_seed': 7970, 'batch_size': 64}. Best is trial 41 with value: 0.04594885930418968.\n"
     ]
    },
    {
     "name": "stdout",
     "output_type": "stream",
     "text": [
      "Early stopping triggered after 153 epochs\n",
      "Trial 79 finished with value: 0.0523\n",
      "Best trial so far: 41 with value: 0.0459\n"
     ]
    },
    {
     "name": "stderr",
     "output_type": "stream",
     "text": [
      "[I 2024-08-24 02:52:22,505] Trial 80 finished with value: 0.048012010753154755 and parameters: {'num_hidden_layers': 9, 'neurons_layer_0': 128, 'neurons_layer_1': 512, 'neurons_layer_2': 256, 'neurons_layer_3': 256, 'neurons_layer_4': 128, 'neurons_layer_5': 128, 'neurons_layer_6': 128, 'neurons_layer_7': 128, 'neurons_layer_8': 256, 'use_dropout_1': True, 'dropout_prob_1': 0.2005088109189832, 'use_dropout_2': False, 'use_dropout_3': True, 'dropout_prob_3': 0.40715045650503395, 'use_dropout_4': True, 'dropout_prob_4': 0.07105554703662334, 'use_dropout_5': False, 'use_dropout_6': False, 'use_dropout_7': True, 'dropout_prob_7': 0.15079715363848473, 'use_dropout_8': False, 'num_res_connections': 7, 'res_layer_index_0': 7, 'num_sources_0': 2, 'source_0_0': 3, 'source_0_1': 4, 'res_layer_index_1': 7, 'num_sources_1': 7, 'source_1_0': 4, 'source_1_1': 5, 'source_1_2': 4, 'source_1_3': 6, 'source_1_4': 4, 'source_1_5': 0, 'source_1_6': -1, 'res_layer_index_2': 6, 'num_sources_2': 3, 'source_2_0': 4, 'source_2_1': 3, 'source_2_2': 4, 'res_layer_index_3': 7, 'num_sources_3': 6, 'source_3_0': 2, 'source_3_1': 0, 'source_3_2': 3, 'source_3_3': 4, 'source_3_4': 3, 'source_3_5': 4, 'res_layer_index_4': 3, 'num_sources_4': 1, 'source_4_0': 1, 'res_layer_index_5': 6, 'num_sources_5': 4, 'source_5_0': 0, 'source_5_1': 3, 'source_5_2': 0, 'source_5_3': 3, 'res_layer_index_6': 5, 'num_sources_6': 3, 'source_6_0': 2, 'source_6_1': 4, 'source_6_2': 2, 'hidden_activation': 'SiLU', 'learning_rate': 0.024620974086932108, 'optimizer_name': 'Adam', 'use_weight_decay': True, 'weight_decay': 2.8303905056229868e-05, 'model_seed': 6330, 'batch_size': 8}. Best is trial 41 with value: 0.04594885930418968.\n"
     ]
    },
    {
     "name": "stdout",
     "output_type": "stream",
     "text": [
      "Early stopping triggered after 305 epochs\n",
      "Trial 80 finished with value: 0.0480\n",
      "Best trial so far: 41 with value: 0.0459\n"
     ]
    },
    {
     "name": "stderr",
     "output_type": "stream",
     "text": [
      "[I 2024-08-24 02:52:34,115] Trial 81 finished with value: 0.05047845467925072 and parameters: {'num_hidden_layers': 10, 'neurons_layer_0': 128, 'neurons_layer_1': 128, 'neurons_layer_2': 512, 'neurons_layer_3': 512, 'neurons_layer_4': 256, 'neurons_layer_5': 128, 'neurons_layer_6': 128, 'neurons_layer_7': 512, 'neurons_layer_8': 256, 'neurons_layer_9': 512, 'use_dropout_1': True, 'dropout_prob_1': 0.22482445878053048, 'use_dropout_2': False, 'use_dropout_3': True, 'dropout_prob_3': 0.2817744044678435, 'use_dropout_4': True, 'dropout_prob_4': 0.11521067521533741, 'use_dropout_5': False, 'use_dropout_6': False, 'use_dropout_7': True, 'dropout_prob_7': 0.3243112624021126, 'use_dropout_8': False, 'use_dropout_9': True, 'dropout_prob_9': 0.29229262455055066, 'num_res_connections': 8, 'res_layer_index_0': 9, 'num_sources_0': 8, 'source_0_0': 7, 'source_0_1': 7, 'source_0_2': 7, 'source_0_3': 8, 'source_0_4': 5, 'source_0_5': 8, 'source_0_6': 0, 'source_0_7': 0, 'res_layer_index_1': 8, 'num_sources_1': 8, 'source_1_0': 7, 'source_1_1': 7, 'source_1_2': 5, 'source_1_3': 7, 'source_1_4': 6, 'source_1_5': 1, 'source_1_6': 1, 'source_1_7': 2, 'res_layer_index_2': 9, 'num_sources_2': 8, 'source_2_0': 8, 'source_2_1': 6, 'source_2_2': 8, 'source_2_3': 8, 'source_2_4': 7, 'source_2_5': 1, 'source_2_6': 5, 'source_2_7': 4, 'res_layer_index_3': 5, 'num_sources_3': 4, 'source_3_0': 1, 'source_3_1': -1, 'source_3_2': 0, 'source_3_3': 3, 'res_layer_index_4': 1, 'num_sources_4': 0, 'res_layer_index_5': 8, 'num_sources_5': 7, 'source_5_0': 6, 'source_5_1': 7, 'source_5_2': 7, 'source_5_3': 5, 'source_5_4': 2, 'source_5_5': 6, 'source_5_6': 4, 'res_layer_index_6': 9, 'num_sources_6': 5, 'source_6_0': 4, 'source_6_1': 1, 'source_6_2': 6, 'source_6_3': 8, 'source_6_4': 0, 'res_layer_index_7': 6, 'num_sources_7': 5, 'source_7_0': 3, 'source_7_1': 3, 'source_7_2': 3, 'source_7_3': 0, 'source_7_4': 1, 'hidden_activation': 'SiLU', 'learning_rate': 0.012045163529917479, 'optimizer_name': 'Adam', 'use_weight_decay': True, 'weight_decay': 5.4504694021022245e-06, 'model_seed': 1784, 'batch_size': 16}. Best is trial 41 with value: 0.04594885930418968.\n"
     ]
    },
    {
     "name": "stdout",
     "output_type": "stream",
     "text": [
      "Early stopping triggered after 128 epochs\n",
      "Trial 81 finished with value: 0.0505\n",
      "Best trial so far: 41 with value: 0.0459\n"
     ]
    },
    {
     "name": "stderr",
     "output_type": "stream",
     "text": [
      "[I 2024-08-24 02:52:47,503] Trial 82 finished with value: 0.047338344156742096 and parameters: {'num_hidden_layers': 10, 'neurons_layer_0': 128, 'neurons_layer_1': 128, 'neurons_layer_2': 512, 'neurons_layer_3': 512, 'neurons_layer_4': 256, 'neurons_layer_5': 128, 'neurons_layer_6': 128, 'neurons_layer_7': 512, 'neurons_layer_8': 256, 'neurons_layer_9': 512, 'use_dropout_1': True, 'dropout_prob_1': 0.15789209898115125, 'use_dropout_2': False, 'use_dropout_3': True, 'dropout_prob_3': 0.26717457905406855, 'use_dropout_4': True, 'dropout_prob_4': 0.09853924421121935, 'use_dropout_5': False, 'use_dropout_6': False, 'use_dropout_7': True, 'dropout_prob_7': 0.2841644093859239, 'use_dropout_8': False, 'use_dropout_9': True, 'dropout_prob_9': 0.34767686297976697, 'num_res_connections': 9, 'res_layer_index_0': 9, 'num_sources_0': 9, 'source_0_0': 8, 'source_0_1': 8, 'source_0_2': 8, 'source_0_3': 7, 'source_0_4': 4, 'source_0_5': 6, 'source_0_6': -1, 'source_0_7': 2, 'source_0_8': 6, 'res_layer_index_1': 9, 'num_sources_1': 9, 'source_1_0': 6, 'source_1_1': 8, 'source_1_2': 8, 'source_1_3': 8, 'source_1_4': 6, 'source_1_5': 1, 'source_1_6': 2, 'source_1_7': 1, 'source_1_8': -1, 'res_layer_index_2': 9, 'num_sources_2': 8, 'source_2_0': 7, 'source_2_1': 8, 'source_2_2': 8, 'source_2_3': 8, 'source_2_4': 8, 'source_2_5': 0, 'source_2_6': 6, 'source_2_7': 6, 'res_layer_index_3': 6, 'num_sources_3': 5, 'source_3_0': 1, 'source_3_1': -1, 'source_3_2': 1, 'source_3_3': 3, 'source_3_4': 0, 'res_layer_index_4': 1, 'num_sources_4': 0, 'res_layer_index_5': 9, 'num_sources_5': 9, 'source_5_0': 7, 'source_5_1': 8, 'source_5_2': 8, 'source_5_3': 6, 'source_5_4': 2, 'source_5_5': 7, 'source_5_6': 3, 'source_5_7': 8, 'source_5_8': 8, 'res_layer_index_6': 4, 'num_sources_6': 3, 'source_6_0': 2, 'source_6_1': 0, 'source_6_2': 0, 'res_layer_index_7': 7, 'num_sources_7': 5, 'source_7_0': 1, 'source_7_1': 4, 'source_7_2': 4, 'source_7_3': 0, 'source_7_4': 2, 'res_layer_index_8': 6, 'num_sources_8': 4, 'source_8_0': 5, 'source_8_1': -1, 'source_8_2': -1, 'source_8_3': 4, 'hidden_activation': 'SiLU', 'learning_rate': 0.010949850387842219, 'optimizer_name': 'Adam', 'use_weight_decay': True, 'weight_decay': 9.958536504018271e-06, 'model_seed': 1596, 'batch_size': 16}. Best is trial 41 with value: 0.04594885930418968.\n"
     ]
    },
    {
     "name": "stdout",
     "output_type": "stream",
     "text": [
      "Early stopping triggered after 151 epochs\n",
      "Trial 82 finished with value: 0.0473\n",
      "Best trial so far: 41 with value: 0.0459\n"
     ]
    },
    {
     "name": "stderr",
     "output_type": "stream",
     "text": [
      "[I 2024-08-24 02:52:59,528] Trial 83 finished with value: 0.04829168692231178 and parameters: {'num_hidden_layers': 10, 'neurons_layer_0': 128, 'neurons_layer_1': 128, 'neurons_layer_2': 512, 'neurons_layer_3': 512, 'neurons_layer_4': 256, 'neurons_layer_5': 128, 'neurons_layer_6': 128, 'neurons_layer_7': 512, 'neurons_layer_8': 512, 'neurons_layer_9': 512, 'use_dropout_1': True, 'dropout_prob_1': 0.15046887816912913, 'use_dropout_2': False, 'use_dropout_3': True, 'dropout_prob_3': 0.22502669448558402, 'use_dropout_4': True, 'dropout_prob_4': 0.09099294467877128, 'use_dropout_5': False, 'use_dropout_6': False, 'use_dropout_7': True, 'dropout_prob_7': 0.29211098564328597, 'use_dropout_8': True, 'dropout_prob_8': 0.07599638869647757, 'use_dropout_9': True, 'dropout_prob_9': 0.36518259360183875, 'num_res_connections': 9, 'res_layer_index_0': 9, 'num_sources_0': 9, 'source_0_0': 8, 'source_0_1': 8, 'source_0_2': 8, 'source_0_3': 7, 'source_0_4': 5, 'source_0_5': 6, 'source_0_6': -1, 'source_0_7': 4, 'source_0_8': 6, 'res_layer_index_1': 9, 'num_sources_1': 8, 'source_1_0': 8, 'source_1_1': 8, 'source_1_2': 8, 'source_1_3': 8, 'source_1_4': 8, 'source_1_5': 0, 'source_1_6': 4, 'source_1_7': 0, 'res_layer_index_2': 9, 'num_sources_2': 9, 'source_2_0': 7, 'source_2_1': 1, 'source_2_2': 7, 'source_2_3': 7, 'source_2_4': 1, 'source_2_5': -1, 'source_2_6': 8, 'source_2_7': 7, 'source_2_8': 8, 'res_layer_index_3': 6, 'num_sources_3': 5, 'source_3_0': 1, 'source_3_1': -1, 'source_3_2': 1, 'source_3_3': 4, 'source_3_4': 0, 'res_layer_index_4': 1, 'num_sources_4': 0, 'res_layer_index_5': 9, 'num_sources_5': 9, 'source_5_0': 7, 'source_5_1': 8, 'source_5_2': 3, 'source_5_3': 7, 'source_5_4': 0, 'source_5_5': 8, 'source_5_6': 2, 'source_5_7': 8, 'source_5_8': 8, 'res_layer_index_6': 4, 'num_sources_6': 3, 'source_6_0': 2, 'source_6_1': 0, 'source_6_2': -1, 'res_layer_index_7': 7, 'num_sources_7': 5, 'source_7_0': 1, 'source_7_1': 4, 'source_7_2': 1, 'source_7_3': 2, 'source_7_4': 2, 'res_layer_index_8': 6, 'num_sources_8': 4, 'source_8_0': 5, 'source_8_1': -1, 'source_8_2': -1, 'source_8_3': 4, 'hidden_activation': 'SiLU', 'learning_rate': 0.008910922427224244, 'optimizer_name': 'Adam', 'use_weight_decay': True, 'weight_decay': 1.3626314032122702e-05, 'model_seed': 908, 'batch_size': 16}. Best is trial 41 with value: 0.04594885930418968.\n"
     ]
    },
    {
     "name": "stdout",
     "output_type": "stream",
     "text": [
      "Early stopping triggered after 140 epochs\n",
      "Trial 83 finished with value: 0.0483\n",
      "Best trial so far: 41 with value: 0.0459\n"
     ]
    },
    {
     "name": "stderr",
     "output_type": "stream",
     "text": [
      "[I 2024-08-24 02:53:15,286] Trial 84 finished with value: 0.05281439423561096 and parameters: {'num_hidden_layers': 10, 'neurons_layer_0': 128, 'neurons_layer_1': 128, 'neurons_layer_2': 512, 'neurons_layer_3': 512, 'neurons_layer_4': 256, 'neurons_layer_5': 128, 'neurons_layer_6': 512, 'neurons_layer_7': 512, 'neurons_layer_8': 256, 'neurons_layer_9': 512, 'use_dropout_1': True, 'dropout_prob_1': 0.09955087002435142, 'use_dropout_2': False, 'use_dropout_3': True, 'dropout_prob_3': 0.256443562640884, 'use_dropout_4': True, 'dropout_prob_4': 0.1430907409009824, 'use_dropout_5': False, 'use_dropout_6': False, 'use_dropout_7': False, 'use_dropout_8': False, 'use_dropout_9': True, 'dropout_prob_9': 0.4060070428951088, 'num_res_connections': 9, 'res_layer_index_0': 8, 'num_sources_0': 8, 'source_0_0': 6, 'source_0_1': 6, 'source_0_2': 6, 'source_0_3': 6, 'source_0_4': 4, 'source_0_5': 6, 'source_0_6': 0, 'source_0_7': 5, 'res_layer_index_1': 9, 'num_sources_1': 9, 'source_1_0': 6, 'source_1_1': 8, 'source_1_2': 7, 'source_1_3': 8, 'source_1_4': 5, 'source_1_5': 2, 'source_1_6': 2, 'source_1_7': 5, 'source_1_8': -1, 'res_layer_index_2': 8, 'num_sources_2': 7, 'source_2_0': 6, 'source_2_1': 7, 'source_2_2': 7, 'source_2_3': 0, 'source_2_4': 2, 'source_2_5': 0, 'source_2_6': 4, 'res_layer_index_3': 6, 'num_sources_3': 5, 'source_3_0': 2, 'source_3_1': -1, 'source_3_2': 2, 'source_3_3': 4, 'source_3_4': -1, 'res_layer_index_4': 2, 'num_sources_4': 1, 'source_4_0': 0, 'res_layer_index_5': 9, 'num_sources_5': 8, 'source_5_0': 7, 'source_5_1': 8, 'source_5_2': 8, 'source_5_3': 2, 'source_5_4': 3, 'source_5_5': 7, 'source_5_6': 2, 'source_5_7': 8, 'res_layer_index_6': 2, 'num_sources_6': 1, 'source_6_0': 0, 'res_layer_index_7': 8, 'num_sources_7': 4, 'source_7_0': 1, 'source_7_1': 5, 'source_7_2': 4, 'source_7_3': -1, 'res_layer_index_8': 7, 'num_sources_8': 5, 'source_8_0': 5, 'source_8_1': -1, 'source_8_2': -1, 'source_8_3': 4, 'source_8_4': -1, 'hidden_activation': 'SiLU', 'learning_rate': 0.010809056575126694, 'optimizer_name': 'Adam', 'use_weight_decay': True, 'weight_decay': 3.3973523644686014e-06, 'model_seed': 8981, 'batch_size': 16}. Best is trial 41 with value: 0.04594885930418968.\n"
     ]
    },
    {
     "name": "stdout",
     "output_type": "stream",
     "text": [
      "Early stopping triggered after 188 epochs\n",
      "Trial 84 finished with value: 0.0528\n",
      "Best trial so far: 41 with value: 0.0459\n"
     ]
    },
    {
     "name": "stderr",
     "output_type": "stream",
     "text": [
      "[I 2024-08-24 02:53:27,985] Trial 85 finished with value: 0.05028450861573219 and parameters: {'num_hidden_layers': 10, 'neurons_layer_0': 256, 'neurons_layer_1': 128, 'neurons_layer_2': 512, 'neurons_layer_3': 128, 'neurons_layer_4': 256, 'neurons_layer_5': 128, 'neurons_layer_6': 128, 'neurons_layer_7': 512, 'neurons_layer_8': 128, 'neurons_layer_9': 128, 'use_dropout_1': True, 'dropout_prob_1': 0.16371825665580242, 'use_dropout_2': False, 'use_dropout_3': True, 'dropout_prob_3': 0.19164746380359593, 'use_dropout_4': True, 'dropout_prob_4': 0.06643711890703374, 'use_dropout_5': False, 'use_dropout_6': False, 'use_dropout_7': True, 'dropout_prob_7': 0.23373063010676218, 'use_dropout_8': False, 'use_dropout_9': False, 'num_res_connections': 9, 'res_layer_index_0': 9, 'num_sources_0': 9, 'source_0_0': 8, 'source_0_1': 8, 'source_0_2': 8, 'source_0_3': 7, 'source_0_4': 6, 'source_0_5': 7, 'source_0_6': 5, 'source_0_7': 2, 'source_0_8': 5, 'res_layer_index_1': 8, 'num_sources_1': 7, 'source_1_0': 0, 'source_1_1': 6, 'source_1_2': 0, 'source_1_3': 6, 'source_1_4': 2, 'source_1_5': 3, 'source_1_6': 4, 'res_layer_index_2': 9, 'num_sources_2': 8, 'source_2_0': 7, 'source_2_1': 4, 'source_2_2': 8, 'source_2_3': 8, 'source_2_4': 4, 'source_2_5': 7, 'source_2_6': 7, 'source_2_7': 6, 'res_layer_index_3': 8, 'num_sources_3': 6, 'source_3_0': -1, 'source_3_1': 1, 'source_3_2': 0, 'source_3_3': 5, 'source_3_4': 0, 'source_3_5': 1, 'res_layer_index_4': 1, 'num_sources_4': 0, 'res_layer_index_5': 8, 'num_sources_5': 8, 'source_5_0': 2, 'source_5_1': 2, 'source_5_2': 7, 'source_5_3': 1, 'source_5_4': 1, 'source_5_5': 5, 'source_5_6': 5, 'source_5_7': 5, 'res_layer_index_6': 6, 'num_sources_6': 2, 'source_6_0': 3, 'source_6_1': 5, 'res_layer_index_7': 3, 'num_sources_7': 1, 'source_7_0': -1, 'res_layer_index_8': 2, 'num_sources_8': 0, 'hidden_activation': 'SiLU', 'learning_rate': 0.004602894329499789, 'optimizer_name': 'Adam', 'use_weight_decay': True, 'weight_decay': 1.328644843282639e-07, 'model_seed': 525, 'batch_size': 16}. Best is trial 41 with value: 0.04594885930418968.\n"
     ]
    },
    {
     "name": "stdout",
     "output_type": "stream",
     "text": [
      "Early stopping triggered after 189 epochs\n",
      "Trial 85 finished with value: 0.0503\n",
      "Best trial so far: 41 with value: 0.0459\n"
     ]
    },
    {
     "name": "stderr",
     "output_type": "stream",
     "text": [
      "[I 2024-08-24 02:53:38,573] Trial 86 finished with value: 0.051337338984012604 and parameters: {'num_hidden_layers': 9, 'neurons_layer_0': 128, 'neurons_layer_1': 128, 'neurons_layer_2': 512, 'neurons_layer_3': 512, 'neurons_layer_4': 128, 'neurons_layer_5': 128, 'neurons_layer_6': 256, 'neurons_layer_7': 256, 'neurons_layer_8': 256, 'use_dropout_1': True, 'dropout_prob_1': 0.46338348860920675, 'use_dropout_2': False, 'use_dropout_3': True, 'dropout_prob_3': 0.48167832067403893, 'use_dropout_4': True, 'dropout_prob_4': 0.09176196833645524, 'use_dropout_5': True, 'dropout_prob_5': 0.3692478176140534, 'use_dropout_6': False, 'use_dropout_7': True, 'dropout_prob_7': 0.2658896325512633, 'use_dropout_8': True, 'dropout_prob_8': 0.3657738614889054, 'num_res_connections': 8, 'res_layer_index_0': 6, 'num_sources_0': 0, 'res_layer_index_1': 7, 'num_sources_1': 6, 'source_1_0': 5, 'source_1_1': 4, 'source_1_2': 0, 'source_1_3': 5, 'source_1_4': 2, 'source_1_5': -1, 'res_layer_index_2': 5, 'num_sources_2': 2, 'source_2_0': 3, 'source_2_1': 0, 'res_layer_index_3': 7, 'num_sources_3': 6, 'source_3_0': 0, 'source_3_1': 0, 'source_3_2': 5, 'source_3_3': 1, 'source_3_4': 1, 'source_3_5': 3, 'res_layer_index_4': 2, 'num_sources_4': 1, 'source_4_0': -1, 'res_layer_index_5': 7, 'num_sources_5': 6, 'source_5_0': 6, 'source_5_1': 3, 'source_5_2': -1, 'source_5_3': 4, 'source_5_4': 4, 'source_5_5': 4, 'res_layer_index_6': 3, 'num_sources_6': 1, 'source_6_0': 1, 'res_layer_index_7': 7, 'num_sources_7': 6, 'source_7_0': 2, 'source_7_1': 4, 'source_7_2': 3, 'source_7_3': 0, 'source_7_4': 4, 'source_7_5': 1, 'hidden_activation': 'ELU', 'learning_rate': 0.0036084581429139963, 'optimizer_name': 'Adam', 'use_weight_decay': True, 'weight_decay': 2.0385093805883507e-05, 'model_seed': 7309, 'batch_size': 16}. Best is trial 41 with value: 0.04594885930418968.\n"
     ]
    },
    {
     "name": "stdout",
     "output_type": "stream",
     "text": [
      "Early stopping triggered after 183 epochs\n",
      "Trial 86 finished with value: 0.0513\n",
      "Best trial so far: 41 with value: 0.0459\n"
     ]
    },
    {
     "name": "stderr",
     "output_type": "stream",
     "text": [
      "[I 2024-08-24 02:53:43,563] Trial 87 finished with value: 0.0533992163836956 and parameters: {'num_hidden_layers': 8, 'neurons_layer_0': 128, 'neurons_layer_1': 128, 'neurons_layer_2': 256, 'neurons_layer_3': 512, 'neurons_layer_4': 512, 'neurons_layer_5': 128, 'neurons_layer_6': 128, 'neurons_layer_7': 512, 'use_dropout_1': True, 'dropout_prob_1': 0.31450598734876195, 'use_dropout_2': False, 'use_dropout_3': False, 'use_dropout_4': True, 'dropout_prob_4': 0.2391010621312453, 'use_dropout_5': False, 'use_dropout_6': True, 'dropout_prob_6': 0.3975192534312894, 'use_dropout_7': False, 'num_res_connections': 6, 'res_layer_index_0': 6, 'num_sources_0': 5, 'source_0_0': 3, 'source_0_1': 0, 'source_0_2': 1, 'source_0_3': 3, 'source_0_4': 1, 'res_layer_index_1': 6, 'num_sources_1': 5, 'source_1_0': 3, 'source_1_1': 2, 'source_1_2': 2, 'source_1_3': 4, 'source_1_4': -1, 'res_layer_index_2': 6, 'num_sources_2': 5, 'source_2_0': 2, 'source_2_1': 2, 'source_2_2': 1, 'source_2_3': 1, 'source_2_4': 3, 'res_layer_index_3': 6, 'num_sources_3': 5, 'source_3_0': 1, 'source_3_1': -1, 'source_3_2': 3, 'source_3_3': 2, 'source_3_4': -1, 'res_layer_index_4': 3, 'num_sources_4': 2, 'source_4_0': 1, 'source_4_1': -1, 'res_layer_index_5': 5, 'num_sources_5': 4, 'source_5_0': 1, 'source_5_1': 1, 'source_5_2': 0, 'source_5_3': 2, 'hidden_activation': 'SiLU', 'learning_rate': 0.002818440829515134, 'optimizer_name': 'Adam', 'use_weight_decay': True, 'weight_decay': 5.3027950136818045e-05, 'model_seed': 4310, 'batch_size': 32}. Best is trial 41 with value: 0.04594885930418968.\n"
     ]
    },
    {
     "name": "stdout",
     "output_type": "stream",
     "text": [
      "Early stopping triggered after 101 epochs\n",
      "Trial 87 finished with value: 0.0534\n",
      "Best trial so far: 41 with value: 0.0459\n"
     ]
    },
    {
     "name": "stderr",
     "output_type": "stream",
     "text": [
      "[I 2024-08-24 02:53:47,915] Trial 88 finished with value: 0.05095859616994858 and parameters: {'num_hidden_layers': 7, 'neurons_layer_0': 128, 'neurons_layer_1': 128, 'neurons_layer_2': 512, 'neurons_layer_3': 256, 'neurons_layer_4': 256, 'neurons_layer_5': 512, 'neurons_layer_6': 128, 'use_dropout_1': False, 'use_dropout_2': False, 'use_dropout_3': True, 'dropout_prob_3': 0.4482446369374652, 'use_dropout_4': True, 'dropout_prob_4': 0.12598889969473348, 'use_dropout_5': False, 'use_dropout_6': False, 'num_res_connections': 5, 'res_layer_index_0': 5, 'num_sources_0': 0, 'res_layer_index_1': 3, 'num_sources_1': 1, 'source_1_0': 0, 'res_layer_index_2': 4, 'num_sources_2': 3, 'source_2_0': 0, 'source_2_1': 1, 'source_2_2': 1, 'res_layer_index_3': 5, 'num_sources_3': 4, 'source_3_0': 1, 'source_3_1': -1, 'source_3_2': -1, 'source_3_3': 0, 'res_layer_index_4': 3, 'num_sources_4': 1, 'source_4_0': 1, 'hidden_activation': 'GELU', 'learning_rate': 0.006646153190487401, 'optimizer_name': 'Adam', 'use_weight_decay': True, 'weight_decay': 6.874458586438235e-06, 'model_seed': 2522, 'batch_size': 16}. Best is trial 41 with value: 0.04594885930418968.\n"
     ]
    },
    {
     "name": "stdout",
     "output_type": "stream",
     "text": [
      "Early stopping triggered after 101 epochs\n",
      "Trial 88 finished with value: 0.0510\n",
      "Best trial so far: 41 with value: 0.0459\n"
     ]
    },
    {
     "name": "stderr",
     "output_type": "stream",
     "text": [
      "[I 2024-08-24 02:54:01,135] Trial 89 finished with value: 0.04946734756231308 and parameters: {'num_hidden_layers': 10, 'neurons_layer_0': 256, 'neurons_layer_1': 512, 'neurons_layer_2': 256, 'neurons_layer_3': 128, 'neurons_layer_4': 128, 'neurons_layer_5': 256, 'neurons_layer_6': 256, 'neurons_layer_7': 512, 'neurons_layer_8': 256, 'neurons_layer_9': 512, 'use_dropout_1': True, 'dropout_prob_1': 0.12374949342911343, 'use_dropout_2': False, 'use_dropout_3': True, 'dropout_prob_3': 0.267141450820869, 'use_dropout_4': True, 'dropout_prob_4': 0.10452946496762708, 'use_dropout_5': False, 'use_dropout_6': False, 'use_dropout_7': True, 'dropout_prob_7': 0.37420689897824516, 'use_dropout_8': False, 'use_dropout_9': True, 'dropout_prob_9': 0.23769187672621642, 'num_res_connections': 9, 'res_layer_index_0': 8, 'num_sources_0': 8, 'source_0_0': 4, 'source_0_1': 5, 'source_0_2': 2, 'source_0_3': 6, 'source_0_4': 2, 'source_0_5': 5, 'source_0_6': 2, 'source_0_7': 4, 'res_layer_index_1': 8, 'num_sources_1': 7, 'source_1_0': 4, 'source_1_1': 6, 'source_1_2': 4, 'source_1_3': 7, 'source_1_4': 6, 'source_1_5': 1, 'source_1_6': 0, 'res_layer_index_2': 8, 'num_sources_2': 6, 'source_2_0': 6, 'source_2_1': -1, 'source_2_2': 6, 'source_2_3': 6, 'source_2_4': 0, 'source_2_5': 0, 'res_layer_index_3': 8, 'num_sources_3': 7, 'source_3_0': 2, 'source_3_1': 1, 'source_3_2': 6, 'source_3_3': 6, 'source_3_4': 7, 'source_3_5': 5, 'source_3_6': 2, 'res_layer_index_4': 4, 'num_sources_4': 2, 'source_4_0': 2, 'source_4_1': 2, 'res_layer_index_5': 9, 'num_sources_5': 9, 'source_5_0': 7, 'source_5_1': 6, 'source_5_2': 8, 'source_5_3': 4, 'source_5_4': 2, 'source_5_5': 7, 'source_5_6': 3, 'source_5_7': 5, 'source_5_8': 8, 'res_layer_index_6': 4, 'num_sources_6': 3, 'source_6_0': 2, 'source_6_1': 0, 'source_6_2': 0, 'res_layer_index_7': 5, 'num_sources_7': 4, 'source_7_0': 0, 'source_7_1': 2, 'source_7_2': 0, 'source_7_3': 2, 'res_layer_index_8': 5, 'num_sources_8': 1, 'source_8_0': 2, 'hidden_activation': 'ReLU', 'learning_rate': 0.018942584275201547, 'optimizer_name': 'Adam', 'use_weight_decay': True, 'weight_decay': 0.00023227106546878283, 'model_seed': 3006, 'batch_size': 16}. Best is trial 41 with value: 0.04594885930418968.\n"
     ]
    },
    {
     "name": "stdout",
     "output_type": "stream",
     "text": [
      "Early stopping triggered after 188 epochs\n",
      "Trial 89 finished with value: 0.0495\n",
      "Best trial so far: 41 with value: 0.0459\n"
     ]
    },
    {
     "name": "stderr",
     "output_type": "stream",
     "text": [
      "[I 2024-08-24 02:54:26,742] Trial 90 finished with value: 0.05754350125789642 and parameters: {'num_hidden_layers': 9, 'neurons_layer_0': 128, 'neurons_layer_1': 128, 'neurons_layer_2': 256, 'neurons_layer_3': 512, 'neurons_layer_4': 256, 'neurons_layer_5': 128, 'neurons_layer_6': 128, 'neurons_layer_7': 128, 'neurons_layer_8': 256, 'use_dropout_1': True, 'dropout_prob_1': 0.28914569977145277, 'use_dropout_2': False, 'use_dropout_3': False, 'use_dropout_4': True, 'dropout_prob_4': 0.16861222015502786, 'use_dropout_5': True, 'dropout_prob_5': 0.45639778829096245, 'use_dropout_6': False, 'use_dropout_7': True, 'dropout_prob_7': 0.19162514964915014, 'use_dropout_8': False, 'num_res_connections': 7, 'res_layer_index_0': 7, 'num_sources_0': 1, 'source_0_0': 2, 'res_layer_index_1': 7, 'num_sources_1': 6, 'source_1_0': 2, 'source_1_1': 6, 'source_1_2': 5, 'source_1_3': 2, 'source_1_4': 5, 'source_1_5': 0, 'res_layer_index_2': 7, 'num_sources_2': 6, 'source_2_0': 5, 'source_2_1': -1, 'source_2_2': 5, 'source_2_3': 2, 'source_2_4': -1, 'source_2_5': 0, 'res_layer_index_3': 7, 'num_sources_3': 6, 'source_3_0': 3, 'source_3_1': 0, 'source_3_2': 1, 'source_3_3': 5, 'source_3_4': -1, 'source_3_5': 1, 'res_layer_index_4': 6, 'num_sources_4': 6, 'source_4_0': 3, 'source_4_1': 3, 'source_4_2': 0, 'source_4_3': 3, 'source_4_4': 3, 'source_4_5': -1, 'res_layer_index_5': 7, 'num_sources_5': 6, 'source_5_0': 5, 'source_5_1': 4, 'source_5_2': 4, 'source_5_3': 4, 'source_5_4': 1, 'source_5_5': 5, 'res_layer_index_6': 5, 'num_sources_6': 4, 'source_6_0': 2, 'source_6_1': -1, 'source_6_2': -1, 'source_6_3': 1, 'hidden_activation': 'SiLU', 'learning_rate': 0.03135135979124545, 'optimizer_name': 'Adam', 'use_weight_decay': True, 'weight_decay': 2.089418740286088e-06, 'model_seed': 2215, 'batch_size': 8}. Best is trial 41 with value: 0.04594885930418968.\n"
     ]
    },
    {
     "name": "stdout",
     "output_type": "stream",
     "text": [
      "Early stopping triggered after 243 epochs\n",
      "Trial 90 finished with value: 0.0575\n",
      "Best trial so far: 41 with value: 0.0459\n"
     ]
    },
    {
     "name": "stderr",
     "output_type": "stream",
     "text": [
      "[I 2024-08-24 02:54:41,527] Trial 91 finished with value: 0.04617181047797203 and parameters: {'num_hidden_layers': 10, 'neurons_layer_0': 128, 'neurons_layer_1': 128, 'neurons_layer_2': 512, 'neurons_layer_3': 512, 'neurons_layer_4': 256, 'neurons_layer_5': 128, 'neurons_layer_6': 128, 'neurons_layer_7': 512, 'neurons_layer_8': 256, 'neurons_layer_9': 512, 'use_dropout_1': True, 'dropout_prob_1': 0.18488673829490188, 'use_dropout_2': False, 'use_dropout_3': True, 'dropout_prob_3': 0.28527117232861177, 'use_dropout_4': True, 'dropout_prob_4': 0.11499546501740865, 'use_dropout_5': False, 'use_dropout_6': False, 'use_dropout_7': True, 'dropout_prob_7': 0.3298681631610579, 'use_dropout_8': False, 'use_dropout_9': True, 'dropout_prob_9': 0.32639394897193136, 'num_res_connections': 8, 'res_layer_index_0': 9, 'num_sources_0': 9, 'source_0_0': 7, 'source_0_1': 7, 'source_0_2': 7, 'source_0_3': 8, 'source_0_4': 4, 'source_0_5': 8, 'source_0_6': 0, 'source_0_7': 1, 'source_0_8': 1, 'res_layer_index_1': 9, 'num_sources_1': 9, 'source_1_0': 6, 'source_1_1': 8, 'source_1_2': 6, 'source_1_3': 7, 'source_1_4': 7, 'source_1_5': 1, 'source_1_6': 2, 'source_1_7': 2, 'source_1_8': -1, 'res_layer_index_2': 9, 'num_sources_2': 8, 'source_2_0': 8, 'source_2_1': 5, 'source_2_2': 8, 'source_2_3': 8, 'source_2_4': 8, 'source_2_5': 2, 'source_2_6': 6, 'source_2_7': 4, 'res_layer_index_3': 5, 'num_sources_3': 4, 'source_3_0': 1, 'source_3_1': -1, 'source_3_2': 1, 'source_3_3': 3, 'res_layer_index_4': 1, 'num_sources_4': 0, 'res_layer_index_5': 8, 'num_sources_5': 7, 'source_5_0': 6, 'source_5_1': 7, 'source_5_2': 7, 'source_5_3': 6, 'source_5_4': 2, 'source_5_5': 6, 'source_5_6': 4, 'res_layer_index_6': 4, 'num_sources_6': 3, 'source_6_0': 2, 'source_6_1': 0, 'source_6_2': 0, 'res_layer_index_7': 6, 'num_sources_7': 5, 'source_7_0': 3, 'source_7_1': 3, 'source_7_2': 3, 'source_7_3': 0, 'source_7_4': 1, 'hidden_activation': 'SiLU', 'learning_rate': 0.012218121744356287, 'optimizer_name': 'Adam', 'use_weight_decay': True, 'weight_decay': 9.360741164674213e-06, 'model_seed': 1502, 'batch_size': 16}. Best is trial 41 with value: 0.04594885930418968.\n"
     ]
    },
    {
     "name": "stdout",
     "output_type": "stream",
     "text": [
      "Early stopping triggered after 195 epochs\n",
      "Trial 91 finished with value: 0.0462\n",
      "Best trial so far: 41 with value: 0.0459\n"
     ]
    },
    {
     "name": "stderr",
     "output_type": "stream",
     "text": [
      "[I 2024-08-24 02:54:58,166] Trial 92 finished with value: 0.04850831255316734 and parameters: {'num_hidden_layers': 10, 'neurons_layer_0': 128, 'neurons_layer_1': 128, 'neurons_layer_2': 512, 'neurons_layer_3': 512, 'neurons_layer_4': 256, 'neurons_layer_5': 128, 'neurons_layer_6': 128, 'neurons_layer_7': 512, 'neurons_layer_8': 256, 'neurons_layer_9': 512, 'use_dropout_1': True, 'dropout_prob_1': 0.1947534461315775, 'use_dropout_2': False, 'use_dropout_3': True, 'dropout_prob_3': 0.2397874855538165, 'use_dropout_4': True, 'dropout_prob_4': 0.12178535430468282, 'use_dropout_5': False, 'use_dropout_6': False, 'use_dropout_7': True, 'dropout_prob_7': 0.34329471862400207, 'use_dropout_8': False, 'use_dropout_9': True, 'dropout_prob_9': 0.33084315025504984, 'num_res_connections': 8, 'res_layer_index_0': 9, 'num_sources_0': 9, 'source_0_0': 7, 'source_0_1': 7, 'source_0_2': 7, 'source_0_3': 8, 'source_0_4': 3, 'source_0_5': 7, 'source_0_6': -1, 'source_0_7': 2, 'source_0_8': 1, 'res_layer_index_1': 9, 'num_sources_1': 9, 'source_1_0': 5, 'source_1_1': 8, 'source_1_2': 6, 'source_1_3': 8, 'source_1_4': 7, 'source_1_5': 1, 'source_1_6': 2, 'source_1_7': 1, 'source_1_8': 1, 'res_layer_index_2': 9, 'num_sources_2': 8, 'source_2_0': 8, 'source_2_1': 8, 'source_2_2': 8, 'source_2_3': 8, 'source_2_4': 8, 'source_2_5': 7, 'source_2_6': 6, 'source_2_7': 3, 'res_layer_index_3': 6, 'num_sources_3': 4, 'source_3_0': 0, 'source_3_1': -1, 'source_3_2': 0, 'source_3_3': 3, 'res_layer_index_4': 1, 'num_sources_4': 0, 'res_layer_index_5': 8, 'num_sources_5': 7, 'source_5_0': 7, 'source_5_1': 7, 'source_5_2': 6, 'source_5_3': 6, 'source_5_4': 2, 'source_5_5': 6, 'source_5_6': 3, 'res_layer_index_6': 4, 'num_sources_6': 3, 'source_6_0': 2, 'source_6_1': 0, 'source_6_2': 0, 'res_layer_index_7': 5, 'num_sources_7': 3, 'source_7_0': 2, 'source_7_1': 3, 'source_7_2': 3, 'hidden_activation': 'SiLU', 'learning_rate': 0.00937219817141718, 'optimizer_name': 'Adam', 'use_weight_decay': True, 'weight_decay': 9.796289300857229e-06, 'model_seed': 1466, 'batch_size': 16}. Best is trial 41 with value: 0.04594885930418968.\n"
     ]
    },
    {
     "name": "stdout",
     "output_type": "stream",
     "text": [
      "Early stopping triggered after 208 epochs\n",
      "Trial 92 finished with value: 0.0485\n",
      "Best trial so far: 41 with value: 0.0459\n"
     ]
    },
    {
     "name": "stderr",
     "output_type": "stream",
     "text": [
      "[I 2024-08-24 02:55:17,238] Trial 93 finished with value: 0.04791199788451195 and parameters: {'num_hidden_layers': 10, 'neurons_layer_0': 128, 'neurons_layer_1': 128, 'neurons_layer_2': 512, 'neurons_layer_3': 512, 'neurons_layer_4': 256, 'neurons_layer_5': 128, 'neurons_layer_6': 128, 'neurons_layer_7': 512, 'neurons_layer_8': 256, 'neurons_layer_9': 512, 'use_dropout_1': True, 'dropout_prob_1': 0.147026751581699, 'use_dropout_2': False, 'use_dropout_3': True, 'dropout_prob_3': 0.31704851418127206, 'use_dropout_4': True, 'dropout_prob_4': 0.14896275471403114, 'use_dropout_5': False, 'use_dropout_6': False, 'use_dropout_7': True, 'dropout_prob_7': 0.31402965815376543, 'use_dropout_8': False, 'use_dropout_9': True, 'dropout_prob_9': 0.3368292322125275, 'num_res_connections': 8, 'res_layer_index_0': 9, 'num_sources_0': 9, 'source_0_0': 8, 'source_0_1': 8, 'source_0_2': 8, 'source_0_3': 7, 'source_0_4': 4, 'source_0_5': 8, 'source_0_6': 0, 'source_0_7': 6, 'source_0_8': 1, 'res_layer_index_1': 9, 'num_sources_1': 8, 'source_1_0': 6, 'source_1_1': 8, 'source_1_2': 7, 'source_1_3': 7, 'source_1_4': 6, 'source_1_5': -1, 'source_1_6': 2, 'source_1_7': 4, 'res_layer_index_2': 9, 'num_sources_2': 8, 'source_2_0': 7, 'source_2_1': 5, 'source_2_2': 7, 'source_2_3': 7, 'source_2_4': 7, 'source_2_5': 2, 'source_2_6': 2, 'source_2_7': 5, 'res_layer_index_3': 5, 'num_sources_3': 2, 'source_3_0': 1, 'source_3_1': -1, 'res_layer_index_4': 1, 'num_sources_4': 0, 'res_layer_index_5': 8, 'num_sources_5': 8, 'source_5_0': 6, 'source_5_1': 5, 'source_5_2': 7, 'source_5_3': 6, 'source_5_4': 3, 'source_5_5': 6, 'source_5_6': 5, 'source_5_7': 0, 'res_layer_index_6': 3, 'num_sources_6': 2, 'source_6_0': -1, 'source_6_1': 0, 'res_layer_index_7': 6, 'num_sources_7': 5, 'source_7_0': 1, 'source_7_1': 4, 'source_7_2': 3, 'source_7_3': 0, 'source_7_4': 3, 'hidden_activation': 'SiLU', 'learning_rate': 0.0145486624661118, 'optimizer_name': 'Adam', 'use_weight_decay': True, 'weight_decay': 5.671378505078193e-06, 'model_seed': 1067, 'batch_size': 16}. Best is trial 41 with value: 0.04594885930418968.\n"
     ]
    },
    {
     "name": "stdout",
     "output_type": "stream",
     "text": [
      "Early stopping triggered after 225 epochs\n",
      "Trial 93 finished with value: 0.0479\n",
      "Best trial so far: 41 with value: 0.0459\n"
     ]
    },
    {
     "name": "stderr",
     "output_type": "stream",
     "text": [
      "[I 2024-08-24 02:55:35,166] Trial 94 finished with value: 0.048363763839006424 and parameters: {'num_hidden_layers': 10, 'neurons_layer_0': 128, 'neurons_layer_1': 128, 'neurons_layer_2': 512, 'neurons_layer_3': 512, 'neurons_layer_4': 256, 'neurons_layer_5': 128, 'neurons_layer_6': 128, 'neurons_layer_7': 512, 'neurons_layer_8': 128, 'neurons_layer_9': 512, 'use_dropout_1': True, 'dropout_prob_1': 0.1564068976477463, 'use_dropout_2': False, 'use_dropout_3': True, 'dropout_prob_3': 0.30405081389527194, 'use_dropout_4': True, 'dropout_prob_4': 0.0860806116659951, 'use_dropout_5': False, 'use_dropout_6': False, 'use_dropout_7': True, 'dropout_prob_7': 0.2899607359612141, 'use_dropout_8': False, 'use_dropout_9': True, 'dropout_prob_9': 0.43327399000415173, 'num_res_connections': 9, 'res_layer_index_0': 9, 'num_sources_0': 9, 'source_0_0': 7, 'source_0_1': 7, 'source_0_2': 7, 'source_0_3': 8, 'source_0_4': 6, 'source_0_5': 6, 'source_0_6': -1, 'source_0_7': 0, 'source_0_8': 1, 'res_layer_index_1': 9, 'num_sources_1': 9, 'source_1_0': 7, 'source_1_1': 7, 'source_1_2': 7, 'source_1_3': 6, 'source_1_4': 7, 'source_1_5': 2, 'source_1_6': 8, 'source_1_7': 3, 'source_1_8': 3, 'res_layer_index_2': 8, 'num_sources_2': 7, 'source_2_0': 4, 'source_2_1': 4, 'source_2_2': 6, 'source_2_3': 4, 'source_2_4': 6, 'source_2_5': 4, 'source_2_6': 6, 'res_layer_index_3': 4, 'num_sources_3': 3, 'source_3_0': 1, 'source_3_1': -1, 'source_3_2': 1, 'res_layer_index_4': 2, 'num_sources_4': 1, 'source_4_0': 0, 'res_layer_index_5': 9, 'num_sources_5': 9, 'source_5_0': 8, 'source_5_1': 8, 'source_5_2': 3, 'source_5_3': 7, 'source_5_4': 5, 'source_5_5': 7, 'source_5_6': 8, 'source_5_7': 6, 'source_5_8': 4, 'res_layer_index_6': 4, 'num_sources_6': 3, 'source_6_0': 2, 'source_6_1': 1, 'source_6_2': 0, 'res_layer_index_7': 7, 'num_sources_7': 7, 'source_7_0': 0, 'source_7_1': 5, 'source_7_2': 1, 'source_7_3': -1, 'source_7_4': 2, 'source_7_5': 3, 'source_7_6': 4, 'res_layer_index_8': 2, 'num_sources_8': 0, 'hidden_activation': 'SiLU', 'learning_rate': 0.007945603787860614, 'optimizer_name': 'Adam', 'use_weight_decay': True, 'weight_decay': 4.129011696845193e-06, 'model_seed': 1993, 'batch_size': 16}. Best is trial 41 with value: 0.04594885930418968.\n"
     ]
    },
    {
     "name": "stdout",
     "output_type": "stream",
     "text": [
      "Early stopping triggered after 210 epochs\n",
      "Trial 94 finished with value: 0.0484\n",
      "Best trial so far: 41 with value: 0.0459\n"
     ]
    },
    {
     "name": "stderr",
     "output_type": "stream",
     "text": [
      "[I 2024-08-24 02:57:17,515] Trial 95 finished with value: 0.051420215517282486 and parameters: {'num_hidden_layers': 9, 'neurons_layer_0': 128, 'neurons_layer_1': 128, 'neurons_layer_2': 512, 'neurons_layer_3': 512, 'neurons_layer_4': 256, 'neurons_layer_5': 128, 'neurons_layer_6': 512, 'neurons_layer_7': 512, 'neurons_layer_8': 512, 'use_dropout_1': True, 'dropout_prob_1': 0.1901542536069544, 'use_dropout_2': False, 'use_dropout_3': True, 'dropout_prob_3': 0.2957636023353618, 'use_dropout_4': True, 'dropout_prob_4': 0.18259416583402477, 'use_dropout_5': False, 'use_dropout_6': False, 'use_dropout_7': True, 'dropout_prob_7': 0.3533837203719423, 'use_dropout_8': False, 'num_res_connections': 7, 'res_layer_index_0': 8, 'num_sources_0': 7, 'source_0_0': 6, 'source_0_1': 6, 'source_0_2': 6, 'source_0_3': 6, 'source_0_4': 5, 'source_0_5': 4, 'source_0_6': 2, 'res_layer_index_1': 7, 'num_sources_1': 7, 'source_1_0': 5, 'source_1_1': 6, 'source_1_2': 3, 'source_1_3': 5, 'source_1_4': 2, 'source_1_5': 3, 'source_1_6': 0, 'res_layer_index_2': 6, 'num_sources_2': 5, 'source_2_0': 3, 'source_2_1': 2, 'source_2_2': 5, 'source_2_3': 1, 'source_2_4': -1, 'res_layer_index_3': 7, 'num_sources_3': 5, 'source_3_0': -1, 'source_3_1': 0, 'source_3_2': 2, 'source_3_3': 3, 'source_3_4': 2, 'res_layer_index_4': 5, 'num_sources_4': 4, 'source_4_0': 3, 'source_4_1': 2, 'source_4_2': 1, 'source_4_3': 2, 'res_layer_index_5': 7, 'num_sources_5': 6, 'source_5_0': 5, 'source_5_1': 4, 'source_5_2': 5, 'source_5_3': 4, 'source_5_4': 1, 'source_5_5': 0, 'res_layer_index_6': 5, 'num_sources_6': 3, 'source_6_0': 3, 'source_6_1': 1, 'source_6_2': 1, 'hidden_activation': 'SiLU', 'learning_rate': 0.013206422260108179, 'optimizer_name': 'Adam', 'use_weight_decay': True, 'weight_decay': 3.133018854789897e-05, 'model_seed': 3267, 'batch_size': 4}. Best is trial 41 with value: 0.04594885930418968.\n"
     ]
    },
    {
     "name": "stdout",
     "output_type": "stream",
     "text": [
      "Early stopping triggered after 353 epochs\n",
      "Trial 95 finished with value: 0.0514\n",
      "Best trial so far: 41 with value: 0.0459\n"
     ]
    },
    {
     "name": "stderr",
     "output_type": "stream",
     "text": [
      "[I 2024-08-24 02:57:27,302] Trial 96 finished with value: 0.048766665160655975 and parameters: {'num_hidden_layers': 10, 'neurons_layer_0': 128, 'neurons_layer_1': 128, 'neurons_layer_2': 128, 'neurons_layer_3': 512, 'neurons_layer_4': 128, 'neurons_layer_5': 128, 'neurons_layer_6': 128, 'neurons_layer_7': 512, 'neurons_layer_8': 256, 'neurons_layer_9': 128, 'use_dropout_1': True, 'dropout_prob_1': 0.13743189001368183, 'use_dropout_2': False, 'use_dropout_3': True, 'dropout_prob_3': 0.26606963089652735, 'use_dropout_4': True, 'dropout_prob_4': 0.20535612720116642, 'use_dropout_5': False, 'use_dropout_6': False, 'use_dropout_7': False, 'use_dropout_8': True, 'dropout_prob_8': 0.1433761500962178, 'use_dropout_9': False, 'num_res_connections': 9, 'res_layer_index_0': 9, 'num_sources_0': 9, 'source_0_0': 8, 'source_0_1': 8, 'source_0_2': 8, 'source_0_3': 7, 'source_0_4': 2, 'source_0_5': 7, 'source_0_6': 0, 'source_0_7': 3, 'source_0_8': 5, 'res_layer_index_1': 8, 'num_sources_1': 8, 'source_1_0': 6, 'source_1_1': 7, 'source_1_2': 4, 'source_1_3': 6, 'source_1_4': 3, 'source_1_5': 2, 'source_1_6': 2, 'source_1_7': 1, 'res_layer_index_2': 9, 'num_sources_2': 9, 'source_2_0': 8, 'source_2_1': 8, 'source_2_2': 8, 'source_2_3': 8, 'source_2_4': 7, 'source_2_5': 2, 'source_2_6': 4, 'source_2_7': 8, 'source_2_8': 1, 'res_layer_index_3': 5, 'num_sources_3': 4, 'source_3_0': 1, 'source_3_1': -1, 'source_3_2': 1, 'source_3_3': 2, 'res_layer_index_4': 1, 'num_sources_4': 0, 'res_layer_index_5': 8, 'num_sources_5': 7, 'source_5_0': 4, 'source_5_1': 6, 'source_5_2': 1, 'source_5_3': 5, 'source_5_4': 2, 'source_5_5': 6, 'source_5_6': 5, 'res_layer_index_6': 2, 'num_sources_6': 0, 'res_layer_index_7': 4, 'num_sources_7': 3, 'source_7_0': 1, 'source_7_1': 1, 'source_7_2': 0, 'res_layer_index_8': 7, 'num_sources_8': 3, 'source_8_0': 5, 'source_8_1': 2, 'source_8_2': 2, 'hidden_activation': 'SiLU', 'learning_rate': 0.005947918026331886, 'optimizer_name': 'Adam', 'use_weight_decay': True, 'weight_decay': 1.4844747411490309e-05, 'model_seed': 8106, 'batch_size': 16}. Best is trial 41 with value: 0.04594885930418968.\n"
     ]
    },
    {
     "name": "stdout",
     "output_type": "stream",
     "text": [
      "Early stopping triggered after 136 epochs\n",
      "Trial 96 finished with value: 0.0488\n",
      "Best trial so far: 41 with value: 0.0459\n"
     ]
    },
    {
     "name": "stderr",
     "output_type": "stream",
     "text": [
      "[I 2024-08-24 02:57:30,473] Trial 97 finished with value: 0.08885890245437622 and parameters: {'num_hidden_layers': 8, 'neurons_layer_0': 128, 'neurons_layer_1': 128, 'neurons_layer_2': 512, 'neurons_layer_3': 128, 'neurons_layer_4': 256, 'neurons_layer_5': 128, 'neurons_layer_6': 128, 'neurons_layer_7': 512, 'use_dropout_1': True, 'dropout_prob_1': 0.4360714605635818, 'use_dropout_2': False, 'use_dropout_3': True, 'dropout_prob_3': 0.44116359419119155, 'use_dropout_4': True, 'dropout_prob_4': 0.10042067102194094, 'use_dropout_5': False, 'use_dropout_6': True, 'dropout_prob_6': 0.19219703463197976, 'use_dropout_7': True, 'dropout_prob_7': 0.40050216934454796, 'num_res_connections': 0, 'hidden_activation': 'LeakyReLU', 'learning_rate': 0.01785206548291369, 'optimizer_name': 'Adam', 'use_weight_decay': True, 'weight_decay': 8.599194752496324e-06, 'model_seed': 4674, 'batch_size': 16}. Best is trial 41 with value: 0.04594885930418968.\n"
     ]
    },
    {
     "name": "stdout",
     "output_type": "stream",
     "text": [
      "Early stopping triggered after 101 epochs\n",
      "Trial 97 finished with value: 0.0889\n",
      "Best trial so far: 41 with value: 0.0459\n",
      "Early stopping triggered after 136 epochs\n"
     ]
    },
    {
     "name": "stderr",
     "output_type": "stream",
     "text": [
      "[I 2024-08-24 02:57:37,407] Trial 98 finished with value: 0.04867761954665184 and parameters: {'num_hidden_layers': 10, 'neurons_layer_0': 256, 'neurons_layer_1': 256, 'neurons_layer_2': 256, 'neurons_layer_3': 256, 'neurons_layer_4': 256, 'neurons_layer_5': 128, 'neurons_layer_6': 256, 'neurons_layer_7': 512, 'neurons_layer_8': 256, 'neurons_layer_9': 256, 'use_dropout_1': False, 'use_dropout_2': False, 'use_dropout_3': True, 'dropout_prob_3': 0.4175908499803172, 'use_dropout_4': True, 'dropout_prob_4': 0.05530067158562005, 'use_dropout_5': False, 'use_dropout_6': False, 'use_dropout_7': True, 'dropout_prob_7': 0.2785695935740006, 'use_dropout_8': False, 'use_dropout_9': True, 'dropout_prob_9': 0.1378753336369719, 'num_res_connections': 8, 'res_layer_index_0': 8, 'num_sources_0': 8, 'source_0_0': 5, 'source_0_1': 6, 'source_0_2': 6, 'source_0_3': 6, 'source_0_4': 0, 'source_0_5': 6, 'source_0_6': 1, 'source_0_7': 5, 'res_layer_index_1': 9, 'num_sources_1': 9, 'source_1_0': 7, 'source_1_1': 7, 'source_1_2': 3, 'source_1_3': 7, 'source_1_4': 7, 'source_1_5': 0, 'source_1_6': 0, 'source_1_7': 1, 'source_1_8': 2, 'res_layer_index_2': 8, 'num_sources_2': 7, 'source_2_0': 6, 'source_2_1': 5, 'source_2_2': 7, 'source_2_3': 6, 'source_2_4': 1, 'source_2_5': 3, 'source_2_6': 1, 'res_layer_index_3': 6, 'num_sources_3': 5, 'source_3_0': 2, 'source_3_1': -1, 'source_3_2': 4, 'source_3_3': 4, 'source_3_4': 1, 'res_layer_index_4': 4, 'num_sources_4': 3, 'source_4_0': 2, 'source_4_1': 0, 'source_4_2': 2, 'res_layer_index_5': 4, 'num_sources_5': 3, 'source_5_0': 2, 'source_5_1': 2, 'source_5_2': 1, 'res_layer_index_6': 1, 'num_sources_6': 0, 'res_layer_index_7': 1, 'num_sources_7': 0, 'hidden_activation': 'SiLU', 'learning_rate': 0.011807195211177759, 'optimizer_name': 'AdamW', 'use_weight_decay': True, 'weight_decay': 3.2958651119056487e-06, 'model_seed': 9499, 'batch_size': 32}. Best is trial 41 with value: 0.04594885930418968.\n"
     ]
    },
    {
     "name": "stdout",
     "output_type": "stream",
     "text": [
      "Trial 98 finished with value: 0.0487\n",
      "Best trial so far: 41 with value: 0.0459\n"
     ]
    },
    {
     "name": "stderr",
     "output_type": "stream",
     "text": [
      "[I 2024-08-24 02:57:45,430] Trial 99 finished with value: 0.05237593501806259 and parameters: {'num_hidden_layers': 9, 'neurons_layer_0': 128, 'neurons_layer_1': 512, 'neurons_layer_2': 256, 'neurons_layer_3': 512, 'neurons_layer_4': 128, 'neurons_layer_5': 128, 'neurons_layer_6': 128, 'neurons_layer_7': 256, 'neurons_layer_8': 256, 'use_dropout_1': True, 'dropout_prob_1': 0.2403976612503179, 'use_dropout_2': False, 'use_dropout_3': False, 'use_dropout_4': True, 'dropout_prob_4': 0.13134592801477368, 'use_dropout_5': False, 'use_dropout_6': False, 'use_dropout_7': True, 'dropout_prob_7': 0.33426489112799257, 'use_dropout_8': False, 'num_res_connections': 7, 'res_layer_index_0': 7, 'num_sources_0': 6, 'source_0_0': 1, 'source_0_1': 5, 'source_0_2': 5, 'source_0_3': 5, 'source_0_4': 4, 'source_0_5': 5, 'res_layer_index_1': 7, 'num_sources_1': 6, 'source_1_0': 3, 'source_1_1': 5, 'source_1_2': 2, 'source_1_3': 5, 'source_1_4': 5, 'source_1_5': -1, 'res_layer_index_2': 7, 'num_sources_2': 6, 'source_2_0': 5, 'source_2_1': 0, 'source_2_2': 5, 'source_2_3': 4, 'source_2_4': 2, 'source_2_5': -1, 'res_layer_index_3': 7, 'num_sources_3': 6, 'source_3_0': 0, 'source_3_1': 0, 'source_3_2': -1, 'source_3_3': 3, 'source_3_4': 0, 'source_3_5': -1, 'res_layer_index_4': 2, 'num_sources_4': 1, 'source_4_0': 0, 'res_layer_index_5': 6, 'num_sources_5': 5, 'source_5_0': 4, 'source_5_1': 3, 'source_5_2': -1, 'source_5_3': -1, 'source_5_4': 3, 'res_layer_index_6': 3, 'num_sources_6': 3, 'source_6_0': 1, 'source_6_1': 0, 'source_6_2': -1, 'hidden_activation': 'SiLU', 'learning_rate': 0.009901584774078228, 'optimizer_name': 'Adam', 'use_weight_decay': True, 'weight_decay': 2.178934422444977e-05, 'model_seed': 252, 'batch_size': 16}. Best is trial 41 with value: 0.04594885930418968.\n"
     ]
    },
    {
     "name": "stdout",
     "output_type": "stream",
     "text": [
      "Early stopping triggered after 134 epochs\n",
      "Trial 99 finished with value: 0.0524\n",
      "Best trial so far: 41 with value: 0.0459\n",
      "Best trial:\n",
      "{'num_hidden_layers': 8, 'neurons_layer_0': 128, 'neurons_layer_1': 512, 'neurons_layer_2': 512, 'neurons_layer_3': 256, 'neurons_layer_4': 128, 'neurons_layer_5': 128, 'neurons_layer_6': 256, 'neurons_layer_7': 512, 'use_dropout_1': True, 'dropout_prob_1': 0.12547590010576132, 'use_dropout_2': False, 'use_dropout_3': True, 'dropout_prob_3': 0.4717949191034361, 'use_dropout_4': True, 'dropout_prob_4': 0.1370006814304564, 'use_dropout_5': False, 'use_dropout_6': False, 'use_dropout_7': False, 'num_res_connections': 6, 'res_layer_index_0': 6, 'num_sources_0': 0, 'res_layer_index_1': 3, 'num_sources_1': 1, 'source_1_0': 1, 'res_layer_index_2': 5, 'num_sources_2': 2, 'source_2_0': 3, 'source_2_1': 0, 'res_layer_index_3': 6, 'num_sources_3': 4, 'source_3_0': 1, 'source_3_1': -1, 'source_3_2': -1, 'source_3_3': 4, 'res_layer_index_4': 5, 'num_sources_4': 5, 'source_4_0': 3, 'source_4_1': 1, 'source_4_2': 2, 'source_4_3': 4, 'source_4_4': 3, 'res_layer_index_5': 5, 'num_sources_5': 4, 'source_5_0': 3, 'source_5_1': 4, 'source_5_2': -1, 'source_5_3': 4, 'hidden_activation': 'SiLU', 'learning_rate': 0.005822509634168107, 'optimizer_name': 'Adam', 'use_weight_decay': True, 'weight_decay': 1.9038025426783844e-05, 'model_seed': 7471, 'batch_size': 8}\n"
     ]
    }
   ],
   "source": [
    "import optuna\n",
    "import torch\n",
    "import torch.nn as nn\n",
    "from sklearn.model_selection import train_test_split\n",
    "import os\n",
    "import csv\n",
    "from optuna.samplers import TPESampler\n",
    "from optuna.visualization import plot_param_importances, plot_optimization_history\n",
    "import matplotlib.pyplot as plt\n",
    "import numpy as np\n",
    "from torch.utils.data import DataLoader, TensorDataset\n",
    "\n",
    "np.random.seed(42)\n",
    "# Create directories\n",
    "model_save_dir = \"optuna_DNN\"\n",
    "optuna_studies_dir = \"optuna_studies\"\n",
    "loss_hist_dir = \"loss_hist\"\n",
    "os.makedirs(model_save_dir, exist_ok=True)\n",
    "os.makedirs(optuna_studies_dir, exist_ok=True)\n",
    "os.makedirs(loss_hist_dir, exist_ok=True)\n",
    "\n",
    "\n",
    "\n",
    "device='cuda'\n",
    "train_dataset = TensorDataset(torch.tensor(X_train, dtype=torch.float32).to(device), \n",
    "                            torch.tensor(y_train, dtype=torch.float32).to(device))\n",
    "val_dataset = TensorDataset(torch.tensor(X_test, dtype=torch.float32).to(device), \n",
    "                            torch.tensor(y_test, dtype=torch.float32).to(device))\n",
    "        \n",
    "input_size = X_train.shape[1]\n",
    "output_size = y_train.shape[1]\n",
    "\n",
    "criterion = nn.L1Loss()\n",
    "device = torch.device('cuda' if torch.cuda.is_available() else 'cpu')\n",
    "\n",
    "def DNN_configure(trial):\n",
    "    num_layers = trial.suggest_int('num_hidden_layers', 4, 10)\n",
    "    hidden_layers = [trial.suggest_categorical(f'neurons_layer_{i}', [128, 256, 512]) for i in range(num_layers)]\n",
    "    \n",
    "    dropout = {}\n",
    "    for i in range(1, num_layers):\n",
    "        use_dropout = trial.suggest_categorical(f'use_dropout_{i}', [True, False])\n",
    "        if use_dropout:\n",
    "            dropout[i] = trial.suggest_float(f'dropout_prob_{i}', 0.05, 0.5)\n",
    "        else:\n",
    "            dropout[i] = 0.0\n",
    "    \n",
    "    res = {}\n",
    "    num_res_connections = trial.suggest_int('num_res_connections', 0, num_layers - 1)\n",
    "    for i in range(num_res_connections):\n",
    "        layer_index = trial.suggest_int(f'res_layer_index_{i}', 1, num_layers - 1)\n",
    "        num_sources = trial.suggest_int(f'num_sources_{i}', 0, layer_index)\n",
    "        sources = [trial.suggest_int(f'source_{i}_{j}', -1, layer_index - 1) for j in range(num_sources)]\n",
    "        res[layer_index] = {'sources': sorted(list(set(sources))), 'type': 'linear'}\n",
    "    res = dict(sorted(res.items()))\n",
    "    \n",
    "    hidden_activation = trial.suggest_categorical('hidden_activation', ['ReLU', 'ELU', 'GELU', 'SiLU', 'LeakyReLU'])\n",
    "    \n",
    "    return hidden_layers, dropout, res, hidden_activation\n",
    "\n",
    "def objective(trial):\n",
    "    hidden_layers, dropout, res, hidden_activation = DNN_configure(trial)\n",
    "    learning_rate = trial.suggest_float('learning_rate', 1e-4, 1e-1, log=True)\n",
    "    optimizer_name = trial.suggest_categorical('optimizer_name', ['AdamW', 'Adam'])\n",
    "    weight_decay = trial.suggest_float(\"weight_decay\", 1e-7, 1e-3, log=True) if trial.suggest_categorical(\"use_weight_decay\", [True, False]) else 0.0\n",
    "    \n",
    "    model = ANNModel().create_model(\n",
    "        input_size, output_size, hidden_layers,\n",
    "        residual_connections=res,\n",
    "        dropout_params=dropout,\n",
    "        hidden_activation=hidden_activation,\n",
    "        seed=trial.suggest_int(\"model_seed\", 1, 9999),\n",
    "        scale=False\n",
    "    )\n",
    "\n",
    "    model.to(device)\n",
    "    \n",
    "    batch_size=trial.suggest_categorical('batch_size', [4, 8, 16, 32, 64]) \n",
    "\n",
    "    train_loader = DataLoader(train_dataset, batch_size=batch_size, shuffle=True)\n",
    "    val_loader = DataLoader(val_dataset, batch_size=X_test.shape[0], shuffle=False)\n",
    "\n",
    "    model, train_losses, valid_losses = ANNModel().train_model(\n",
    "        train_loader,val_loader, \n",
    "        epochs=500, \n",
    "        learning_rate=learning_rate, \n",
    "        optimizer_name=optimizer_name,\n",
    "        optimizer_params={}, \n",
    "        device=device, \n",
    "        criterion=criterion, \n",
    "        patience=50, \n",
    "        model=model, \n",
    "        l2_lambda=weight_decay\n",
    "    )\n",
    "    # Save the model\n",
    "    model_save_path = os.path.join(model_save_dir, f\"model_trial_{trial.number}.pth\")\n",
    "    torch.save(model, model_save_path)\n",
    "    \n",
    "    # Save training and validation losses in CSV format\n",
    "    loss_save_path = os.path.join(loss_hist_dir, f\"losses_trial_{trial.number}.csv\")\n",
    "    with open(loss_save_path, mode='w', newline='') as file:\n",
    "        writer = csv.writer(file)\n",
    "        writer.writerow(['Train Losses', 'Validation Losses'])\n",
    "        for train_loss, valid_loss in zip(train_losses, valid_losses):\n",
    "            writer.writerow([train_loss, valid_loss])\n",
    "        \n",
    "    return min(valid_losses)\n",
    "\n",
    "\n",
    "\n",
    "# Callback function to log information during optimization\n",
    "def log_best_trials(study, trial):\n",
    "    print(f\"Trial {trial.number} finished with value: {trial.value:.4f}\")\n",
    "    print(f\"Best trial so far: {study.best_trial.number} with value: {study.best_trial.value:.4f}\")\n",
    "\n",
    "# Create the study object with persistence\n",
    "storage_name = f\"sqlite:///{os.path.join(optuna_studies_dir, 'dnn_optimization.db')}\"\n",
    "study_name = \"dnn_optimization_study_v1\"\n",
    "\n",
    "sampler = TPESampler(n_startup_trials=40, seed=42)\n",
    "\n",
    "\n",
    "study = optuna.create_study(\n",
    "    direction='minimize',\n",
    "    sampler=sampler,\n",
    "    storage=storage_name,\n",
    "    study_name=study_name,\n",
    "    load_if_exists=True\n",
    ")\n",
    "\n",
    "# Run the optimization with callback\n",
    "study.optimize(objective, n_trials=100, callbacks=[log_best_trials])\n",
    "\n",
    "print(\"Best trial:\")\n",
    "print(study.best_trial.params)\n",
    "\n"
   ]
  },
  {
   "cell_type": "code",
   "execution_count": 5,
   "metadata": {},
   "outputs": [
    {
     "name": "stdout",
     "output_type": "stream",
     "text": [
      "Best trial:\n",
      "{'num_hidden_layers': 8, 'neurons_layer_0': 128, 'neurons_layer_1': 512, 'neurons_layer_2': 512, 'neurons_layer_3': 256, 'neurons_layer_4': 128, 'neurons_layer_5': 128, 'neurons_layer_6': 256, 'neurons_layer_7': 512, 'use_dropout_1': True, 'dropout_prob_1': 0.12547590010576132, 'use_dropout_2': False, 'use_dropout_3': True, 'dropout_prob_3': 0.4717949191034361, 'use_dropout_4': True, 'dropout_prob_4': 0.1370006814304564, 'use_dropout_5': False, 'use_dropout_6': False, 'use_dropout_7': False, 'num_res_connections': 6, 'res_layer_index_0': 6, 'num_sources_0': 0, 'res_layer_index_1': 3, 'num_sources_1': 1, 'source_1_0': 1, 'res_layer_index_2': 5, 'num_sources_2': 2, 'source_2_0': 3, 'source_2_1': 0, 'res_layer_index_3': 6, 'num_sources_3': 4, 'source_3_0': 1, 'source_3_1': -1, 'source_3_2': -1, 'source_3_3': 4, 'res_layer_index_4': 5, 'num_sources_4': 5, 'source_4_0': 3, 'source_4_1': 1, 'source_4_2': 2, 'source_4_3': 4, 'source_4_4': 3, 'res_layer_index_5': 5, 'num_sources_5': 4, 'source_5_0': 3, 'source_5_1': 4, 'source_5_2': -1, 'source_5_3': 4, 'hidden_activation': 'SiLU', 'learning_rate': 0.005822509634168107, 'optimizer_name': 'Adam', 'use_weight_decay': True, 'weight_decay': 1.9038025426783844e-05, 'model_seed': 7471, 'batch_size': 8}\n"
     ]
    },
    {
     "name": "stderr",
     "output_type": "stream",
     "text": [
      "[W 2024-08-24 03:03:30,659] Your study has only completed trials with missing parameters.\n"
     ]
    },
    {
     "name": "stdout",
     "output_type": "stream",
     "text": [
      "Visualizations saved as HTML files in the optuna_studies directory\n",
      "Study saved in optuna_studies\n"
     ]
    }
   ],
   "source": [
    "import optuna\n",
    "import optuna.visualization as vis\n",
    "import os\n",
    "\n",
    "\n",
    "def save_optimization_history(study):\n",
    "    try:\n",
    "        fig = vis.plot_optimization_history(study)\n",
    "        fig.write_html(os.path.join(optuna_studies_dir, \"optimization_history.html\"))\n",
    "    except Exception as e:\n",
    "        print(f\"Could not generate optimization history plot: {str(e)}\")\n",
    "\n",
    "def save_param_importances(study):\n",
    "    try:\n",
    "        fig = vis.plot_param_importances(study)\n",
    "        fig.write_html(os.path.join(optuna_studies_dir, \"param_importances.html\"))\n",
    "    except Exception as e:\n",
    "        print(f\"Could not generate parameter importances plot: {str(e)}\")\n",
    "\n",
    "def save_parallel_coordinate(study):\n",
    "    try:\n",
    "        fig = vis.plot_parallel_coordinate(study)\n",
    "        fig.write_html(os.path.join(optuna_studies_dir, \"parallel_coordinate.html\"))\n",
    "    except Exception as e:\n",
    "        print(f\"Could not generate parallel coordinate plot: {str(e)}\")\n",
    "\n",
    "def save_slice_plot(study):\n",
    "    try:\n",
    "        fig = vis.plot_slice(study)\n",
    "        fig.write_html(os.path.join(optuna_studies_dir, \"slice_plot.html\"))\n",
    "    except Exception as e:\n",
    "        print(f\"Could not generate slice plot: {str(e)}\")\n",
    "\n",
    "# After optimization\n",
    "print(\"Best trial:\")\n",
    "print(study.best_trial.params)\n",
    "\n",
    "# Generate and save visualizations\n",
    "if len(study.trials) > 1:  # Only attempt to visualize if there's more than one trial\n",
    "    save_optimization_history(study)\n",
    "    save_param_importances(study)\n",
    "    save_parallel_coordinate(study)\n",
    "    save_slice_plot(study)\n",
    "    print(\"Visualizations saved as HTML files in the optuna_studies directory\")\n",
    "else:\n",
    "    print(\"Not enough trials to generate visualizations\")\n",
    "\n",
    "print(f\"Study saved in {optuna_studies_dir}\")"
   ]
  },
  {
   "cell_type": "code",
   "execution_count": 4,
   "metadata": {},
   "outputs": [],
   "source": [
    "# import os\n",
    "# import shutil\n",
    "\n",
    "# #                                        ____________  carefully run this !!! it remove your repositories! _____________\n",
    "# def clear_directories(*dirs):\n",
    "#     for dir_path in dirs:\n",
    "#         if os.path.exists(dir_path):\n",
    "#             # Remove all contents of the directory\n",
    "#             for filename in os.listdir(dir_path):\n",
    "#                 file_path = os.path.join(dir_path, filename)\n",
    "#                 try:\n",
    "#                     if os.path.isfile(file_path) or os.path.islink(file_path):\n",
    "#                         os.unlink(file_path)\n",
    "#                     elif os.path.isdir(file_path):\n",
    "#                         shutil.rmtree(file_path)\n",
    "#                 except Exception as e:\n",
    "#                     print(f'Failed to delete {file_path}. Reason: {e}')\n",
    "#             print(f\"Cleared contents of {dir_path}\")\n",
    "#         else:\n",
    "#             # If the directory doesn't exist, create it\n",
    "#             os.makedirs(dir_path)\n",
    "#             print(f\"Created directory {dir_path}\")\n",
    "\n",
    "# # Usage\n",
    "# model_save_dir = \"optuna_DNN\"\n",
    "# optuna_studies_dir = \"optuna_studies\"\n",
    "# loss_hist_dir=\"loss_hist\"\n",
    "# clear_directories(model_save_dir, optuna_studies_dir, loss_hist_dir)"
   ]
  }
 ],
 "metadata": {
  "kernelspec": {
   "display_name": "myAI",
   "language": "python",
   "name": "python3"
  },
  "language_info": {
   "codemirror_mode": {
    "name": "ipython",
    "version": 3
   },
   "file_extension": ".py",
   "mimetype": "text/x-python",
   "name": "python",
   "nbconvert_exporter": "python",
   "pygments_lexer": "ipython3",
   "version": "3.11.5"
  }
 },
 "nbformat": 4,
 "nbformat_minor": 2
}
